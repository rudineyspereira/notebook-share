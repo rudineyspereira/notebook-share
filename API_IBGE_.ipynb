{
 "cells": [
  {
   "cell_type": "code",
   "execution_count": 65,
   "metadata": {
    "id": "lFx0GhpX9E4O"
   },
   "outputs": [],
   "source": [
    "import pandas as pd"
   ]
  },
  {
   "cell_type": "markdown",
   "metadata": {
    "id": "s53SnwIVMQ12"
   },
   "source": [
    "## Link de referência IBGE para acesso a API e efetuar o download de dados espaciais:<br>[Acesse aqui a API do IBGE de Localidades](https://servicodados.ibge.gov.br/api/docs/localidades#api-_)"
   ]
  },
  {
   "cell_type": "code",
   "execution_count": null,
   "metadata": {
    "id": "6bwGjmkW9Sel"
   },
   "outputs": [],
   "source": [
    "# O código 43 indica todos os municípios do Estado do Rio Grande do Sul\n",
    "municipios_RS = pd.read_json(\"https://servicodados.ibge.gov.br/api/v1/localidades/estados/43/municipios\")"
   ]
  },
  {
   "cell_type": "code",
   "execution_count": null,
   "metadata": {
    "colab": {
     "base_uri": "https://localhost:8080/",
     "height": 203
    },
    "id": "awl5RL2V9SZ7",
    "outputId": "22b556aa-2d27-4f39-e272-4b493a4f8ca2"
   },
   "outputs": [
    {
     "data": {
      "text/html": [
       "<div>\n",
       "<style scoped>\n",
       "    .dataframe tbody tr th:only-of-type {\n",
       "        vertical-align: middle;\n",
       "    }\n",
       "\n",
       "    .dataframe tbody tr th {\n",
       "        vertical-align: top;\n",
       "    }\n",
       "\n",
       "    .dataframe thead th {\n",
       "        text-align: right;\n",
       "    }\n",
       "</style>\n",
       "<table border=\"1\" class=\"dataframe\">\n",
       "  <thead>\n",
       "    <tr style=\"text-align: right;\">\n",
       "      <th></th>\n",
       "      <th>id</th>\n",
       "      <th>nome</th>\n",
       "      <th>microrregiao</th>\n",
       "      <th>regiao-imediata</th>\n",
       "    </tr>\n",
       "  </thead>\n",
       "  <tbody>\n",
       "    <tr>\n",
       "      <th>0</th>\n",
       "      <td>4300034</td>\n",
       "      <td>Aceguá</td>\n",
       "      <td>{'id': 43031, 'nome': 'Campanha Meridional', '...</td>\n",
       "      <td>{'id': 430010, 'nome': 'Bagé', 'regiao-interme...</td>\n",
       "    </tr>\n",
       "    <tr>\n",
       "      <th>1</th>\n",
       "      <td>4300059</td>\n",
       "      <td>Água Santa</td>\n",
       "      <td>{'id': 43010, 'nome': 'Passo Fundo', 'mesorreg...</td>\n",
       "      <td>{'id': 430032, 'nome': 'Tapejara - Sananduva',...</td>\n",
       "    </tr>\n",
       "    <tr>\n",
       "      <th>2</th>\n",
       "      <td>4300109</td>\n",
       "      <td>Agudo</td>\n",
       "      <td>{'id': 43019, 'nome': 'Restinga Seca', 'mesorr...</td>\n",
       "      <td>{'id': 430011, 'nome': 'Santa Maria', 'regiao-...</td>\n",
       "    </tr>\n",
       "    <tr>\n",
       "      <th>3</th>\n",
       "      <td>4300208</td>\n",
       "      <td>Ajuricaba</td>\n",
       "      <td>{'id': 43008, 'nome': 'Ijuí', 'mesorregiao': {...</td>\n",
       "      <td>{'id': 430018, 'nome': 'Ijuí', 'regiao-interme...</td>\n",
       "    </tr>\n",
       "    <tr>\n",
       "      <th>4</th>\n",
       "      <td>4300307</td>\n",
       "      <td>Alecrim</td>\n",
       "      <td>{'id': 43001, 'nome': 'Santa Rosa', 'mesorregi...</td>\n",
       "      <td>{'id': 430019, 'nome': 'Santa Rosa', 'regiao-i...</td>\n",
       "    </tr>\n",
       "  </tbody>\n",
       "</table>\n",
       "</div>"
      ],
      "text/plain": [
       "        id  ...                                    regiao-imediata\n",
       "0  4300034  ...  {'id': 430010, 'nome': 'Bagé', 'regiao-interme...\n",
       "1  4300059  ...  {'id': 430032, 'nome': 'Tapejara - Sananduva',...\n",
       "2  4300109  ...  {'id': 430011, 'nome': 'Santa Maria', 'regiao-...\n",
       "3  4300208  ...  {'id': 430018, 'nome': 'Ijuí', 'regiao-interme...\n",
       "4  4300307  ...  {'id': 430019, 'nome': 'Santa Rosa', 'regiao-i...\n",
       "\n",
       "[5 rows x 4 columns]"
      ]
     },
     "execution_count": 3,
     "metadata": {
      "tags": []
     },
     "output_type": "execute_result"
    }
   ],
   "source": [
    "municipios_RS.head()"
   ]
  },
  {
   "cell_type": "code",
   "execution_count": null,
   "metadata": {
    "colab": {
     "base_uri": "https://localhost:8080/",
     "height": 417
    },
    "id": "x2QAikr2_syS",
    "outputId": "c03c15fd-ffcf-43d1-dfd9-048bc01fff9a"
   },
   "outputs": [
    {
     "data": {
      "text/html": [
       "<div>\n",
       "<style scoped>\n",
       "    .dataframe tbody tr th:only-of-type {\n",
       "        vertical-align: middle;\n",
       "    }\n",
       "\n",
       "    .dataframe tbody tr th {\n",
       "        vertical-align: top;\n",
       "    }\n",
       "\n",
       "    .dataframe thead th {\n",
       "        text-align: right;\n",
       "    }\n",
       "</style>\n",
       "<table border=\"1\" class=\"dataframe\">\n",
       "  <thead>\n",
       "    <tr style=\"text-align: right;\">\n",
       "      <th></th>\n",
       "      <th>id</th>\n",
       "      <th>nome</th>\n",
       "    </tr>\n",
       "  </thead>\n",
       "  <tbody>\n",
       "    <tr>\n",
       "      <th>0</th>\n",
       "      <td>4300034</td>\n",
       "      <td>Aceguá</td>\n",
       "    </tr>\n",
       "    <tr>\n",
       "      <th>1</th>\n",
       "      <td>4300059</td>\n",
       "      <td>Água Santa</td>\n",
       "    </tr>\n",
       "    <tr>\n",
       "      <th>2</th>\n",
       "      <td>4300109</td>\n",
       "      <td>Agudo</td>\n",
       "    </tr>\n",
       "    <tr>\n",
       "      <th>3</th>\n",
       "      <td>4300208</td>\n",
       "      <td>Ajuricaba</td>\n",
       "    </tr>\n",
       "    <tr>\n",
       "      <th>4</th>\n",
       "      <td>4300307</td>\n",
       "      <td>Alecrim</td>\n",
       "    </tr>\n",
       "    <tr>\n",
       "      <th>...</th>\n",
       "      <td>...</td>\n",
       "      <td>...</td>\n",
       "    </tr>\n",
       "    <tr>\n",
       "      <th>492</th>\n",
       "      <td>4323606</td>\n",
       "      <td>Vista Alegre do Prata</td>\n",
       "    </tr>\n",
       "    <tr>\n",
       "      <th>493</th>\n",
       "      <td>4323705</td>\n",
       "      <td>Vista Gaúcha</td>\n",
       "    </tr>\n",
       "    <tr>\n",
       "      <th>494</th>\n",
       "      <td>4323754</td>\n",
       "      <td>Vitória das Missões</td>\n",
       "    </tr>\n",
       "    <tr>\n",
       "      <th>495</th>\n",
       "      <td>4323770</td>\n",
       "      <td>Westfália</td>\n",
       "    </tr>\n",
       "    <tr>\n",
       "      <th>496</th>\n",
       "      <td>4323804</td>\n",
       "      <td>Xangri-lá</td>\n",
       "    </tr>\n",
       "  </tbody>\n",
       "</table>\n",
       "<p>497 rows × 2 columns</p>\n",
       "</div>"
      ],
      "text/plain": [
       "          id                   nome\n",
       "0    4300034                 Aceguá\n",
       "1    4300059             Água Santa\n",
       "2    4300109                  Agudo\n",
       "3    4300208              Ajuricaba\n",
       "4    4300307                Alecrim\n",
       "..       ...                    ...\n",
       "492  4323606  Vista Alegre do Prata\n",
       "493  4323705           Vista Gaúcha\n",
       "494  4323754    Vitória das Missões\n",
       "495  4323770              Westfália\n",
       "496  4323804              Xangri-lá\n",
       "\n",
       "[497 rows x 2 columns]"
      ]
     },
     "execution_count": 4,
     "metadata": {
      "tags": []
     },
     "output_type": "execute_result"
    }
   ],
   "source": [
    "# Consulta número do município (id) e nome\n",
    "municipios_RS[['id','nome']]"
   ]
  },
  {
   "cell_type": "code",
   "execution_count": null,
   "metadata": {
    "colab": {
     "base_uri": "https://localhost:8080/",
     "height": 80
    },
    "id": "QqS7qlZ-_ssL",
    "outputId": "d8e89a68-76b1-45e6-c88f-d97878733712"
   },
   "outputs": [
    {
     "data": {
      "text/html": [
       "<div>\n",
       "<style scoped>\n",
       "    .dataframe tbody tr th:only-of-type {\n",
       "        vertical-align: middle;\n",
       "    }\n",
       "\n",
       "    .dataframe tbody tr th {\n",
       "        vertical-align: top;\n",
       "    }\n",
       "\n",
       "    .dataframe thead th {\n",
       "        text-align: right;\n",
       "    }\n",
       "</style>\n",
       "<table border=\"1\" class=\"dataframe\">\n",
       "  <thead>\n",
       "    <tr style=\"text-align: right;\">\n",
       "      <th></th>\n",
       "      <th>id</th>\n",
       "      <th>nome</th>\n",
       "      <th>microrregiao</th>\n",
       "      <th>regiao-imediata</th>\n",
       "    </tr>\n",
       "  </thead>\n",
       "  <tbody>\n",
       "    <tr>\n",
       "      <th>364</th>\n",
       "      <td>4316907</td>\n",
       "      <td>Santa Maria</td>\n",
       "      <td>{'id': 43018, 'nome': 'Santa Maria', 'mesorreg...</td>\n",
       "      <td>{'id': 430011, 'nome': 'Santa Maria', 'regiao-...</td>\n",
       "    </tr>\n",
       "  </tbody>\n",
       "</table>\n",
       "</div>"
      ],
      "text/plain": [
       "          id  ...                                    regiao-imediata\n",
       "364  4316907  ...  {'id': 430011, 'nome': 'Santa Maria', 'regiao-...\n",
       "\n",
       "[1 rows x 4 columns]"
      ]
     },
     "execution_count": 5,
     "metadata": {
      "tags": []
     },
     "output_type": "execute_result"
    }
   ],
   "source": [
    "# Usando o método 'query' para encontrar dados de Santa Maria\n",
    "municipios_RS.query('nome == \"Santa Maria\"')"
   ]
  },
  {
   "cell_type": "code",
   "execution_count": null,
   "metadata": {
    "id": "_-amPaX6_soM"
   },
   "outputs": [],
   "source": [
    "# Baixando a lista de subdistritos de Santa Maria\n",
    "subdistritos_Santa_Maria = pd.read_json(\"https://servicodados.ibge.gov.br/api/v1/localidades/municipios/4316907/subdistritos\")"
   ]
  },
  {
   "cell_type": "code",
   "execution_count": null,
   "metadata": {
    "colab": {
     "base_uri": "https://localhost:8080/",
     "height": 203
    },
    "id": "PDE2GRog_sj9",
    "outputId": "5fdf2b4f-4cfb-4be8-af6a-757e81d7ef0a"
   },
   "outputs": [
    {
     "data": {
      "text/html": [
       "<div>\n",
       "<style scoped>\n",
       "    .dataframe tbody tr th:only-of-type {\n",
       "        vertical-align: middle;\n",
       "    }\n",
       "\n",
       "    .dataframe tbody tr th {\n",
       "        vertical-align: top;\n",
       "    }\n",
       "\n",
       "    .dataframe thead th {\n",
       "        text-align: right;\n",
       "    }\n",
       "</style>\n",
       "<table border=\"1\" class=\"dataframe\">\n",
       "  <thead>\n",
       "    <tr style=\"text-align: right;\">\n",
       "      <th></th>\n",
       "      <th>id</th>\n",
       "      <th>nome</th>\n",
       "      <th>distrito</th>\n",
       "    </tr>\n",
       "  </thead>\n",
       "  <tbody>\n",
       "    <tr>\n",
       "      <th>0</th>\n",
       "      <td>43169070506</td>\n",
       "      <td>Centro Urbano</td>\n",
       "      <td>{'id': 431690705, 'nome': 'Santa Maria', 'muni...</td>\n",
       "    </tr>\n",
       "    <tr>\n",
       "      <th>1</th>\n",
       "      <td>43169070507</td>\n",
       "      <td>Norte</td>\n",
       "      <td>{'id': 431690705, 'nome': 'Santa Maria', 'muni...</td>\n",
       "    </tr>\n",
       "    <tr>\n",
       "      <th>2</th>\n",
       "      <td>43169070508</td>\n",
       "      <td>Nordeste</td>\n",
       "      <td>{'id': 431690705, 'nome': 'Santa Maria', 'muni...</td>\n",
       "    </tr>\n",
       "    <tr>\n",
       "      <th>3</th>\n",
       "      <td>43169070509</td>\n",
       "      <td>Leste</td>\n",
       "      <td>{'id': 431690705, 'nome': 'Santa Maria', 'muni...</td>\n",
       "    </tr>\n",
       "    <tr>\n",
       "      <th>4</th>\n",
       "      <td>43169070510</td>\n",
       "      <td>Centro-Leste</td>\n",
       "      <td>{'id': 431690705, 'nome': 'Santa Maria', 'muni...</td>\n",
       "    </tr>\n",
       "  </tbody>\n",
       "</table>\n",
       "</div>"
      ],
      "text/plain": [
       "            id  ...                                           distrito\n",
       "0  43169070506  ...  {'id': 431690705, 'nome': 'Santa Maria', 'muni...\n",
       "1  43169070507  ...  {'id': 431690705, 'nome': 'Santa Maria', 'muni...\n",
       "2  43169070508  ...  {'id': 431690705, 'nome': 'Santa Maria', 'muni...\n",
       "3  43169070509  ...  {'id': 431690705, 'nome': 'Santa Maria', 'muni...\n",
       "4  43169070510  ...  {'id': 431690705, 'nome': 'Santa Maria', 'muni...\n",
       "\n",
       "[5 rows x 3 columns]"
      ]
     },
     "execution_count": 7,
     "metadata": {
      "tags": []
     },
     "output_type": "execute_result"
    }
   ],
   "source": [
    "subdistritos_Santa_Maria.head()"
   ]
  },
  {
   "cell_type": "code",
   "execution_count": null,
   "metadata": {
    "id": "AfydKrF49SWx"
   },
   "outputs": [],
   "source": [
    "# Escreve um arquivo formato CSV dos dados dos subdistritos de Santa Maria\n",
    "subdistritos_Santa_Maria.to_csv(\"subdistritos_SMA.csv\")"
   ]
  },
  {
   "cell_type": "code",
   "execution_count": null,
   "metadata": {
    "id": "g61uI4FY9STS"
   },
   "outputs": [],
   "source": [
    "# Lista de municípios basileiros\n",
    "municipios_BR = pd.read_json(\"https://servicodados.ibge.gov.br/api/v1/localidades/municipios?orderBy=nome\")"
   ]
  },
  {
   "cell_type": "code",
   "execution_count": null,
   "metadata": {
    "colab": {
     "base_uri": "https://localhost:8080/",
     "height": 203
    },
    "id": "kpXWZMFG9SPf",
    "outputId": "340e4522-d7ad-4105-adf4-7e6008a5d5a0"
   },
   "outputs": [
    {
     "data": {
      "text/html": [
       "<div>\n",
       "<style scoped>\n",
       "    .dataframe tbody tr th:only-of-type {\n",
       "        vertical-align: middle;\n",
       "    }\n",
       "\n",
       "    .dataframe tbody tr th {\n",
       "        vertical-align: top;\n",
       "    }\n",
       "\n",
       "    .dataframe thead th {\n",
       "        text-align: right;\n",
       "    }\n",
       "</style>\n",
       "<table border=\"1\" class=\"dataframe\">\n",
       "  <thead>\n",
       "    <tr style=\"text-align: right;\">\n",
       "      <th></th>\n",
       "      <th>id</th>\n",
       "      <th>nome</th>\n",
       "      <th>microrregiao</th>\n",
       "      <th>regiao-imediata</th>\n",
       "    </tr>\n",
       "  </thead>\n",
       "  <tbody>\n",
       "    <tr>\n",
       "      <th>0</th>\n",
       "      <td>5200050</td>\n",
       "      <td>Abadia de Goiás</td>\n",
       "      <td>{'id': 52010, 'nome': 'Goiânia', 'mesorregiao'...</td>\n",
       "      <td>{'id': 520001, 'nome': 'Goiânia', 'regiao-inte...</td>\n",
       "    </tr>\n",
       "    <tr>\n",
       "      <th>1</th>\n",
       "      <td>3100104</td>\n",
       "      <td>Abadia dos Dourados</td>\n",
       "      <td>{'id': 31019, 'nome': 'Patrocínio', 'mesorregi...</td>\n",
       "      <td>{'id': 310061, 'nome': 'Monte Carmelo', 'regia...</td>\n",
       "    </tr>\n",
       "    <tr>\n",
       "      <th>2</th>\n",
       "      <td>5200100</td>\n",
       "      <td>Abadiânia</td>\n",
       "      <td>{'id': 52012, 'nome': 'Entorno de Brasília', '...</td>\n",
       "      <td>{'id': 520002, 'nome': 'Anápolis', 'regiao-int...</td>\n",
       "    </tr>\n",
       "    <tr>\n",
       "      <th>3</th>\n",
       "      <td>3100203</td>\n",
       "      <td>Abaeté</td>\n",
       "      <td>{'id': 31024, 'nome': 'Três Marias', 'mesorreg...</td>\n",
       "      <td>{'id': 310070, 'nome': 'Abaeté', 'regiao-inter...</td>\n",
       "    </tr>\n",
       "    <tr>\n",
       "      <th>4</th>\n",
       "      <td>1500107</td>\n",
       "      <td>Abaetetuba</td>\n",
       "      <td>{'id': 15011, 'nome': 'Cametá', 'mesorregiao':...</td>\n",
       "      <td>{'id': 150003, 'nome': 'Abaetetuba', 'regiao-i...</td>\n",
       "    </tr>\n",
       "  </tbody>\n",
       "</table>\n",
       "</div>"
      ],
      "text/plain": [
       "        id  ...                                    regiao-imediata\n",
       "0  5200050  ...  {'id': 520001, 'nome': 'Goiânia', 'regiao-inte...\n",
       "1  3100104  ...  {'id': 310061, 'nome': 'Monte Carmelo', 'regia...\n",
       "2  5200100  ...  {'id': 520002, 'nome': 'Anápolis', 'regiao-int...\n",
       "3  3100203  ...  {'id': 310070, 'nome': 'Abaeté', 'regiao-inter...\n",
       "4  1500107  ...  {'id': 150003, 'nome': 'Abaetetuba', 'regiao-i...\n",
       "\n",
       "[5 rows x 4 columns]"
      ]
     },
     "execution_count": 14,
     "metadata": {
      "tags": []
     },
     "output_type": "execute_result"
    }
   ],
   "source": [
    "municipios_BR.head()"
   ]
  },
  {
   "cell_type": "code",
   "execution_count": null,
   "metadata": {
    "colab": {
     "base_uri": "https://localhost:8080/"
    },
    "id": "5-oYYV6D9R8H",
    "outputId": "96a6e2dc-14c0-4961-d056-14085d9ea30d"
   },
   "outputs": [
    {
     "data": {
      "text/plain": [
       "(5570, 4)"
      ]
     },
     "execution_count": 15,
     "metadata": {
      "tags": []
     },
     "output_type": "execute_result"
    }
   ],
   "source": [
    "municipios_BR.shape"
   ]
  },
  {
   "cell_type": "code",
   "execution_count": null,
   "metadata": {
    "id": "LF0xLzrRU1C4"
   },
   "outputs": [],
   "source": [
    "municipios_Regiao_Sul = pd.read_json(\"https://servicodados.ibge.gov.br/api/v1/localidades/estados/43%7C42%7C41/municipios\")"
   ]
  },
  {
   "cell_type": "code",
   "execution_count": null,
   "metadata": {
    "colab": {
     "base_uri": "https://localhost:8080/",
     "height": 203
    },
    "id": "V-kd4IifU0_6",
    "outputId": "51ffca5a-48a7-4afe-869c-25101659941e"
   },
   "outputs": [
    {
     "data": {
      "text/html": [
       "<div>\n",
       "<style scoped>\n",
       "    .dataframe tbody tr th:only-of-type {\n",
       "        vertical-align: middle;\n",
       "    }\n",
       "\n",
       "    .dataframe tbody tr th {\n",
       "        vertical-align: top;\n",
       "    }\n",
       "\n",
       "    .dataframe thead th {\n",
       "        text-align: right;\n",
       "    }\n",
       "</style>\n",
       "<table border=\"1\" class=\"dataframe\">\n",
       "  <thead>\n",
       "    <tr style=\"text-align: right;\">\n",
       "      <th></th>\n",
       "      <th>id</th>\n",
       "      <th>nome</th>\n",
       "      <th>microrregiao</th>\n",
       "      <th>regiao-imediata</th>\n",
       "    </tr>\n",
       "  </thead>\n",
       "  <tbody>\n",
       "    <tr>\n",
       "      <th>0</th>\n",
       "      <td>4100103</td>\n",
       "      <td>Abatiá</td>\n",
       "      <td>{'id': 41015, 'nome': 'Cornélio Procópio', 'me...</td>\n",
       "      <td>{'id': 410022, 'nome': 'Santo Antônio da Plati...</td>\n",
       "    </tr>\n",
       "    <tr>\n",
       "      <th>1</th>\n",
       "      <td>4100202</td>\n",
       "      <td>Adrianópolis</td>\n",
       "      <td>{'id': 41035, 'nome': 'Cerro Azul', 'mesorregi...</td>\n",
       "      <td>{'id': 410001, 'nome': 'Curitiba', 'regiao-int...</td>\n",
       "    </tr>\n",
       "    <tr>\n",
       "      <th>2</th>\n",
       "      <td>4100301</td>\n",
       "      <td>Agudos do Sul</td>\n",
       "      <td>{'id': 41039, 'nome': 'Rio Negro', 'mesorregia...</td>\n",
       "      <td>{'id': 410001, 'nome': 'Curitiba', 'regiao-int...</td>\n",
       "    </tr>\n",
       "    <tr>\n",
       "      <th>3</th>\n",
       "      <td>4100400</td>\n",
       "      <td>Almirante Tamandaré</td>\n",
       "      <td>{'id': 41037, 'nome': 'Curitiba', 'mesorregiao...</td>\n",
       "      <td>{'id': 410001, 'nome': 'Curitiba', 'regiao-int...</td>\n",
       "    </tr>\n",
       "    <tr>\n",
       "      <th>4</th>\n",
       "      <td>4100459</td>\n",
       "      <td>Altamira do Paraná</td>\n",
       "      <td>{'id': 41004, 'nome': 'Goioerê', 'mesorregiao'...</td>\n",
       "      <td>{'id': 410015, 'nome': 'Campo Mourão', 'regiao...</td>\n",
       "    </tr>\n",
       "  </tbody>\n",
       "</table>\n",
       "</div>"
      ],
      "text/plain": [
       "        id  ...                                    regiao-imediata\n",
       "0  4100103  ...  {'id': 410022, 'nome': 'Santo Antônio da Plati...\n",
       "1  4100202  ...  {'id': 410001, 'nome': 'Curitiba', 'regiao-int...\n",
       "2  4100301  ...  {'id': 410001, 'nome': 'Curitiba', 'regiao-int...\n",
       "3  4100400  ...  {'id': 410001, 'nome': 'Curitiba', 'regiao-int...\n",
       "4  4100459  ...  {'id': 410015, 'nome': 'Campo Mourão', 'regiao...\n",
       "\n",
       "[5 rows x 4 columns]"
      ]
     },
     "execution_count": 17,
     "metadata": {
      "tags": []
     },
     "output_type": "execute_result"
    }
   ],
   "source": [
    "municipios_Regiao_Sul.head()"
   ]
  },
  {
   "cell_type": "markdown",
   "metadata": {
    "id": "h5_vBHssq8bV"
   },
   "source": [
    "### API IBGE para malhas geográficas.<br>[Acesse a API malhas municipais](https://servicodados.ibge.gov.br/api/docs/malhas?versao=3#api-bq)"
   ]
  },
  {
   "cell_type": "code",
   "execution_count": null,
   "metadata": {
    "id": "mfbWQRfqU08Z"
   },
   "outputs": [],
   "source": [
    "malha_municipios_BR = pd.read_json(\"https://servicodados.ibge.gov.br/api/v3/malhas/paises/BR?formato=application/vnd.geo+json&qualidade=maxima&intrarregiao=municipio\")"
   ]
  },
  {
   "cell_type": "code",
   "execution_count": null,
   "metadata": {
    "colab": {
     "base_uri": "https://localhost:8080/",
     "height": 203
    },
    "id": "f4ugq24rU05I",
    "outputId": "7caceb03-22bc-4bc0-ae8a-a8027daa2146"
   },
   "outputs": [
    {
     "data": {
      "text/html": [
       "<div>\n",
       "<style scoped>\n",
       "    .dataframe tbody tr th:only-of-type {\n",
       "        vertical-align: middle;\n",
       "    }\n",
       "\n",
       "    .dataframe tbody tr th {\n",
       "        vertical-align: top;\n",
       "    }\n",
       "\n",
       "    .dataframe thead th {\n",
       "        text-align: right;\n",
       "    }\n",
       "</style>\n",
       "<table border=\"1\" class=\"dataframe\">\n",
       "  <thead>\n",
       "    <tr style=\"text-align: right;\">\n",
       "      <th></th>\n",
       "      <th>type</th>\n",
       "      <th>features</th>\n",
       "    </tr>\n",
       "  </thead>\n",
       "  <tbody>\n",
       "    <tr>\n",
       "      <th>0</th>\n",
       "      <td>FeatureCollection</td>\n",
       "      <td>{'type': 'Feature', 'geometry': {'type': 'Poly...</td>\n",
       "    </tr>\n",
       "    <tr>\n",
       "      <th>1</th>\n",
       "      <td>FeatureCollection</td>\n",
       "      <td>{'type': 'Feature', 'geometry': {'type': 'Poly...</td>\n",
       "    </tr>\n",
       "    <tr>\n",
       "      <th>2</th>\n",
       "      <td>FeatureCollection</td>\n",
       "      <td>{'type': 'Feature', 'geometry': {'type': 'Poly...</td>\n",
       "    </tr>\n",
       "    <tr>\n",
       "      <th>3</th>\n",
       "      <td>FeatureCollection</td>\n",
       "      <td>{'type': 'Feature', 'geometry': {'type': 'Poly...</td>\n",
       "    </tr>\n",
       "    <tr>\n",
       "      <th>4</th>\n",
       "      <td>FeatureCollection</td>\n",
       "      <td>{'type': 'Feature', 'geometry': {'type': 'Poly...</td>\n",
       "    </tr>\n",
       "  </tbody>\n",
       "</table>\n",
       "</div>"
      ],
      "text/plain": [
       "                type                                           features\n",
       "0  FeatureCollection  {'type': 'Feature', 'geometry': {'type': 'Poly...\n",
       "1  FeatureCollection  {'type': 'Feature', 'geometry': {'type': 'Poly...\n",
       "2  FeatureCollection  {'type': 'Feature', 'geometry': {'type': 'Poly...\n",
       "3  FeatureCollection  {'type': 'Feature', 'geometry': {'type': 'Poly...\n",
       "4  FeatureCollection  {'type': 'Feature', 'geometry': {'type': 'Poly..."
      ]
     },
     "execution_count": 20,
     "metadata": {
      "tags": []
     },
     "output_type": "execute_result"
    }
   ],
   "source": [
    "malha_municipios_BR.head()"
   ]
  },
  {
   "cell_type": "code",
   "execution_count": null,
   "metadata": {
    "id": "rKw8worAU01z"
   },
   "outputs": [],
   "source": [
    "# Escreve o dataframe 'malha_municipios_BR' para um arquivo 'malha_BR.csv'\n",
    "malha_municipios_BR.to_csv(\"malha_BR.csv\")"
   ]
  },
  {
   "cell_type": "code",
   "execution_count": null,
   "metadata": {
    "id": "5QyRAHpAU0yv"
   },
   "outputs": [],
   "source": [
    "# Leitura do arquivo formato CSV da malha de municipios\n",
    "malha_BR = pd.read_csv(\"malha_BR.csv\")"
   ]
  },
  {
   "cell_type": "code",
   "execution_count": null,
   "metadata": {
    "colab": {
     "base_uri": "https://localhost:8080/",
     "height": 203
    },
    "id": "mVKMvemwuCLX",
    "outputId": "7fc24142-5892-45a6-a4be-e2650a38c10b"
   },
   "outputs": [
    {
     "data": {
      "text/html": [
       "<div>\n",
       "<style scoped>\n",
       "    .dataframe tbody tr th:only-of-type {\n",
       "        vertical-align: middle;\n",
       "    }\n",
       "\n",
       "    .dataframe tbody tr th {\n",
       "        vertical-align: top;\n",
       "    }\n",
       "\n",
       "    .dataframe thead th {\n",
       "        text-align: right;\n",
       "    }\n",
       "</style>\n",
       "<table border=\"1\" class=\"dataframe\">\n",
       "  <thead>\n",
       "    <tr style=\"text-align: right;\">\n",
       "      <th></th>\n",
       "      <th>Unnamed: 0</th>\n",
       "      <th>type</th>\n",
       "      <th>features</th>\n",
       "    </tr>\n",
       "  </thead>\n",
       "  <tbody>\n",
       "    <tr>\n",
       "      <th>0</th>\n",
       "      <td>0</td>\n",
       "      <td>FeatureCollection</td>\n",
       "      <td>{'type': 'Feature', 'geometry': {'type': 'Poly...</td>\n",
       "    </tr>\n",
       "    <tr>\n",
       "      <th>1</th>\n",
       "      <td>1</td>\n",
       "      <td>FeatureCollection</td>\n",
       "      <td>{'type': 'Feature', 'geometry': {'type': 'Poly...</td>\n",
       "    </tr>\n",
       "    <tr>\n",
       "      <th>2</th>\n",
       "      <td>2</td>\n",
       "      <td>FeatureCollection</td>\n",
       "      <td>{'type': 'Feature', 'geometry': {'type': 'Poly...</td>\n",
       "    </tr>\n",
       "    <tr>\n",
       "      <th>3</th>\n",
       "      <td>3</td>\n",
       "      <td>FeatureCollection</td>\n",
       "      <td>{'type': 'Feature', 'geometry': {'type': 'Poly...</td>\n",
       "    </tr>\n",
       "    <tr>\n",
       "      <th>4</th>\n",
       "      <td>4</td>\n",
       "      <td>FeatureCollection</td>\n",
       "      <td>{'type': 'Feature', 'geometry': {'type': 'Poly...</td>\n",
       "    </tr>\n",
       "  </tbody>\n",
       "</table>\n",
       "</div>"
      ],
      "text/plain": [
       "   Unnamed: 0  ...                                           features\n",
       "0           0  ...  {'type': 'Feature', 'geometry': {'type': 'Poly...\n",
       "1           1  ...  {'type': 'Feature', 'geometry': {'type': 'Poly...\n",
       "2           2  ...  {'type': 'Feature', 'geometry': {'type': 'Poly...\n",
       "3           3  ...  {'type': 'Feature', 'geometry': {'type': 'Poly...\n",
       "4           4  ...  {'type': 'Feature', 'geometry': {'type': 'Poly...\n",
       "\n",
       "[5 rows x 3 columns]"
      ]
     },
     "execution_count": 23,
     "metadata": {
      "tags": []
     },
     "output_type": "execute_result"
    }
   ],
   "source": [
    "malha_BR.head()"
   ]
  },
  {
   "cell_type": "markdown",
   "metadata": {
    "id": "WrzOqqtuvBNJ"
   },
   "source": [
    "###API IBGE para Dados Agregados.<br>[Acesso a API IBGE Dados Agregados](https://servicodados.ibge.gov.br/api/docs/agregados?versao=3)<br>Versão: 3.0.0\n",
    "Incremente sua aplicação com a API de dados agregados do IBGE, a API que alimenta o [SIDRA](https://sidra.ibge.gov.br/), Sistema IBGE de Recuperação Automática, ferramenta que disponibiliza os dados das pesquisas e censos realizados pelo IBGE.\n",
    "\n",
    "A fim de aprofundar o conhecimento desta API, recomendamos que você explore as tabelas do SIDRA [1705](https://sidra.ibge.gov.br/tabela/1705) e [1712](https://sidra.ibge.gov.br/tabela/1712) - **Cada tabela do SIDRA corresponde a um agregado desta API** -, que são usadas como exemplos na documentação desta API. Se desejar, use o Query Builder para gerar consultas customizadas.\n",
    "\n",
    "\n",
    "*obs 1:* para desenvolvedores de soluções OLAP, Online Analytical Processing, os conceitos de variáveis, classificações e categorias são, respectivamente, idênticos aos de medidas, dimensões e membros.<br>\n",
    "*obs 2:* a presente versão permite 3 modos de visualização das variáveis. Para mais informações, consulte o parâmetro view\n",
    "Agregados\n",
    "Obtém o conjunto de agregados, agrupados pelas respectivas pesquisas"
   ]
  },
  {
   "cell_type": "markdown",
   "metadata": {
    "id": "lqhhErqduCGp"
   },
   "source": [
    "###API IBGE para Dados Agregados.<br>[Acesso a API IBGE Dados Agregados](https://servicodados.ibge.gov.br/api/docs/agregados?versao=3)<br>Versão: 3.0.0\n",
    "Incremente sua aplicação com a API de dados agregados do IBGE, a API que alimenta o [SIDRA](https://sidra.ibge.gov.br/), Sistema IBGE de Recuperação Automática, ferramenta que disponibiliza os dados das pesquisas e censos realizados pelo IBGE.\n",
    "\n",
    "A fim de aprofundar o conhecimento desta API, recomendamos que você explore as tabelas do SIDRA [1705](https://sidra.ibge.gov.br/tabela/1705) e [1712](https://sidra.ibge.gov.br/tabela/1712) - **Cada tabela do SIDRA corresponde a um agregado desta API** -, que são usadas como exemplos na documentação desta API. Se desejar, use o Query Builder para gerar consultas customizadas.\n",
    "\n",
    "\n",
    "*obs 1:* para desenvolvedores de soluções OLAP, Online Analytical Processing, os conceitos de variáveis, classificações e categorias são, respectivamente, idênticos aos de medidas, dimensões e membros.<br>\n",
    "*obs 2:* a presente versão permite 3 modos de visualização das variáveis. Para mais informações, consulte o parâmetro view\n",
    "Agregados\n",
    "Obtém o conjunto de agregados, agrupados pelas respectivas pesquisas"
   ]
  },
  {
   "cell_type": "markdown",
   "metadata": {
    "id": "JddjNDtvv_Sq"
   },
   "source": []
  },
  {
   "cell_type": "code",
   "execution_count": null,
   "metadata": {
    "id": "QJq23AvnuCCB"
   },
   "outputs": [],
   "source": []
  },
  {
   "cell_type": "code",
   "execution_count": null,
   "metadata": {
    "id": "jnpTU6f8uB9o"
   },
   "outputs": [],
   "source": []
  },
  {
   "cell_type": "code",
   "execution_count": null,
   "metadata": {
    "id": "nqYQ_WwJuB2T"
   },
   "outputs": [],
   "source": []
  },
  {
   "cell_type": "code",
   "execution_count": null,
   "metadata": {
    "id": "nIWWjWMhU0vk"
   },
   "outputs": [],
   "source": []
  },
  {
   "cell_type": "code",
   "execution_count": null,
   "metadata": {
    "id": "NEOos5J8U0rj"
   },
   "outputs": [],
   "source": []
  }
 ],
 "metadata": {
  "colab": {
   "collapsed_sections": [
    "h5_vBHssq8bV",
    "WrzOqqtuvBNJ"
   ],
   "name": "API_IBGE.ipynb",
   "provenance": [],
   "toc_visible": true
  },
  "kernelspec": {
   "display_name": "Python 3",
   "language": "python",
   "name": "python3"
  },
  "language_info": {
   "codemirror_mode": {
    "name": "ipython",
    "version": 3
   },
   "file_extension": ".py",
   "mimetype": "text/x-python",
   "name": "python",
   "nbconvert_exporter": "python",
   "pygments_lexer": "ipython3",
   "version": "3.9.2"
  }
 },
 "nbformat": 4,
 "nbformat_minor": 1
}
