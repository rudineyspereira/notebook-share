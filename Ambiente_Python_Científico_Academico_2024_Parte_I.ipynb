{
  "nbformat": 4,
  "nbformat_minor": 0,
  "metadata": {
    "colab": {
      "provenance": [],
      "collapsed_sections": [
        "dhYOx_JxH4I9",
        "0w96aceuMn4N",
        "_xTfq1VCeLoA",
        "uj_u31tafjdB",
        "Dtasowfvf-AJ",
        "Od3V-r6Hiwby",
        "L9snKRDpNFqf",
        "t-IYYXo0ZGxU",
        "5kd6R8ohZzXr",
        "XXy0JQxYXzgA",
        "6iverJ27ceY7",
        "RyTgTxLQFj6E",
        "NjCgFqwSJNKX",
        "PWXoe4UQzplr",
        "KHWrgbC9_kde",
        "KNGZYYlGJjbS",
        "EFGTx6-zQ3MU",
        "MBQX5i646mtP",
        "hLUEMwN77Ll5",
        "GbF58D7y7TKG",
        "KyrysQ5SKtds",
        "C0upyjcKLMgI",
        "FkRzfBRRLWoZ",
        "H8iBGY1xLx0f",
        "seirpV6RPD37",
        "AD8vhnLyTkce",
        "yhhtoIbqUOtI",
        "LYtfCwFTUlR2",
        "c6oaXE1LV1mt",
        "TLr_F83jYEqJ"
      ]
    },
    "kernelspec": {
      "name": "python3",
      "display_name": "Python 3"
    },
    "language_info": {
      "name": "python"
    }
  },
  "cells": [
    {
      "cell_type": "code",
      "metadata": {
        "id": "dFcreCHqCqS2"
      },
      "source": [],
      "execution_count": null,
      "outputs": []
    },
    {
      "cell_type": "code",
      "source": [
        "from google.colab import drive\n",
        "drive.mount('/content/drive')"
      ],
      "metadata": {
        "id": "hwJGXXwpPY_F"
      },
      "execution_count": null,
      "outputs": []
    },
    {
      "cell_type": "markdown",
      "source": [
        "## O que é a linguagem de Programação Python"
      ],
      "metadata": {
        "id": "Vbz86pLUGRou"
      }
    },
    {
      "cell_type": "markdown",
      "source": [
        "Python é uma linguagem de programação com algumas características especiais entre essas, podemos citar que é linguagem interpretada; uma segunda característica importante é que não há necessidade de se realizar declarações para as variáveis e os tipos, são determinados de forma dinâmica; a terceira característica que podemos enumerar é o controle do bloco de processamento é feito por indentação."
      ],
      "metadata": {
        "id": "3nBqlSrSGkQR"
      }
    },
    {
      "cell_type": "markdown",
      "source": [
        "Porque se utilizar **Python**.<br>\n",
        "\n",
        "Se existem muitas linguagens de programação diferentes, porque aprender Python?<br>\n",
        "1. *Python* é fácil de aprender;<br>\n",
        "2. A linguagem *Python* é clara e fácil de aprender;<br>\n",
        "3. Os tipos pré-definidos em *Python* são poderosos e simples de usar;<br>\n",
        "4. O interpretador *Python* permite aprender e testar rapidamente trechos código do programa;<br>\n",
        "5. Possui abstrações de alto nível. Produzindo-se com eficiência um código pequeno e de rápido desenvolvimento;\n",
        "6. Outra característica que podemos esperar é que existe suporte para uma diversidade grande de bibliotecas de interfaces gráficas e, entre essas podemos citar bibliotecas para a web, interfaces gráficas para o desktop como Qt, Gtk.<br>\n",
        "7. É fácil escrever extensões para *Python* em C++ quando for necessário desempenho máximo ou quando necessitar de fazer a interface com alguma ferramenta nessas linguagens.<br>\n",
        "8. *Python* permite que o programa seja executado em múltiplas plataformas. Possui tratamento de exceções que é um moderno mecanismo de tratamento de erros. *Python* é orientado a objetos incluindo heranças múltiplas.<br>\n",
        "9. **Python é Livre.**"
      ],
      "metadata": {
        "id": "iloE7g00PtTE"
      }
    },
    {
      "cell_type": "markdown",
      "metadata": {
        "id": "bfGpbbzoCsl2"
      },
      "source": [
        "# Tipos básicos no Python"
      ]
    },
    {
      "cell_type": "markdown",
      "source": [],
      "metadata": {
        "id": "mdOtk8K3GQw_"
      }
    },
    {
      "cell_type": "markdown",
      "metadata": {
        "id": "SWMYUsimC8qB"
      },
      "source": [
        "### Tipo inteiros\n",
        "\n",
        "---\n",
        "\n"
      ]
    },
    {
      "cell_type": "code",
      "metadata": {
        "colab": {
          "base_uri": "https://localhost:8080/"
        },
        "id": "58Vm-a34DiWx",
        "outputId": "4c0243ee-7199-4a24-ea6d-cd84f50962cd"
      },
      "source": [
        "# usando o Python com calculadora\n",
        "a = 2\n",
        "b = 5\n",
        "c = a * b\n",
        "print(c)\n",
        "type(c)"
      ],
      "execution_count": null,
      "outputs": [
        {
          "output_type": "stream",
          "text": [
            "10\n"
          ],
          "name": "stdout"
        },
        {
          "output_type": "execute_result",
          "data": {
            "text/plain": [
              "int"
            ]
          },
          "metadata": {
            "tags": []
          },
          "execution_count": 2
        }
      ]
    },
    {
      "cell_type": "markdown",
      "metadata": {
        "id": "jL2wb4MNEG1k"
      },
      "source": [
        "### Tipo Ponto Flutuante"
      ]
    },
    {
      "cell_type": "code",
      "metadata": {
        "colab": {
          "base_uri": "https://localhost:8080/"
        },
        "id": "r420j-shEQx9",
        "outputId": "c7f4b759-f7f4-43dd-fafa-aa480a2188c1"
      },
      "source": [
        "d = c / 3.2\n",
        "print(d)\n",
        "type(d)"
      ],
      "execution_count": null,
      "outputs": [
        {
          "output_type": "stream",
          "text": [
            "3.125\n"
          ],
          "name": "stdout"
        },
        {
          "output_type": "execute_result",
          "data": {
            "text/plain": [
              "float"
            ]
          },
          "metadata": {
            "tags": []
          },
          "execution_count": 3
        }
      ]
    },
    {
      "cell_type": "markdown",
      "metadata": {
        "id": "UkYvGf0vEyrM"
      },
      "source": [
        "### Tipo complexo\n"
      ]
    },
    {
      "cell_type": "code",
      "metadata": {
        "colab": {
          "base_uri": "https://localhost:8080/"
        },
        "id": "qb7-wmFeE6vS",
        "outputId": "00474f13-4844-43ad-a268-18f5396708f4"
      },
      "source": [
        "e = 1.9 + 0.8j\n",
        "e.real"
      ],
      "execution_count": null,
      "outputs": [
        {
          "output_type": "execute_result",
          "data": {
            "text/plain": [
              "1.9"
            ]
          },
          "metadata": {
            "tags": []
          },
          "execution_count": 4
        }
      ]
    },
    {
      "cell_type": "code",
      "metadata": {
        "colab": {
          "base_uri": "https://localhost:8080/"
        },
        "id": "MgTQ9JJxEjw3",
        "outputId": "9a66d2c6-24da-4ef2-db3d-2bd79972b0e5"
      },
      "source": [
        "e.imag"
      ],
      "execution_count": null,
      "outputs": [
        {
          "output_type": "execute_result",
          "data": {
            "text/plain": [
              "0.8"
            ]
          },
          "metadata": {
            "tags": []
          },
          "execution_count": 6
        }
      ]
    },
    {
      "cell_type": "markdown",
      "metadata": {
        "id": "Ki3Bv8B8Grhx"
      },
      "source": [
        "### Tipo Booleano"
      ]
    },
    {
      "cell_type": "code",
      "metadata": {
        "colab": {
          "base_uri": "https://localhost:8080/"
        },
        "id": "0XEW_1oIG0ti",
        "outputId": "e6a9ebbe-1961-47fe-bd2f-b6806d1d1018"
      },
      "source": [
        "7 > 9"
      ],
      "execution_count": null,
      "outputs": [
        {
          "output_type": "execute_result",
          "data": {
            "text/plain": [
              "False"
            ]
          },
          "metadata": {
            "tags": []
          },
          "execution_count": 7
        }
      ]
    },
    {
      "cell_type": "code",
      "metadata": {
        "colab": {
          "base_uri": "https://localhost:8080/"
        },
        "id": "eT9ZmvupG-hA",
        "outputId": "490a7e02-6544-47ea-bd18-f3466d1692e7"
      },
      "source": [
        "teste = (7 > 9)\n",
        "teste"
      ],
      "execution_count": null,
      "outputs": [
        {
          "output_type": "execute_result",
          "data": {
            "text/plain": [
              "False"
            ]
          },
          "metadata": {
            "tags": []
          },
          "execution_count": 8
        }
      ]
    },
    {
      "cell_type": "markdown",
      "source": [
        "#Tipagem Dinâmica"
      ],
      "metadata": {
        "id": "prlI6mZz1kOh"
      }
    },
    {
      "cell_type": "markdown",
      "source": [
        "Python possui o que se chama de tipagem dinâmica, ou  seja, a tipagem pode mudar a cada nova entrada de dados  em uma variável.<br>\n",
        "A tipagem dinâmica pode mudar a cada nova entrada de dados associada a uma variável.<br>\n",
        "*Exemplo 1:*<br>\n",
        "\n",
        "a = 2<br>\n",
        "Se nós fizermos type(a). Teremos como resposta o tipo **int**<br>\n",
        "\n",
        "*Exemplo 2:*<br>\n",
        "\n",
        "a = 'ABACATE'<br>\n",
        "Ao digitarmos *type(a)* teremos como retorno **str**.<br>\n",
        "\n",
        "*Exemplo 3:*<br>\n",
        "a = 3.5 <br>\n",
        "Quando digitarmos *type(a)* obteremos como retorno o tipo **float**.\n"
      ],
      "metadata": {
        "id": "i3UP7_hY1ujZ"
      }
    },
    {
      "cell_type": "code",
      "source": [
        "a = 2\n",
        "type(a)"
      ],
      "metadata": {
        "id": "2FjYwOwK1y-w"
      },
      "execution_count": null,
      "outputs": []
    },
    {
      "cell_type": "code",
      "source": [
        "fruta = \"Abacate\"\n",
        "type(fruta)"
      ],
      "metadata": {
        "id": "ergM2-gx19V5"
      },
      "execution_count": null,
      "outputs": []
    },
    {
      "cell_type": "code",
      "source": [
        "h = 4.8\n",
        "type(h)"
      ],
      "metadata": {
        "id": "cUUnajWU2ET_"
      },
      "execution_count": null,
      "outputs": []
    },
    {
      "cell_type": "code",
      "source": [
        "teste = False"
      ],
      "metadata": {
        "id": "PcmGtf0F2N3M"
      },
      "execution_count": null,
      "outputs": []
    },
    {
      "cell_type": "code",
      "metadata": {
        "colab": {
          "base_uri": "https://localhost:8080/"
        },
        "id": "PSdv9WO_G-c2",
        "outputId": "585bd639-a558-47fa-a943-93b6f1235847"
      },
      "source": [
        "type(teste)"
      ],
      "execution_count": null,
      "outputs": [
        {
          "output_type": "execute_result",
          "data": {
            "text/plain": [
              "bool"
            ]
          },
          "metadata": {
            "tags": []
          },
          "execution_count": 9
        }
      ]
    },
    {
      "cell_type": "markdown",
      "metadata": {
        "id": "tf5zSSW2HbAv"
      },
      "source": [
        "# Containers"
      ]
    },
    {
      "cell_type": "markdown",
      "source": [
        "Tipos de alto nível além dos tipos básicos como inteiro *Int*, ponto flutuante *float*, String *string*. Existem outros tipos de alto nível e um exemplo desses são as listas definidas por uma declaração acompanhada de colchetes **[ ]** com valores que podem ser acessados por um índice numérico inteiro iniciado pela posição 'zero' para representar a primeira posição na lista podendo armazenar todo tipo de valores.<br>\n",
        "\n",
        "**Tuplas:** são sequências de elementos arbitrários como listas com a exceção de que são imutáveis.<br>\n",
        "\n",
        "**String:** strings em Python são uma sequência de letras e mutável, alocadas dinamicamente.<br>\n",
        "\n",
        "**Dicionários:** sem restrição de tamanho os dicionários em Python são sequências que podem utilizar índices imutáveis de tipos variados conhecidos como array.<br>\n",
        "\n",
        "**Orientação a objetos em Python:** todos os dados podem ser considerados objetos. Por exemplo, toda string possui um método denominado *.upper()* que significa conversão dos caracteres minúsculos em caracteres maiúsculos. Para descobrir, quais são os métodos associados aos objetos ou a variáveis, utiliza-se o comando **dir()** e o nome do objeto entre os parênteses.\n"
      ],
      "metadata": {
        "id": "HU4uhX8mK4KL"
      }
    },
    {
      "cell_type": "code",
      "source": [],
      "metadata": {
        "id": "wp-bqioeK2rx"
      },
      "execution_count": null,
      "outputs": []
    },
    {
      "cell_type": "markdown",
      "metadata": {
        "id": "dhYOx_JxH4I9"
      },
      "source": [
        "### Listas"
      ]
    },
    {
      "cell_type": "code",
      "metadata": {
        "colab": {
          "base_uri": "https://localhost:8080/"
        },
        "id": "M1A4ToozH7dc",
        "outputId": "89de6fd6-a299-4ffd-8891-49659903690c"
      },
      "source": [
        "lista = [4, 5, -8, 'Casa']\n",
        "lista"
      ],
      "execution_count": null,
      "outputs": [
        {
          "output_type": "execute_result",
          "data": {
            "text/plain": [
              "[4, 5, -8, 'Casa']"
            ]
          },
          "metadata": {
            "tags": []
          },
          "execution_count": 10
        }
      ]
    },
    {
      "cell_type": "code",
      "metadata": {
        "colab": {
          "base_uri": "https://localhost:8080/"
        },
        "id": "8pnJGffiI8k4",
        "outputId": "539001a9-3603-4620-d927-0b0f2b293af4"
      },
      "source": [
        "lista[2], lista[3]"
      ],
      "execution_count": null,
      "outputs": [
        {
          "output_type": "execute_result",
          "data": {
            "text/plain": [
              "(-8, 'Casa')"
            ]
          },
          "metadata": {
            "tags": []
          },
          "execution_count": 11
        }
      ]
    },
    {
      "cell_type": "code",
      "metadata": {
        "colab": {
          "base_uri": "https://localhost:8080/"
        },
        "id": "UcWui3hLI8iF",
        "outputId": "145ddf8a-0a39-463e-c9b3-994a703a8c0e"
      },
      "source": [
        "cores = ['Azul','Verde','Vermelho','Preto','Branco']\n",
        "type(cores)"
      ],
      "execution_count": null,
      "outputs": [
        {
          "output_type": "execute_result",
          "data": {
            "text/plain": [
              "list"
            ]
          },
          "metadata": {
            "tags": []
          },
          "execution_count": 29
        }
      ]
    },
    {
      "cell_type": "code",
      "metadata": {
        "colab": {
          "base_uri": "https://localhost:8080/",
          "height": 35
        },
        "id": "T6Z7AedSKe1t",
        "outputId": "bd8afe4a-a284-4405-dcc9-dff0a5da3721"
      },
      "source": [
        "cores[2]"
      ],
      "execution_count": null,
      "outputs": [
        {
          "output_type": "execute_result",
          "data": {
            "application/vnd.google.colaboratory.intrinsic+json": {
              "type": "string"
            },
            "text/plain": [
              "'Vermelho'"
            ]
          },
          "metadata": {
            "tags": []
          },
          "execution_count": 30
        }
      ]
    },
    {
      "cell_type": "code",
      "metadata": {
        "colab": {
          "base_uri": "https://localhost:8080/"
        },
        "id": "WRxfklYyKex-",
        "outputId": "aca5abce-d723-4570-a7ff-0caecb4657fb"
      },
      "source": [
        "cores[1:4]"
      ],
      "execution_count": null,
      "outputs": [
        {
          "output_type": "execute_result",
          "data": {
            "text/plain": [
              "['Verde', 'Vermelho', 'Preto']"
            ]
          },
          "metadata": {
            "tags": []
          },
          "execution_count": 31
        }
      ]
    },
    {
      "cell_type": "code",
      "metadata": {
        "colab": {
          "base_uri": "https://localhost:8080/"
        },
        "id": "O1R6J_XfKeub",
        "outputId": "e2b95aaf-afea-4e39-8c95-5061ad308dff"
      },
      "source": [
        "cores.append('Roxo')\n",
        "cores"
      ],
      "execution_count": null,
      "outputs": [
        {
          "output_type": "execute_result",
          "data": {
            "text/plain": [
              "['Azul', 'Verde', 'Vermelho', 'Preto', 'Branco', 'Roxo']"
            ]
          },
          "metadata": {
            "tags": []
          },
          "execution_count": 32
        }
      ]
    },
    {
      "cell_type": "code",
      "metadata": {
        "colab": {
          "base_uri": "https://localhost:8080/",
          "height": 35
        },
        "id": "Mo6-Op2ZI8eJ",
        "outputId": "88628bf0-ec3c-4dad-f8fa-b34ce02aa4ba"
      },
      "source": [
        "# método 'pop' remove o último elemento e recupera a lista original\n",
        "cores.pop()"
      ],
      "execution_count": null,
      "outputs": [
        {
          "output_type": "execute_result",
          "data": {
            "application/vnd.google.colaboratory.intrinsic+json": {
              "type": "string"
            },
            "text/plain": [
              "'Roxo'"
            ]
          },
          "metadata": {
            "tags": []
          },
          "execution_count": 33
        }
      ]
    },
    {
      "cell_type": "code",
      "metadata": {
        "colab": {
          "base_uri": "https://localhost:8080/"
        },
        "id": "_a5YJ9zuI8Z6",
        "outputId": "054577d6-ca20-4170-f41e-39d9d4d25722"
      },
      "source": [
        "cores"
      ],
      "execution_count": null,
      "outputs": [
        {
          "output_type": "execute_result",
          "data": {
            "text/plain": [
              "['Azul', 'Verde', 'Vermelho', 'Preto', 'Branco']"
            ]
          },
          "metadata": {
            "tags": []
          },
          "execution_count": 34
        }
      ]
    },
    {
      "cell_type": "code",
      "metadata": {
        "id": "Pf7ifHQjI8Oq"
      },
      "source": [
        "cores.extend(['Roxo','Rosa','Branco'])"
      ],
      "execution_count": null,
      "outputs": []
    },
    {
      "cell_type": "code",
      "metadata": {
        "colab": {
          "base_uri": "https://localhost:8080/"
        },
        "id": "0dBgfogEG-Xx",
        "outputId": "bb93eb12-18a7-42c9-af8a-5a3a6bd4e2d6"
      },
      "source": [
        "cores"
      ],
      "execution_count": null,
      "outputs": [
        {
          "output_type": "execute_result",
          "data": {
            "text/plain": [
              "['Azul', 'Verde', 'Vermelho', 'Preto', 'Branco', 'Roxo', 'Rosa', 'Branco']"
            ]
          },
          "metadata": {
            "tags": []
          },
          "execution_count": 36
        }
      ]
    },
    {
      "cell_type": "code",
      "metadata": {
        "id": "mO6Pa9DmG-Rz"
      },
      "source": [
        "cores = cores[:-3]"
      ],
      "execution_count": null,
      "outputs": []
    },
    {
      "cell_type": "code",
      "metadata": {
        "colab": {
          "base_uri": "https://localhost:8080/"
        },
        "id": "sTEek_oWG-EO",
        "outputId": "16097fd1-f2a3-43d3-9792-003acc1c752e"
      },
      "source": [
        "cores"
      ],
      "execution_count": null,
      "outputs": [
        {
          "output_type": "execute_result",
          "data": {
            "text/plain": [
              "['Azul', 'Verde', 'Vermelho', 'Preto', 'Branco']"
            ]
          },
          "metadata": {
            "tags": []
          },
          "execution_count": 38
        }
      ]
    },
    {
      "cell_type": "markdown",
      "metadata": {
        "id": "0w96aceuMn4N"
      },
      "source": [
        "### Strings"
      ]
    },
    {
      "cell_type": "code",
      "metadata": {
        "colab": {
          "base_uri": "https://localhost:8080/",
          "height": 35
        },
        "id": "90aPiiRuMrVK",
        "outputId": "2bca45c9-d0de-4d64-f2e9-7b46512a551f"
      },
      "source": [
        "frase = 'Seja bem vindo a programação Python!'\n",
        "frase"
      ],
      "execution_count": null,
      "outputs": [
        {
          "output_type": "execute_result",
          "data": {
            "application/vnd.google.colaboratory.intrinsic+json": {
              "type": "string"
            },
            "text/plain": [
              "'Seja bem vindo a programação Python!'"
            ]
          },
          "metadata": {
            "tags": []
          },
          "execution_count": 39
        }
      ]
    },
    {
      "cell_type": "code",
      "metadata": {
        "colab": {
          "base_uri": "https://localhost:8080/",
          "height": 35
        },
        "id": "vdTxlPMzNSsO",
        "outputId": "18ae15b7-710a-4a3c-bfa4-d44b268b2df9"
      },
      "source": [
        "frase[0]"
      ],
      "execution_count": null,
      "outputs": [
        {
          "output_type": "execute_result",
          "data": {
            "application/vnd.google.colaboratory.intrinsic+json": {
              "type": "string"
            },
            "text/plain": [
              "'S'"
            ]
          },
          "metadata": {
            "tags": []
          },
          "execution_count": 40
        }
      ]
    },
    {
      "cell_type": "code",
      "metadata": {
        "colab": {
          "base_uri": "https://localhost:8080/",
          "height": 35
        },
        "id": "6hL_WRmpNSo3",
        "outputId": "beb44c3e-13d1-468c-cb6a-5603d785ab4d"
      },
      "source": [
        "frase[10]"
      ],
      "execution_count": null,
      "outputs": [
        {
          "output_type": "execute_result",
          "data": {
            "application/vnd.google.colaboratory.intrinsic+json": {
              "type": "string"
            },
            "text/plain": [
              "'i'"
            ]
          },
          "metadata": {
            "tags": []
          },
          "execution_count": 42
        }
      ]
    },
    {
      "cell_type": "code",
      "metadata": {
        "colab": {
          "base_uri": "https://localhost:8080/",
          "height": 35
        },
        "id": "AANJ1RvvNSk2",
        "outputId": "9310d6a3-61cd-4002-f6bc-e140ab718d62"
      },
      "source": [
        "frase[4:14]"
      ],
      "execution_count": null,
      "outputs": [
        {
          "output_type": "execute_result",
          "data": {
            "application/vnd.google.colaboratory.intrinsic+json": {
              "type": "string"
            },
            "text/plain": [
              "' bem vindo'"
            ]
          },
          "metadata": {
            "tags": []
          },
          "execution_count": 43
        }
      ]
    },
    {
      "cell_type": "code",
      "metadata": {
        "colab": {
          "base_uri": "https://localhost:8080/",
          "height": 35
        },
        "id": "jXM0QuiXNSf9",
        "outputId": "ebb3d58e-3e3a-4bc1-efc4-09880a77ff02"
      },
      "source": [
        "frase[4:14:2]"
      ],
      "execution_count": null,
      "outputs": [
        {
          "output_type": "execute_result",
          "data": {
            "application/vnd.google.colaboratory.intrinsic+json": {
              "type": "string"
            },
            "text/plain": [
              "' e id'"
            ]
          },
          "metadata": {
            "tags": []
          },
          "execution_count": 44
        }
      ]
    },
    {
      "cell_type": "markdown",
      "metadata": {
        "id": "rC6a3tpGOAPu"
      },
      "source": [
        "### Dicionários"
      ]
    },
    {
      "cell_type": "code",
      "metadata": {
        "colab": {
          "base_uri": "https://localhost:8080/"
        },
        "id": "QlDfkjEBOJtm",
        "outputId": "c12c45cf-4c5f-42e8-a6f6-361c69c9d8dc"
      },
      "source": [
        "# Mapeiam palavras e valores\n",
        "parcela = {'Corrego grande':127,'Rio tigre':216,'Rio vacacaí':180}\n",
        "parcela['Rio tigre']"
      ],
      "execution_count": null,
      "outputs": [
        {
          "output_type": "execute_result",
          "data": {
            "text/plain": [
              "216"
            ]
          },
          "metadata": {
            "tags": []
          },
          "execution_count": 46
        }
      ]
    },
    {
      "cell_type": "code",
      "metadata": {
        "colab": {
          "base_uri": "https://localhost:8080/"
        },
        "id": "LHdO9vP1NSU7",
        "outputId": "c62f956a-3bfc-413a-8997-cc5df5234eb1"
      },
      "source": [
        "parcela['Rio ibicuí'] = 319\n",
        "parcela"
      ],
      "execution_count": null,
      "outputs": [
        {
          "output_type": "execute_result",
          "data": {
            "text/plain": [
              "{'Corrego grande': 127,\n",
              " 'Rio ibicuí': 319,\n",
              " 'Rio tigre': 216,\n",
              " 'Rio vacacaí': 180}"
            ]
          },
          "metadata": {
            "tags": []
          },
          "execution_count": 48
        }
      ]
    },
    {
      "cell_type": "code",
      "metadata": {
        "colab": {
          "base_uri": "https://localhost:8080/"
        },
        "id": "WMCIpekIPtYE",
        "outputId": "e6611efe-f0fe-4ebd-b40d-fa07ac85e8b7"
      },
      "source": [
        "parcela.keys()"
      ],
      "execution_count": null,
      "outputs": [
        {
          "output_type": "execute_result",
          "data": {
            "text/plain": [
              "dict_keys(['Corrego grande', 'Rio tigre', 'Rio vacacaí', 'Rio ibicuí'])"
            ]
          },
          "metadata": {
            "tags": []
          },
          "execution_count": 49
        }
      ]
    },
    {
      "cell_type": "code",
      "metadata": {
        "colab": {
          "base_uri": "https://localhost:8080/"
        },
        "id": "GJqxWlI3PtUT",
        "outputId": "afd43875-5c4a-4ac6-8a72-6e8c560afdbf"
      },
      "source": [
        "parcela.values()"
      ],
      "execution_count": null,
      "outputs": [
        {
          "output_type": "execute_result",
          "data": {
            "text/plain": [
              "dict_values([127, 216, 180, 319])"
            ]
          },
          "metadata": {
            "tags": []
          },
          "execution_count": 50
        }
      ]
    },
    {
      "cell_type": "code",
      "metadata": {
        "colab": {
          "base_uri": "https://localhost:8080/"
        },
        "id": "jrTD4c2bPtP1",
        "outputId": "8438a824-c1d0-483d-f786-ec94445bc018"
      },
      "source": [
        "'Rio ibicuí' in parcela"
      ],
      "execution_count": null,
      "outputs": [
        {
          "output_type": "execute_result",
          "data": {
            "text/plain": [
              "True"
            ]
          },
          "metadata": {
            "tags": []
          },
          "execution_count": 51
        }
      ]
    },
    {
      "cell_type": "markdown",
      "source": [
        "#Operadores úteis\n",
        "Existem algumas funções e \"operadores\" embutidos em Python que não se encaixam bem em nenhuma categoria, então vamos analisá-los nesta palestra, vamos começar!\n",
        "\n",
        "**range**:\n",
        "a função *range* permite que você gere rapidamente uma lista de inteiros, isso é muito útil. Observe como podemos utilizá-la considerando o arranjo de um ou até 3 parâmetros. Início, uma parada e um tamanho de etapa. Vejamos alguns exemplos:"
      ],
      "metadata": {
        "id": "NGal0IRDPfCK"
      }
    },
    {
      "cell_type": "code",
      "source": [
        "a = range(0,15)"
      ],
      "metadata": {
        "id": "5UrAvgp7Q1J-"
      },
      "execution_count": null,
      "outputs": []
    },
    {
      "cell_type": "code",
      "source": [
        "print(a)"
      ],
      "metadata": {
        "colab": {
          "base_uri": "https://localhost:8080/"
        },
        "id": "3W7GBmG7RAZz",
        "outputId": "07242b7f-0452-426b-ef08-6f4dde4b860e"
      },
      "execution_count": null,
      "outputs": [
        {
          "output_type": "stream",
          "name": "stdout",
          "text": [
            "range(0, 15)\n"
          ]
        }
      ]
    },
    {
      "cell_type": "code",
      "source": [
        "list(range(0,15))"
      ],
      "metadata": {
        "colab": {
          "base_uri": "https://localhost:8080/"
        },
        "id": "khM_Sk4WRHGK",
        "outputId": "7dc64246-e86c-4925-9b9b-2dc3badb2cc6"
      },
      "execution_count": null,
      "outputs": [
        {
          "output_type": "execute_result",
          "data": {
            "text/plain": [
              "[0, 1, 2, 3, 4, 5, 6, 7, 8, 9, 10, 11, 12, 13, 14]"
            ]
          },
          "metadata": {},
          "execution_count": 53
        }
      ]
    },
    {
      "cell_type": "code",
      "source": [
        "a = list(range(0,15))\n",
        "print(a)"
      ],
      "metadata": {
        "colab": {
          "base_uri": "https://localhost:8080/"
        },
        "id": "rl_vq7SXRZZk",
        "outputId": "4f5f550b-cadd-43bf-89df-32b064b9bfea"
      },
      "execution_count": null,
      "outputs": [
        {
          "output_type": "stream",
          "name": "stdout",
          "text": [
            "[0, 1, 2, 3, 4, 5, 6, 7, 8, 9, 10, 11, 12, 13, 14]\n"
          ]
        }
      ]
    },
    {
      "cell_type": "code",
      "source": [
        "# O terceiro parâmetro é o tamanho do passo/intervalo!\n",
        "# No caso abaixo, a variável 'b' assume valores pares a partir do valor 'zero'\n",
        "\n",
        "b = list(range(0,15,2))\n",
        "print(b)\n"
      ],
      "metadata": {
        "colab": {
          "base_uri": "https://localhost:8080/"
        },
        "id": "ubhoVUHgRG9U",
        "outputId": "f2c2444c-5f0a-4897-956b-bf7ba17d4519"
      },
      "execution_count": null,
      "outputs": [
        {
          "output_type": "stream",
          "name": "stdout",
          "text": [
            "[0, 2, 4, 6, 8, 10, 12, 14]\n"
          ]
        }
      ]
    },
    {
      "cell_type": "markdown",
      "source": [
        "**enumerate**: é uma função muito útil para usar com loops for. Vamos imaginar a seguinte situação:"
      ],
      "metadata": {
        "id": "aESKP9FHSwZ7"
      }
    },
    {
      "cell_type": "code",
      "source": [
        "indice_conta = 0\n",
        "\n",
        "for letra in 'abcde':\n",
        "    print(\"No índice {} a letra é : {} \".format(indice_conta,letra))\n",
        "    indice_conta += 1"
      ],
      "metadata": {
        "colab": {
          "base_uri": "https://localhost:8080/"
        },
        "id": "MeGI1mvgS5GK",
        "outputId": "80ab8c8d-7d52-4464-f61a-45ee1b289eac"
      },
      "execution_count": null,
      "outputs": [
        {
          "output_type": "stream",
          "name": "stdout",
          "text": [
            "No índice 0 a letra é : a \n",
            "No índice 1 a letra é : b \n",
            "No índice 2 a letra é : c \n",
            "No índice 3 a letra é : d \n",
            "No índice 4 a letra é : e \n"
          ]
        }
      ]
    },
    {
      "cell_type": "code",
      "source": [
        "# usando 'enumerate'\n",
        "for i,letra in enumerate('abcde'):\n",
        "    print(\"No índice {} a letra é : {}\".format(i,letra))"
      ],
      "metadata": {
        "colab": {
          "base_uri": "https://localhost:8080/"
        },
        "id": "t__MLZQ6RGyr",
        "outputId": "cbaa0043-ba26-4298-f32c-b1c0935f9f5f"
      },
      "execution_count": null,
      "outputs": [
        {
          "output_type": "stream",
          "name": "stdout",
          "text": [
            "No índice 0 a letra é : a\n",
            "No índice 1 a letra é : b\n",
            "No índice 2 a letra é : c\n",
            "No índice 3 a letra é : d\n",
            "No índice 4 a letra é : e\n"
          ]
        }
      ]
    },
    {
      "cell_type": "markdown",
      "source": [
        "**zip**\n",
        "Observe que o formato *enumerate* realmente retorna, vamos dar uma olhada transformando-o em uma *list()*."
      ],
      "metadata": {
        "id": "Pl8kCR75X4zs"
      }
    },
    {
      "cell_type": "code",
      "source": [
        "list(enumerate('abcdef'))"
      ],
      "metadata": {
        "colab": {
          "base_uri": "https://localhost:8080/"
        },
        "id": "h9mPjr0RRGn_",
        "outputId": "439e065b-4e94-439c-bc56-0cdc0c49d20f"
      },
      "execution_count": null,
      "outputs": [
        {
          "output_type": "execute_result",
          "data": {
            "text/plain": [
              "[(0, 'a'), (1, 'b'), (2, 'c'), (3, 'd'), (4, 'e'), (5, 'f')]"
            ]
          },
          "metadata": {},
          "execution_count": 64
        }
      ]
    },
    {
      "cell_type": "markdown",
      "source": [
        "Era uma lista de tuplas, o que significa que poderíamos usar a descompactação de tuplas durante nosso loop *for*. Essa estrutura de dados é realmente muito comum em Python, especialmente quando se trabalha com bibliotecas externas. Pode-se usar a função *zip()* para criar rapidamente uma lista de tuplas *\"zipando\"* duas listas."
      ],
      "metadata": {
        "id": "hatuXV8FY8rb"
      }
    },
    {
      "cell_type": "code",
      "source": [
        "lista1 = [1,2,3,4,5,6,7]\n",
        "lista2 = ['a','b','c','d','e','f','g']"
      ],
      "metadata": {
        "id": "NUEV2xHnRGb3"
      },
      "execution_count": null,
      "outputs": []
    },
    {
      "cell_type": "code",
      "source": [
        "lista = list(zip(lista1,lista2))\n",
        "print(lista)"
      ],
      "metadata": {
        "colab": {
          "base_uri": "https://localhost:8080/"
        },
        "id": "GckFiYkkhKxO",
        "outputId": "4b90fa0b-c34d-4863-ebed-c01dbbf122e2"
      },
      "execution_count": null,
      "outputs": [
        {
          "output_type": "stream",
          "name": "stdout",
          "text": [
            "[(1, 'a'), (2, 'b'), (3, 'c'), (4, 'd'), (5, 'e'), (6, 'f'), (7, 'g')]\n"
          ]
        }
      ]
    },
    {
      "cell_type": "markdown",
      "source": [
        "Para usar um código gerador para a lista, use por exemplo:"
      ],
      "metadata": {
        "id": "PGQckLbfhlUh"
      }
    },
    {
      "cell_type": "code",
      "source": [
        "for item1, item2 in zip(lista1,lista2):\n",
        "    print('Para essa tupla, o primeiro ítem foi {} e o segundo ítem foi {}'.format(item1,item2))"
      ],
      "metadata": {
        "colab": {
          "base_uri": "https://localhost:8080/"
        },
        "id": "59A_kw2RhWCO",
        "outputId": "4b0e41c7-d436-4a2b-944d-373b72ad2151"
      },
      "execution_count": null,
      "outputs": [
        {
          "output_type": "stream",
          "name": "stdout",
          "text": [
            "Para essa tupla, o primeiro ítem foi 1 e o segundo ítem foi a\n",
            "Para essa tupla, o primeiro ítem foi 2 e o segundo ítem foi b\n",
            "Para essa tupla, o primeiro ítem foi 3 e o segundo ítem foi c\n",
            "Para essa tupla, o primeiro ítem foi 4 e o segundo ítem foi d\n",
            "Para essa tupla, o primeiro ítem foi 5 e o segundo ítem foi e\n",
            "Para essa tupla, o primeiro ítem foi 6 e o segundo ítem foi f\n",
            "Para essa tupla, o primeiro ítem foi 7 e o segundo ítem foi g\n"
          ]
        }
      ]
    },
    {
      "cell_type": "markdown",
      "source": [
        "Operador **in**"
      ],
      "metadata": {
        "id": "2941-7aWiHIy"
      }
    },
    {
      "cell_type": "code",
      "source": [
        "# verifica se um determinado valor está no conjunto e/ou lista\n",
        "'x' in ['x','y','z']"
      ],
      "metadata": {
        "colab": {
          "base_uri": "https://localhost:8080/"
        },
        "id": "IxA9td4ZiNDV",
        "outputId": "77a4b318-15c2-4301-a27b-92645088485d"
      },
      "execution_count": null,
      "outputs": [
        {
          "output_type": "execute_result",
          "data": {
            "text/plain": [
              "True"
            ]
          },
          "metadata": {},
          "execution_count": 68
        }
      ]
    },
    {
      "cell_type": "code",
      "source": [
        "# verifica se x pertence a lista\n",
        "'x' in [1,2,3]"
      ],
      "metadata": {
        "colab": {
          "base_uri": "https://localhost:8080/"
        },
        "id": "PBOjF7zVidDg",
        "outputId": "386533e0-99e4-45b8-813c-916f68ed9001"
      },
      "execution_count": null,
      "outputs": [
        {
          "output_type": "execute_result",
          "data": {
            "text/plain": [
              "False"
            ]
          },
          "metadata": {},
          "execution_count": 69
        }
      ]
    },
    {
      "cell_type": "code",
      "source": [
        "2 in [1,2,3]"
      ],
      "metadata": {
        "colab": {
          "base_uri": "https://localhost:8080/"
        },
        "id": "k6LsrqKVhjpO",
        "outputId": "ed9074dd-692e-4c3e-b1c4-d661197a8d9e"
      },
      "execution_count": null,
      "outputs": [
        {
          "output_type": "execute_result",
          "data": {
            "text/plain": [
              "True"
            ]
          },
          "metadata": {},
          "execution_count": 70
        }
      ]
    },
    {
      "cell_type": "markdown",
      "source": [
        "**not in** podemos combinar para verficar a não existência de um valor em um conjunto de valores."
      ],
      "metadata": {
        "id": "QMNJbs_XjX8v"
      }
    },
    {
      "cell_type": "code",
      "source": [
        "'x' not in ['x','y','z']"
      ],
      "metadata": {
        "colab": {
          "base_uri": "https://localhost:8080/"
        },
        "id": "IMZmP_khjP33",
        "outputId": "169fdf9e-16d6-427b-e1bc-7a7d7e848b75"
      },
      "execution_count": null,
      "outputs": [
        {
          "output_type": "execute_result",
          "data": {
            "text/plain": [
              "False"
            ]
          },
          "metadata": {},
          "execution_count": 71
        }
      ]
    },
    {
      "cell_type": "code",
      "source": [
        "'x' not in [1,2,3]"
      ],
      "metadata": {
        "colab": {
          "base_uri": "https://localhost:8080/"
        },
        "id": "a4-tW0LjjqHj",
        "outputId": "9376c5e1-658a-471a-eb7a-f8d72804d8bd"
      },
      "execution_count": null,
      "outputs": [
        {
          "output_type": "execute_result",
          "data": {
            "text/plain": [
              "True"
            ]
          },
          "metadata": {},
          "execution_count": 73
        }
      ]
    },
    {
      "cell_type": "markdown",
      "source": [
        "**min** e **max** apresenta os valores mínimos e máximos de uma lista de valores."
      ],
      "metadata": {
        "id": "CpzS5KNxk5T0"
      }
    },
    {
      "cell_type": "code",
      "source": [
        "lista = [10,12,25,42,37,29,90]"
      ],
      "metadata": {
        "id": "7qgNn00zhjho"
      },
      "execution_count": null,
      "outputs": []
    },
    {
      "cell_type": "code",
      "source": [
        "min(lista)"
      ],
      "metadata": {
        "colab": {
          "base_uri": "https://localhost:8080/"
        },
        "id": "pfBaSj_QhV7s",
        "outputId": "994069f7-2c54-4d08-c3e4-4e39feb0bbfc"
      },
      "execution_count": null,
      "outputs": [
        {
          "output_type": "execute_result",
          "data": {
            "text/plain": [
              "10"
            ]
          },
          "metadata": {},
          "execution_count": 75
        }
      ]
    },
    {
      "cell_type": "code",
      "source": [
        "max(lista)"
      ],
      "metadata": {
        "colab": {
          "base_uri": "https://localhost:8080/"
        },
        "id": "kvtBc_H6hKsM",
        "outputId": "2cc3d0a0-2316-418e-fb8c-a0ff34c42987"
      },
      "execution_count": null,
      "outputs": [
        {
          "output_type": "execute_result",
          "data": {
            "text/plain": [
              "90"
            ]
          },
          "metadata": {},
          "execution_count": 76
        }
      ]
    },
    {
      "cell_type": "markdown",
      "source": [
        "**random** o *Python* vem com uma biblioteca aleatória embutida. Existem muitas funções incluídas nesta biblioteca aleatória, então vamos mostrar apenas duas funções úteis por enquanto."
      ],
      "metadata": {
        "id": "DGqBGL83laAD"
      }
    },
    {
      "cell_type": "code",
      "source": [
        "from random import shuffle"
      ],
      "metadata": {
        "id": "gZLGo4wcln11"
      },
      "execution_count": null,
      "outputs": []
    },
    {
      "cell_type": "code",
      "source": [
        "shuffle(lista)"
      ],
      "metadata": {
        "id": "wDsgzJ16lnqB"
      },
      "execution_count": null,
      "outputs": []
    },
    {
      "cell_type": "code",
      "source": [
        "lista"
      ],
      "metadata": {
        "colab": {
          "base_uri": "https://localhost:8080/"
        },
        "id": "Qny7g6nMlna6",
        "outputId": "58fefb56-1a80-48c0-87f5-31b34ef67003"
      },
      "execution_count": null,
      "outputs": [
        {
          "output_type": "execute_result",
          "data": {
            "text/plain": [
              "[90, 29, 37, 42, 12, 25, 10]"
            ]
          },
          "metadata": {},
          "execution_count": 79
        }
      ]
    },
    {
      "cell_type": "code",
      "source": [
        "# usando a função 'randint'\n",
        "from random import randint"
      ],
      "metadata": {
        "id": "JNuXFEsymKQ9"
      },
      "execution_count": null,
      "outputs": []
    },
    {
      "cell_type": "code",
      "source": [
        "randint(0,100)"
      ],
      "metadata": {
        "colab": {
          "base_uri": "https://localhost:8080/"
        },
        "id": "kWDELLMjmJ_p",
        "outputId": "d0c1bb8a-afb1-4913-c751-41ae17abaf3d"
      },
      "execution_count": null,
      "outputs": [
        {
          "output_type": "execute_result",
          "data": {
            "text/plain": [
              "39"
            ]
          },
          "metadata": {},
          "execution_count": 81
        }
      ]
    },
    {
      "cell_type": "code",
      "source": [
        "randint(0,100)"
      ],
      "metadata": {
        "colab": {
          "base_uri": "https://localhost:8080/"
        },
        "id": "Wh17Xk1Olmv4",
        "outputId": "16f96da2-9aaf-4cda-d224-296ae6f8d358"
      },
      "execution_count": null,
      "outputs": [
        {
          "output_type": "execute_result",
          "data": {
            "text/plain": [
              "5"
            ]
          },
          "metadata": {},
          "execution_count": 82
        }
      ]
    },
    {
      "cell_type": "code",
      "source": [
        "randint(0,100)"
      ],
      "metadata": {
        "colab": {
          "base_uri": "https://localhost:8080/"
        },
        "id": "U59fhUWchKnt",
        "outputId": "e448d240-1a00-40c5-aba1-86f7e5c6fcf5"
      },
      "execution_count": null,
      "outputs": [
        {
          "output_type": "execute_result",
          "data": {
            "text/plain": [
              "90"
            ]
          },
          "metadata": {},
          "execution_count": 83
        }
      ]
    },
    {
      "cell_type": "markdown",
      "source": [
        "**input** permite fornecer dado/valor/informação via janela podendo associar-se a um objeto/variável."
      ],
      "metadata": {
        "id": "E1a8Pf-Dm38B"
      }
    },
    {
      "cell_type": "code",
      "source": [
        "nome = input('Entre seu nome :')\n",
        "print(nome)"
      ],
      "metadata": {
        "colab": {
          "base_uri": "https://localhost:8080/"
        },
        "id": "ME_iJlYtnFwi",
        "outputId": "0819be21-e8a5-4b8a-dbf2-e9b9dfffcb9c"
      },
      "execution_count": null,
      "outputs": [
        {
          "output_type": "stream",
          "name": "stdout",
          "text": [
            "Entre seu nome :Rudiney S Pereira\n",
            "Rudiney S Pereira\n"
          ]
        }
      ]
    },
    {
      "cell_type": "markdown",
      "source": [
        "#Compreensão de lista"
      ],
      "metadata": {
        "id": "4AEYfuDRn3xe"
      }
    },
    {
      "cell_type": "markdown",
      "source": [
        "Além das operações de sequência e métodos de lista, o *Python* inclui uma operação mais avançada chamada compreensão de lista.\n",
        "\n",
        "As compreensões de lista permitem construir listas usando uma notação diferente. Pode-se pensar nisso como essencialmente uma linha para um loop construído dentro de colchetes. Para um exemplo simples:"
      ],
      "metadata": {
        "id": "iKHUpViJoEsY"
      }
    },
    {
      "cell_type": "code",
      "source": [
        "# Exemplo 1 - Separação de caracteres\n",
        "\n",
        "caracteres = [x for x in 'palavra']\n",
        "print(caracteres)"
      ],
      "metadata": {
        "colab": {
          "base_uri": "https://localhost:8080/"
        },
        "id": "Ol5o0GAzhKWM",
        "outputId": "917fa371-5e3d-47f9-8d11-ce740fe1cea4"
      },
      "execution_count": null,
      "outputs": [
        {
          "output_type": "stream",
          "name": "stdout",
          "text": [
            "['p', 'a', 'l', 'a', 'v', 'r', 'a']\n"
          ]
        }
      ]
    },
    {
      "cell_type": "code",
      "source": [
        "# Exemplo 2 - Obter o quadrado de números em uma lista com um range\n",
        "num_quadraticos = [x**2 for x in range(0,11)]\n",
        "print(num_quadraticos)"
      ],
      "metadata": {
        "colab": {
          "base_uri": "https://localhost:8080/"
        },
        "id": "fcf7KbEwo7Ez",
        "outputId": "2a78a988-9aa8-4c2f-88d4-c0d8457031d9"
      },
      "execution_count": null,
      "outputs": [
        {
          "output_type": "stream",
          "name": "stdout",
          "text": [
            "[0, 1, 4, 9, 16, 25, 36, 49, 64, 81, 100]\n"
          ]
        }
      ]
    },
    {
      "cell_type": "code",
      "source": [
        "# Exemplo 3 - Como adicionar com teste 'if'\n",
        "lista = [x for x in range(11) if x % 2 == 0]\n",
        "print(lista)"
      ],
      "metadata": {
        "colab": {
          "base_uri": "https://localhost:8080/"
        },
        "id": "xikbnd59o63H",
        "outputId": "e7a67072-09fa-4daf-c2ac-12f827fc2420"
      },
      "execution_count": null,
      "outputs": [
        {
          "output_type": "stream",
          "name": "stdout",
          "text": [
            "[0, 2, 4, 6, 8, 10]\n"
          ]
        }
      ]
    },
    {
      "cell_type": "code",
      "source": [
        "# Exemplo 4 - Adicionando uma aritmética um pouco mais complexa\n",
        "#             Convertendo graus Celsius em Farenheit\n",
        "celsius = [0,15,32.1,34.5]\n",
        "\n",
        "fahrenheit = [((9/5)*temp + 32) for temp in celsius ]\n",
        "\n",
        "fahrenheit"
      ],
      "metadata": {
        "colab": {
          "base_uri": "https://localhost:8080/"
        },
        "id": "ZRU0RCR8u0Li",
        "outputId": "235ce38f-c23f-48c0-f445-f2ae50987ad4"
      },
      "execution_count": null,
      "outputs": [
        {
          "output_type": "execute_result",
          "data": {
            "text/plain": [
              "[32.0, 59.0, 89.78, 94.1]"
            ]
          },
          "metadata": {},
          "execution_count": 4
        }
      ]
    },
    {
      "cell_type": "code",
      "source": [
        "# Example 5 - Performar listas de lista de compreensão\n",
        "lista = [ x**2 for x in [x**2 for x in range(14)]]\n",
        "\n",
        "lista"
      ],
      "metadata": {
        "colab": {
          "base_uri": "https://localhost:8080/"
        },
        "id": "bpwQGvL_o6mV",
        "outputId": "0b319bfd-8b35-4c17-de0c-4163e5e494a4"
      },
      "execution_count": null,
      "outputs": [
        {
          "output_type": "execute_result",
          "data": {
            "text/plain": [
              "[0, 1, 16, 81, 256, 625, 1296, 2401, 4096, 6561, 10000, 14641, 20736, 28561]"
            ]
          },
          "metadata": {},
          "execution_count": 6
        }
      ]
    },
    {
      "cell_type": "markdown",
      "source": [
        "#Soluções de Avaliação de Declarações"
      ],
      "metadata": {
        "id": "hXeVE8mrw0RP"
      }
    },
    {
      "cell_type": "markdown",
      "source": [
        "Use **for**, **.split()**, e **if** para avaliar declarações."
      ],
      "metadata": {
        "id": "pafXqmNWw5B3"
      }
    },
    {
      "cell_type": "code",
      "source": [
        "frase = 'Apresenta somente as palavras que iniciam com s nessa sentença!'"
      ],
      "metadata": {
        "id": "HETjf1gdQE32"
      },
      "execution_count": null,
      "outputs": []
    },
    {
      "cell_type": "code",
      "source": [
        "for palavra in frase.split():\n",
        "    if palavra[0] == 's':\n",
        "        print(palavra)"
      ],
      "metadata": {
        "colab": {
          "base_uri": "https://localhost:8080/"
        },
        "id": "CaTM10pfxTE5",
        "outputId": "bfb2dc3d-dc66-447c-cd06-15a58772304c"
      },
      "execution_count": null,
      "outputs": [
        {
          "output_type": "stream",
          "name": "stdout",
          "text": [
            "somente\n",
            "s\n",
            "sentença!\n"
          ]
        }
      ]
    },
    {
      "cell_type": "markdown",
      "source": [
        "Use **range()** para imprimir todos os números pares de 0 até 20."
      ],
      "metadata": {
        "id": "Uxaym0Q1yVSK"
      }
    },
    {
      "cell_type": "code",
      "source": [
        "list(range(0,20,2))"
      ],
      "metadata": {
        "colab": {
          "base_uri": "https://localhost:8080/"
        },
        "id": "KQZifU0nyifg",
        "outputId": "2cc32753-eb1d-4e24-d5db-38cb72c20625"
      },
      "execution_count": null,
      "outputs": [
        {
          "output_type": "execute_result",
          "data": {
            "text/plain": [
              "[0, 2, 4, 6, 8, 10, 12, 14, 16, 18]"
            ]
          },
          "metadata": {},
          "execution_count": 11
        }
      ]
    },
    {
      "cell_type": "markdown",
      "source": [
        "Use uma lista de compreensão para criar uma lista de todos os números entre 1 e 60 que são divisíveis por 3."
      ],
      "metadata": {
        "id": "Qd5g4R46y3kj"
      }
    },
    {
      "cell_type": "code",
      "source": [
        "[x for x in range(1,61) if x%3 == 0]"
      ],
      "metadata": {
        "colab": {
          "base_uri": "https://localhost:8080/"
        },
        "id": "xHETzkg-yMWC",
        "outputId": "8928919c-070a-4603-e548-7d0b4d1c4f35"
      },
      "execution_count": null,
      "outputs": [
        {
          "output_type": "execute_result",
          "data": {
            "text/plain": [
              "[3, 6, 9, 12, 15, 18, 21, 24, 27, 30, 33, 36, 39, 42, 45, 48, 51, 54, 57, 60]"
            ]
          },
          "metadata": {},
          "execution_count": 12
        }
      ]
    },
    {
      "cell_type": "markdown",
      "source": [
        "Percorra a string abaixo e se o comprimento de uma palavra for par, imprima \"PAR!\""
      ],
      "metadata": {
        "id": "c2AkST7tBG0x"
      }
    },
    {
      "cell_type": "code",
      "source": [
        "frase = 'Imprima as palavras da sentença cujo comprimento possui número par de caracteres!'"
      ],
      "metadata": {
        "id": "oGm1oUu8BWCn"
      },
      "execution_count": null,
      "outputs": []
    },
    {
      "cell_type": "code",
      "source": [
        "for palavra in frase.split():\n",
        "    if len(palavra)%2 == 0:\n",
        "        print(palavra + \" <-- possui comprimento PAR!\")"
      ],
      "metadata": {
        "id": "eAjtOOTs0JTy",
        "colab": {
          "base_uri": "https://localhost:8080/"
        },
        "outputId": "6388af46-df59-4aed-ee56-0f73c30cd33c"
      },
      "execution_count": null,
      "outputs": [
        {
          "output_type": "stream",
          "name": "stdout",
          "text": [
            "as <-- possui comprimento PAR!\n",
            "palavras <-- possui comprimento PAR!\n",
            "da <-- possui comprimento PAR!\n",
            "sentença <-- possui comprimento PAR!\n",
            "cujo <-- possui comprimento PAR!\n",
            "possui <-- possui comprimento PAR!\n",
            "número <-- possui comprimento PAR!\n",
            "de <-- possui comprimento PAR!\n"
          ]
        }
      ]
    },
    {
      "cell_type": "markdown",
      "source": [
        "Escreva um programa que imprima os inteiros de 1 a 31. Mas para múltiplos de três imprima o número e a string \"Mult_3\"; para os múltiplos de cinco imprima o número e a string \"Mult_5\". Para números que são múltiplos de três e cinco, imprima o número e a string \"Mult_3_5\"."
      ],
      "metadata": {
        "id": "kXMooMhTC7xA"
      }
    },
    {
      "cell_type": "code",
      "source": [
        "for num in range(1,31):\n",
        "    if num % 3 == 0 and num % 5 == 0:\n",
        "        print(num,\" Mult_3_5\")\n",
        "    elif num % 3 == 0:\n",
        "        print(num,\" Mult_3\")\n",
        "    elif num % 5 == 0:\n",
        "        print(num,\" Mult_5\")\n",
        "    else:\n",
        "        print(num)"
      ],
      "metadata": {
        "colab": {
          "base_uri": "https://localhost:8080/"
        },
        "id": "zcj7OfY0CSp5",
        "outputId": "827ce7fa-ea13-4926-c0e8-8e16eee3db77"
      },
      "execution_count": null,
      "outputs": [
        {
          "output_type": "stream",
          "name": "stdout",
          "text": [
            "1\n",
            "2\n",
            "3  Mult_3\n",
            "4\n",
            "5  Mult_5\n",
            "6  Mult_3\n",
            "7\n",
            "8\n",
            "9  Mult_3\n",
            "10  Mult_5\n",
            "11\n",
            "12  Mult_3\n",
            "13\n",
            "14\n",
            "15  Mult_3_5\n",
            "16\n",
            "17\n",
            "18  Mult_3\n",
            "19\n",
            "20  Mult_5\n",
            "21  Mult_3\n",
            "22\n",
            "23\n",
            "24  Mult_3\n",
            "25  Mult_5\n",
            "26\n",
            "27  Mult_3\n",
            "28\n",
            "29\n",
            "30  Mult_3_5\n"
          ]
        }
      ]
    },
    {
      "cell_type": "markdown",
      "source": [
        "Use uma compreensão de lista para criar uma lista das primeiras letras de cada palavra na sequência abaixo:"
      ],
      "metadata": {
        "id": "Ru4gpnbnFB-g"
      }
    },
    {
      "cell_type": "code",
      "source": [
        "frase = 'Crie uma lista de lista das primeiras letras de cada palavra desta sentença.'"
      ],
      "metadata": {
        "id": "yGWttRWx0JRw"
      },
      "execution_count": null,
      "outputs": []
    },
    {
      "cell_type": "code",
      "source": [
        "[palavra[0] for palavra in frase.split()]"
      ],
      "metadata": {
        "id": "i7OE_bwM0JM8",
        "colab": {
          "base_uri": "https://localhost:8080/"
        },
        "outputId": "9b0bc08a-b25e-400d-960e-10f71f9f1552"
      },
      "execution_count": null,
      "outputs": [
        {
          "output_type": "execute_result",
          "data": {
            "text/plain": [
              "['C', 'u', 'l', 'd', 'l', 'd', 'p', 'l', 'd', 'c', 'p', 'd', 's']"
            ]
          },
          "metadata": {},
          "execution_count": 7
        }
      ]
    },
    {
      "cell_type": "code",
      "source": [],
      "metadata": {
        "id": "t7-x3vES0JJ5"
      },
      "execution_count": null,
      "outputs": []
    },
    {
      "cell_type": "code",
      "source": [],
      "metadata": {
        "id": "Ri9tUS7v0JGB"
      },
      "execution_count": null,
      "outputs": []
    },
    {
      "cell_type": "code",
      "source": [],
      "metadata": {
        "id": "5YpcuN_Z0JB4"
      },
      "execution_count": null,
      "outputs": []
    },
    {
      "cell_type": "code",
      "source": [],
      "metadata": {
        "id": "aE6cJKRf0I-4"
      },
      "execution_count": null,
      "outputs": []
    },
    {
      "cell_type": "code",
      "source": [],
      "metadata": {
        "id": "4wWDRJP70I6F"
      },
      "execution_count": null,
      "outputs": []
    },
    {
      "cell_type": "code",
      "source": [],
      "metadata": {
        "id": "nzh7tlXY0I2q"
      },
      "execution_count": null,
      "outputs": []
    },
    {
      "cell_type": "code",
      "source": [],
      "metadata": {
        "id": "gcWs4Oli0Ixq"
      },
      "execution_count": null,
      "outputs": []
    },
    {
      "cell_type": "markdown",
      "source": [
        "#Operadores de comparação\n"
      ],
      "metadata": {
        "id": "BMmECVnbzydK"
      }
    },
    {
      "cell_type": "markdown",
      "source": [
        "Nessa sessão vamos aprender sobre *Operadores de Comparação* em Python. Esses operadores  permitirão comparar variáveis ​​e gerar um valor booleano *(True ou False)*.\n",
        "Se você tem alguma experiência em matemática, esses operadores devem ser muito diretos.\n",
        "Primeiro, apresentaremos uma tabela dos operadores de comparação e, em seguida, trabalharemos com alguns exemplos:\n",
        "\n",
        "Tabela de Operadores de Comparação\n",
        "Na tabela abaixo, *a = 3* e *b = 4*."
      ],
      "metadata": {
        "id": "6eNbq9y6z9Gd"
      }
    },
    {
      "cell_type": "code",
      "source": [
        "# Igualdade lógica\n",
        "# Se valor da esquerda dois oprandos é igual ao valor da direita da comparação\n",
        "a == b"
      ],
      "metadata": {
        "id": "IBpzqI0a16Wx"
      },
      "execution_count": null,
      "outputs": []
    },
    {
      "cell_type": "code",
      "source": [
        "# Se os valores da esquerda e da direita dos dois operandos não são iguais\n",
        "a != b"
      ],
      "metadata": {
        "id": "gqeHcAjH2GTn"
      },
      "execution_count": null,
      "outputs": []
    },
    {
      "cell_type": "code",
      "source": [
        "# Se o valor da esquerda do operando é maior que o valor da direita\n",
        "a > b"
      ],
      "metadata": {
        "id": "0WQCXsPr2r3R"
      },
      "execution_count": null,
      "outputs": []
    },
    {
      "cell_type": "code",
      "source": [
        "# Se o valor da esquerda do operando é menor que o valor da direita\n",
        "a < b"
      ],
      "metadata": {
        "id": "YMWj5t7Q25K4"
      },
      "execution_count": null,
      "outputs": []
    },
    {
      "cell_type": "code",
      "source": [
        "# Se o valor da esquerda dos operandos é maior ou igual ao valor da direita\n",
        "a >= b"
      ],
      "metadata": {
        "id": "qUWoP6A73C07"
      },
      "execution_count": null,
      "outputs": []
    },
    {
      "cell_type": "code",
      "source": [
        "# Se o valor da esquerda dos operandos é menor ou igual ao valor da direita\n",
        "a <= b"
      ],
      "metadata": {
        "id": "lrNkoi9e3QJv"
      },
      "execution_count": null,
      "outputs": []
    },
    {
      "cell_type": "markdown",
      "source": [
        "# Operadores de comparação encadeados\n",
        "Um recurso interessante do Python é a capacidade de *encadear várias comparações* para realizar um teste mais complexo. Você pode usar essas comparações encadeadas como abreviação para expressões booleanas maiores.<br>\n",
        "Os exemplos abaixo simplificam o entendimento de realizarmos testes com operadores encadeados utilizando as instruções **and** e **or**\n",
        "\n",
        "Vejamos alguns exemplos de uso de encadeamentos, considerando os seguintes valores para as variáveis: *a = 1*, *b = 2* e *c = 3* :"
      ],
      "metadata": {
        "id": "vw_hT4qD0yLb"
      }
    },
    {
      "cell_type": "code",
      "source": [
        "a = 1\n",
        "b = 2\n",
        "c = 3"
      ],
      "metadata": {
        "id": "aCx0T0PE6IhX"
      },
      "execution_count": null,
      "outputs": []
    },
    {
      "cell_type": "code",
      "source": [
        "a < b < c"
      ],
      "metadata": {
        "colab": {
          "base_uri": "https://localhost:8080/"
        },
        "id": "6ThLFwPv4ws2",
        "outputId": "8821e5e0-a63e-4ac6-942f-9366c5a7035c"
      },
      "execution_count": null,
      "outputs": [
        {
          "output_type": "execute_result",
          "data": {
            "text/plain": [
              "True"
            ]
          },
          "metadata": {},
          "execution_count": 4
        }
      ]
    },
    {
      "cell_type": "code",
      "source": [
        "a < b and b < c"
      ],
      "metadata": {
        "colab": {
          "base_uri": "https://localhost:8080/"
        },
        "id": "4lZ8IXye5hU-",
        "outputId": "37f8ab53-3c3d-4131-fd4e-9f3fe130cd1a"
      },
      "execution_count": null,
      "outputs": [
        {
          "output_type": "execute_result",
          "data": {
            "text/plain": [
              "True"
            ]
          },
          "metadata": {},
          "execution_count": 5
        }
      ]
    },
    {
      "cell_type": "code",
      "source": [
        "a < c > b"
      ],
      "metadata": {
        "colab": {
          "base_uri": "https://localhost:8080/"
        },
        "id": "ONeGrURi52Ea",
        "outputId": "3d4671df-6cab-438b-8ad8-3593b56a0a41"
      },
      "execution_count": null,
      "outputs": [
        {
          "output_type": "execute_result",
          "data": {
            "text/plain": [
              "True"
            ]
          },
          "metadata": {},
          "execution_count": 6
        }
      ]
    },
    {
      "cell_type": "code",
      "source": [
        "a < c and c > b"
      ],
      "metadata": {
        "colab": {
          "base_uri": "https://localhost:8080/"
        },
        "id": "tb0K0S5H6FFL",
        "outputId": "7a762f3f-6e84-434f-9f20-f242c1058cd6"
      },
      "execution_count": null,
      "outputs": [
        {
          "output_type": "execute_result",
          "data": {
            "text/plain": [
              "True"
            ]
          },
          "metadata": {},
          "execution_count": 7
        }
      ]
    },
    {
      "cell_type": "code",
      "source": [
        "a == b or c > b"
      ],
      "metadata": {
        "colab": {
          "base_uri": "https://localhost:8080/"
        },
        "id": "rGUDRrqJ6q0X",
        "outputId": "29f39643-49a4-4250-ebac-158659ad22c0"
      },
      "execution_count": null,
      "outputs": [
        {
          "output_type": "execute_result",
          "data": {
            "text/plain": [
              "True"
            ]
          },
          "metadata": {},
          "execution_count": 8
        }
      ]
    },
    {
      "cell_type": "code",
      "source": [
        "a == b and a < c"
      ],
      "metadata": {
        "colab": {
          "base_uri": "https://localhost:8080/"
        },
        "id": "yelM4asU67wx",
        "outputId": "2b43e97c-7390-4b18-ddb9-be894a937370"
      },
      "execution_count": null,
      "outputs": [
        {
          "output_type": "execute_result",
          "data": {
            "text/plain": [
              "False"
            ]
          },
          "metadata": {},
          "execution_count": 9
        }
      ]
    },
    {
      "cell_type": "code",
      "source": [
        "a > c or b < c"
      ],
      "metadata": {
        "colab": {
          "base_uri": "https://localhost:8080/"
        },
        "id": "GlzxFiMW7SpD",
        "outputId": "44186770-1774-44bb-cbad-6d71ed7ed014"
      },
      "execution_count": null,
      "outputs": [
        {
          "output_type": "execute_result",
          "data": {
            "text/plain": [
              "True"
            ]
          },
          "metadata": {},
          "execution_count": 10
        }
      ]
    },
    {
      "cell_type": "markdown",
      "metadata": {
        "id": "oPZwztzMRDNq"
      },
      "source": [
        "# Controle de fluxo de processamento"
      ]
    },
    {
      "cell_type": "code",
      "metadata": {
        "colab": {
          "base_uri": "https://localhost:8080/"
        },
        "id": "3PvbzFN9PtLb",
        "outputId": "3c121d01-5adf-4465-e8a3-939da82e343f"
      },
      "source": [
        "# if / elif / else\n",
        "if 3**3 == 27:\n",
        "  print('Correto.')"
      ],
      "execution_count": null,
      "outputs": [
        {
          "output_type": "stream",
          "text": [
            "Correto.\n"
          ],
          "name": "stdout"
        }
      ]
    },
    {
      "cell_type": "code",
      "metadata": {
        "colab": {
          "base_uri": "https://localhost:8080/"
        },
        "id": "oFIWg_tMRqBg",
        "outputId": "777cade1-1020-44f7-f045-15c8f05de36f"
      },
      "source": [
        "# controles 'elif' e 'else'\n",
        "dap = 18.0\n",
        "if dap == 3:\n",
        "  print(3)\n",
        "elif dap == 8:\n",
        "  print(8)\n",
        "else:\n",
        "  print('dap é maior')\n",
        "  print('dap = ',dap)"
      ],
      "execution_count": null,
      "outputs": [
        {
          "output_type": "stream",
          "name": "stdout",
          "text": [
            "dap é maior\n",
            "dap =  18.0\n"
          ]
        }
      ]
    },
    {
      "cell_type": "markdown",
      "metadata": {
        "id": "AWD1XeRFWIiG"
      },
      "source": [
        "# Laços"
      ]
    },
    {
      "cell_type": "markdown",
      "metadata": {
        "id": "plNwrlMwW1lq"
      },
      "source": [
        "### Comando 'for'"
      ]
    },
    {
      "cell_type": "code",
      "metadata": {
        "colab": {
          "base_uri": "https://localhost:8080/"
        },
        "id": "IWn5jlSiWw7v",
        "outputId": "0ac7c0ff-d452-442d-8152-4971d1c2616b"
      },
      "source": [
        "for i in range(7):\n",
        "  print(i)"
      ],
      "execution_count": null,
      "outputs": [
        {
          "output_type": "stream",
          "text": [
            "0\n",
            "1\n",
            "2\n",
            "3\n",
            "4\n",
            "5\n",
            "6\n"
          ],
          "name": "stdout"
        }
      ]
    },
    {
      "cell_type": "code",
      "metadata": {
        "colab": {
          "base_uri": "https://localhost:8080/"
        },
        "id": "DAphFLLTXPnD",
        "outputId": "0c54acf1-85d5-4b87-e6e8-db131980bd5d"
      },
      "source": [
        "for palavra in ('Frio','Calor','Chuva','Neve','Sol','Nuvem'):\n",
        "  print(palavra)"
      ],
      "execution_count": null,
      "outputs": [
        {
          "output_type": "stream",
          "text": [
            "Frio\n",
            "Calor\n",
            "Chuva\n",
            "Neve\n",
            "Sol\n",
            "Nuvem\n"
          ],
          "name": "stdout"
        }
      ]
    },
    {
      "cell_type": "code",
      "metadata": {
        "id": "FjNCF5MxYy_E"
      },
      "source": [
        "especies = ['Canela','Pessegueiro','Pinus','Ipe','Corticeira']"
      ],
      "execution_count": null,
      "outputs": []
    },
    {
      "cell_type": "code",
      "metadata": {
        "id": "O26NDTNdZLZd",
        "colab": {
          "base_uri": "https://localhost:8080/"
        },
        "outputId": "5786f876-36e9-446f-d11e-8544e34f1f47"
      },
      "source": [
        "# dada uma lista, apresente somente os números pares\n",
        "lista = [1,2,3,4,5,6,7,8,9,10,11,12,13,14,15]\n",
        "for num in lista:\n",
        "    if num % 2 == 0:\n",
        "        print(num)"
      ],
      "execution_count": null,
      "outputs": [
        {
          "output_type": "stream",
          "name": "stdout",
          "text": [
            "2\n",
            "4\n",
            "6\n",
            "8\n",
            "10\n",
            "12\n",
            "14\n"
          ]
        }
      ]
    },
    {
      "cell_type": "code",
      "source": [
        "# Fazendo uma variação do código anterior\n",
        "for num in lista:\n",
        "    if num % 2 == 0:\n",
        "        print('Número par :',num)\n",
        "    else:\n",
        "        print('Número ímpar : ',num)"
      ],
      "metadata": {
        "colab": {
          "base_uri": "https://localhost:8080/"
        },
        "id": "jzZTzJ_G-9Q2",
        "outputId": "9345fbb2-99f3-413b-e977-abfa668b456d"
      },
      "execution_count": null,
      "outputs": [
        {
          "output_type": "stream",
          "name": "stdout",
          "text": [
            "Número ímpar :  1\n",
            "Número par : 2\n",
            "Número ímpar :  3\n",
            "Número par : 4\n",
            "Número ímpar :  5\n",
            "Número par : 6\n",
            "Número ímpar :  7\n",
            "Número par : 8\n",
            "Número ímpar :  9\n",
            "Número par : 10\n",
            "Número ímpar :  11\n",
            "Número par : 12\n",
            "Número ímpar :  13\n",
            "Número par : 14\n",
            "Número ímpar :  15\n"
          ]
        }
      ]
    },
    {
      "cell_type": "code",
      "source": [
        "# Durante a execução de um 'for' é muito comum fazer uma operação de soma.\n",
        "# Por exemplo, a primeira forma de se fazer isso é:\n",
        "# Inicia a variável lista_soma = 0\n",
        "lista_soma = 0\n",
        "\n",
        "for num in lista:\n",
        "    lista_soma = lista_soma + num\n",
        "\n",
        "print(lista_soma)"
      ],
      "metadata": {
        "colab": {
          "base_uri": "https://localhost:8080/"
        },
        "id": "ZFnlXHJFAKZB",
        "outputId": "2dd49be9-bb25-4ade-e14c-85c4dca18ab5"
      },
      "execution_count": null,
      "outputs": [
        {
          "output_type": "stream",
          "name": "stdout",
          "text": [
            "120\n"
          ]
        }
      ]
    },
    {
      "cell_type": "code",
      "source": [
        "# A segunda forma de se fazer um somatório é:\n",
        "lista_soma = 0\n",
        "\n",
        "for num in lista:\n",
        "    lista_soma += num\n",
        "\n",
        "print(lista_soma)"
      ],
      "metadata": {
        "colab": {
          "base_uri": "https://localhost:8080/"
        },
        "id": "4oak_hNrA1zk",
        "outputId": "92240357-08ee-4736-ee91-9948768d8e3e"
      },
      "execution_count": null,
      "outputs": [
        {
          "output_type": "stream",
          "name": "stdout",
          "text": [
            "120\n"
          ]
        }
      ]
    },
    {
      "cell_type": "markdown",
      "source": [
        "####O comando **for** com **string**"
      ],
      "metadata": {
        "id": "znKsQIBJFc6L"
      }
    },
    {
      "cell_type": "code",
      "source": [
        "# O comando 'for' para strings\n",
        "frase = 'Essa sentença é curta.'\n",
        "for letras in frase:\n",
        "  print(letras)"
      ],
      "metadata": {
        "colab": {
          "base_uri": "https://localhost:8080/"
        },
        "id": "29_emw_KCVXZ",
        "outputId": "52b429d5-2003-4f73-f6e2-68e7914dfe42"
      },
      "execution_count": null,
      "outputs": [
        {
          "output_type": "stream",
          "name": "stdout",
          "text": [
            "E\n",
            "s\n",
            "s\n",
            "a\n",
            " \n",
            "s\n",
            "e\n",
            "n\n",
            "t\n",
            "e\n",
            "n\n",
            "ç\n",
            "a\n",
            " \n",
            "é\n",
            " \n",
            "c\n",
            "u\n",
            "r\n",
            "t\n",
            "a\n",
            ".\n"
          ]
        }
      ]
    },
    {
      "cell_type": "markdown",
      "source": [
        "####O comando **for** com **tuplas**"
      ],
      "metadata": {
        "id": "mxmZutyoFuco"
      }
    },
    {
      "cell_type": "code",
      "source": [
        "# Usando o comando 'for' com tuplas\n",
        "tupla = (1,3,5,7,9)\n",
        "for num in tupla:\n",
        "  print(num)"
      ],
      "metadata": {
        "colab": {
          "base_uri": "https://localhost:8080/"
        },
        "id": "33VG6emDCndk",
        "outputId": "87879651-3e52-47a9-8634-b5ad19a230b6"
      },
      "execution_count": null,
      "outputs": [
        {
          "output_type": "stream",
          "name": "stdout",
          "text": [
            "1\n",
            "3\n",
            "5\n",
            "7\n",
            "9\n"
          ]
        }
      ]
    },
    {
      "cell_type": "code",
      "source": [
        "# Usando o comando 'for' com uma sequência de tuplas.\n",
        "lista_tuplas = [(1,2),(2,4),(3,6),(4,8)]\n",
        "for tuplas in lista_tuplas:\n",
        "  print(tuplas)\n"
      ],
      "metadata": {
        "colab": {
          "base_uri": "https://localhost:8080/"
        },
        "id": "ezfCJBXJDDpU",
        "outputId": "62cc95d2-c49a-4901-e091-67a307114d17"
      },
      "execution_count": null,
      "outputs": [
        {
          "output_type": "stream",
          "name": "stdout",
          "text": [
            "(1, 2)\n",
            "(2, 4)\n",
            "(3, 6)\n",
            "(4, 8)\n"
          ]
        }
      ]
    },
    {
      "cell_type": "code",
      "source": [
        "# Acessando um dos valores dentro das tuplas\n",
        "for (v1,v2) in lista_tuplas:\n",
        "  print(v1)"
      ],
      "metadata": {
        "colab": {
          "base_uri": "https://localhost:8080/"
        },
        "id": "Fzr0AJ5kDyIq",
        "outputId": "4d3c87cc-c356-4310-b29f-de99dd98c25c"
      },
      "execution_count": null,
      "outputs": [
        {
          "output_type": "stream",
          "name": "stdout",
          "text": [
            "1\n",
            "2\n",
            "3\n",
            "4\n"
          ]
        }
      ]
    },
    {
      "cell_type": "markdown",
      "source": [
        "####O comando **for** com dicionários"
      ],
      "metadata": {
        "id": "oQlu_ikCF4TP"
      }
    },
    {
      "cell_type": "code",
      "source": [
        "# Considere o seguinte dicionário\n",
        "d = {'k1':8.15,'k2':6.34,'k3':3.08}"
      ],
      "metadata": {
        "id": "l6IHmISGGSZc"
      },
      "execution_count": null,
      "outputs": []
    },
    {
      "cell_type": "code",
      "source": [
        "for item in d:\n",
        "  print(item)"
      ],
      "metadata": {
        "colab": {
          "base_uri": "https://localhost:8080/"
        },
        "id": "J8z1NKVAFVbI",
        "outputId": "7f0812d6-bf39-4021-d6d2-ac3704d60df6"
      },
      "execution_count": null,
      "outputs": [
        {
          "output_type": "stream",
          "name": "stdout",
          "text": [
            "k1\n",
            "k2\n",
            "k3\n"
          ]
        }
      ]
    },
    {
      "cell_type": "markdown",
      "source": [
        "Observe como isso produz apenas as chaves. Então, como podemos obter os valores? Ou ambas as chaves e os valores?\n",
        "\n",
        "Vamos apresentar três novos métodos de dicionário: **.keys()**, **.values()** e **.items()**.\n",
        "\n",
        "Em *Python*, cada um desses métodos retorna um objeto de visualização do dicionário. Suporta operações como testes de associação e iteração, mas seu conteúdo não é independente do dicionário original – é apenas uma visão. Como segue na sequência:"
      ],
      "metadata": {
        "id": "Y6IMbVhzG9Fh"
      }
    },
    {
      "cell_type": "code",
      "source": [
        "d.items()"
      ],
      "metadata": {
        "colab": {
          "base_uri": "https://localhost:8080/"
        },
        "id": "7_DBqSVRHkET",
        "outputId": "ccac883f-4a3e-49c5-c6e6-75f85203bd9f"
      },
      "execution_count": null,
      "outputs": [
        {
          "output_type": "execute_result",
          "data": {
            "text/plain": [
              "dict_items([('k1', 8.15), ('k2', 6.34), ('k3', 3.08)])"
            ]
          },
          "metadata": {},
          "execution_count": 37
        }
      ]
    },
    {
      "cell_type": "code",
      "source": [
        "d.values()"
      ],
      "metadata": {
        "colab": {
          "base_uri": "https://localhost:8080/"
        },
        "id": "fQKrwSsZGws2",
        "outputId": "fb9e6d09-ab40-4c95-b658-fac9cb427994"
      },
      "execution_count": null,
      "outputs": [
        {
          "output_type": "execute_result",
          "data": {
            "text/plain": [
              "dict_values([8.15, 6.34, 3.08])"
            ]
          },
          "metadata": {},
          "execution_count": 38
        }
      ]
    },
    {
      "cell_type": "code",
      "source": [
        "d.keys()"
      ],
      "metadata": {
        "colab": {
          "base_uri": "https://localhost:8080/"
        },
        "id": "EVMTX2uEGwd5",
        "outputId": "7f20fb4b-1773-45dd-e94e-1a6b81f5f5bb"
      },
      "execution_count": null,
      "outputs": [
        {
          "output_type": "execute_result",
          "data": {
            "text/plain": [
              "dict_keys(['k1', 'k2', 'k3'])"
            ]
          },
          "metadata": {},
          "execution_count": 39
        }
      ]
    },
    {
      "cell_type": "markdown",
      "source": [
        "Acessando chaves *(keys)* e valores *(values)*."
      ],
      "metadata": {
        "id": "H84gcETkH9rF"
      }
    },
    {
      "cell_type": "code",
      "source": [
        "# Acessando chaves e valores\n",
        "for k,v in d.items():\n",
        "    print(k)\n",
        "    print(v)"
      ],
      "metadata": {
        "colab": {
          "base_uri": "https://localhost:8080/"
        },
        "id": "q33O89enIGXU",
        "outputId": "5b660fbc-a49c-4950-addb-b4943df61a12"
      },
      "execution_count": null,
      "outputs": [
        {
          "output_type": "stream",
          "name": "stdout",
          "text": [
            "k1\n",
            "8.15\n",
            "k2\n",
            "6.34\n",
            "k3\n",
            "3.08\n"
          ]
        }
      ]
    },
    {
      "cell_type": "code",
      "source": [
        "# Se deseja obter uma lista das chaves\n",
        "lista = list(d.items())\n",
        "print(lista)"
      ],
      "metadata": {
        "colab": {
          "base_uri": "https://localhost:8080/"
        },
        "id": "RIcRIgqrITBT",
        "outputId": "a730b978-94b1-4039-b596-6e9320d2f8bd"
      },
      "execution_count": null,
      "outputs": [
        {
          "output_type": "stream",
          "name": "stdout",
          "text": [
            "[('k1', 8.15), ('k2', 6.34), ('k3', 3.08)]\n"
          ]
        }
      ]
    },
    {
      "cell_type": "code",
      "source": [
        "# Se deseja obter uma lista dos valores\n",
        "lista_valores = list(d.values())\n",
        "print(lista_valores)"
      ],
      "metadata": {
        "colab": {
          "base_uri": "https://localhost:8080/"
        },
        "id": "cAafKFe9Iy0V",
        "outputId": "6d1e3b0e-29be-461e-97aa-a3b3f5ee0e8f"
      },
      "execution_count": null,
      "outputs": [
        {
          "output_type": "stream",
          "name": "stdout",
          "text": [
            "[8.15, 6.34, 3.08]\n"
          ]
        }
      ]
    },
    {
      "cell_type": "markdown",
      "source": [
        "Acessando um valor na lista através de sua posição na lista.<br>\n",
        "Exemplo 1: Qual o valor na posição 2?"
      ],
      "metadata": {
        "id": "LiGMYTtXJBnO"
      }
    },
    {
      "cell_type": "code",
      "source": [
        "lista_valores[1]"
      ],
      "metadata": {
        "colab": {
          "base_uri": "https://localhost:8080/"
        },
        "id": "TnuQ3UYqJQSu",
        "outputId": "b957d94e-7a7a-4cc5-b80f-2f50f6e8e56f"
      },
      "execution_count": null,
      "outputs": [
        {
          "output_type": "execute_result",
          "data": {
            "text/plain": [
              "6.34"
            ]
          },
          "metadata": {},
          "execution_count": 43
        }
      ]
    },
    {
      "cell_type": "markdown",
      "source": [
        "Ordenando em ordem crescente os valores na lista."
      ],
      "metadata": {
        "id": "YwXN6w83JZVF"
      }
    },
    {
      "cell_type": "code",
      "source": [
        "sorted(d.values())"
      ],
      "metadata": {
        "colab": {
          "base_uri": "https://localhost:8080/"
        },
        "id": "NBBfzKmGJAmA",
        "outputId": "69ce777e-475d-43d2-d0cb-7da34c9d211b"
      },
      "execution_count": null,
      "outputs": [
        {
          "output_type": "execute_result",
          "data": {
            "text/plain": [
              "[3.08, 6.34, 8.15]"
            ]
          },
          "metadata": {},
          "execution_count": 44
        }
      ]
    },
    {
      "cell_type": "code",
      "source": [],
      "metadata": {
        "id": "APlska9zGwUH"
      },
      "execution_count": null,
      "outputs": []
    },
    {
      "cell_type": "code",
      "source": [],
      "metadata": {
        "id": "Xp2tGMnPGvzX"
      },
      "execution_count": null,
      "outputs": []
    },
    {
      "cell_type": "code",
      "metadata": {
        "colab": {
          "base_uri": "https://localhost:8080/"
        },
        "id": "kfujNgUGXPXj",
        "outputId": "73a54a00-f4bc-48ee-f6cf-ec471b662a9c"
      },
      "source": [
        "for x in especies:\n",
        "   print(x)"
      ],
      "execution_count": null,
      "outputs": [
        {
          "output_type": "stream",
          "text": [
            "Canela\n",
            "Pessegueiro\n",
            "Pinus\n",
            "Ipe\n",
            "Corticeira\n"
          ],
          "name": "stdout"
        }
      ]
    },
    {
      "cell_type": "code",
      "metadata": {
        "colab": {
          "base_uri": "https://localhost:8080/"
        },
        "id": "_z6ZWuJFZUkb",
        "outputId": "635f53e5-870b-47c9-8f6e-00f97bbfecfd"
      },
      "source": [
        "for ii in range(2,19,2):\n",
        "  print(ii)\n",
        "else:\n",
        "  print(\"Processo finalizado!\")"
      ],
      "execution_count": null,
      "outputs": [
        {
          "output_type": "stream",
          "text": [
            "2\n",
            "4\n",
            "6\n",
            "8\n",
            "10\n",
            "12\n",
            "14\n",
            "16\n",
            "18\n",
            "Processo finalizado!\n"
          ],
          "name": "stdout"
        }
      ]
    },
    {
      "cell_type": "markdown",
      "metadata": {
        "id": "ZjjsoUJNaZPg"
      },
      "source": [
        "### Comando 'while'"
      ]
    },
    {
      "cell_type": "code",
      "metadata": {
        "colab": {
          "base_uri": "https://localhost:8080/"
        },
        "id": "hTxR6myzZUg5",
        "outputId": "52bba502-899e-4984-e008-e5b8cecacf9c"
      },
      "source": [
        "temp = 15\n",
        "while temp < 22:\n",
        "  print('Frio')\n",
        "  temp = temp + 1"
      ],
      "execution_count": null,
      "outputs": [
        {
          "output_type": "stream",
          "text": [
            "Frio\n",
            "Frio\n",
            "Frio\n",
            "Frio\n",
            "Frio\n",
            "Frio\n",
            "Frio\n"
          ],
          "name": "stdout"
        }
      ]
    },
    {
      "cell_type": "markdown",
      "source": [
        "####**break, continue, pass**\n",
        "Podemos usar instruções break, continue e pass em nossos loops para adicionar funcionalidades adicionais para vários casos. As três afirmações são definidas por:\n",
        "\n",
        "**break**: Rompe o loop de fechamento mais próximo atual.\n",
        "**continue**: Vai para o topo do loop mais próximo.\n",
        "**pass**: Não faz nada.\n",
        "\n",
        "\n",
        "Pensando nas instruções *break* e *continue*, o formato geral do loop *while* se parece com isso:\n",
        "\n",
        "while teste:\n",
        "    declaração de código\n",
        "    if teste:\n",
        "        break\n",
        "    if teste:\n",
        "        continue\n",
        "else:\n",
        "\n",
        "As instruções *break* e *continue* podem aparecer em qualquer lugar dentro do corpo do loop, mas geralmente as colocaremos ainda mais aninhadas em conjunto com uma instrução *if* para executar uma ação com base em alguma condição.\n",
        "\n",
        "Vamos em frente e veja alguns exemplos!"
      ],
      "metadata": {
        "id": "VO3Gp36dK_Bh"
      }
    },
    {
      "cell_type": "code",
      "source": [
        "x = 0\n",
        "while x < 7:\n",
        "    print('O valor corrente de x é :',x)\n",
        "    print(' x ainda é menor que 7, adicionando o valor 1 para o valor de x')\n",
        "    x += 1\n",
        "    if x == 3:\n",
        "        print('x == 3')\n",
        "    else:\n",
        "        print('continuando...')\n",
        "        continue"
      ],
      "metadata": {
        "colab": {
          "base_uri": "https://localhost:8080/"
        },
        "id": "2kqVgu3NMWWw",
        "outputId": "75e1bcdc-f243-4bef-8c9e-89b5a0cff84b"
      },
      "execution_count": null,
      "outputs": [
        {
          "output_type": "stream",
          "name": "stdout",
          "text": [
            "O valor corrente de x é : 0\n",
            " x ainda é menor que 7, somando 1 a x\n",
            "continuando...\n",
            "O valor corrente de x é : 1\n",
            " x ainda é menor que 7, somando 1 a x\n",
            "continuando...\n",
            "O valor corrente de x é : 2\n",
            " x ainda é menor que 7, somando 1 a x\n",
            "x == 3\n",
            "O valor corrente de x é : 3\n",
            " x ainda é menor que 7, somando 1 a x\n",
            "continuando...\n",
            "O valor corrente de x é : 4\n",
            " x ainda é menor que 7, somando 1 a x\n",
            "continuando...\n",
            "O valor corrente de x é : 5\n",
            " x ainda é menor que 7, somando 1 a x\n",
            "continuando...\n",
            "O valor corrente de x é : 6\n",
            " x ainda é menor que 7, somando 1 a x\n",
            "continuando...\n"
          ]
        }
      ]
    },
    {
      "cell_type": "markdown",
      "source": [
        "Observe como temos uma instrução impressa quando x == 3 e um *continue* sendo impresso à medida que continuamos pelo loop *while* externo. Vamos colocar uma pausa uma vez x == 3 e ver se o resultado faz sentido:"
      ],
      "metadata": {
        "id": "gpATHmSUNiQn"
      }
    },
    {
      "cell_type": "code",
      "source": [
        "x = 0\n",
        "while x < 7:\n",
        "    print('O valor de x corrente é : ',x)\n",
        "    print(' x ainda é menor que 7, adicionando 1 para o valor de x')\n",
        "    x += 1\n",
        "    if x == 3:\n",
        "        print('Interrompendo porque x == 3')\n",
        "        break\n",
        "    else:\n",
        "        print('continuando...')\n",
        "        continue"
      ],
      "metadata": {
        "colab": {
          "base_uri": "https://localhost:8080/"
        },
        "id": "V3VHbl0jNgvd",
        "outputId": "bfa26a51-1452-47c8-fb01-1550e91a70e2"
      },
      "execution_count": null,
      "outputs": [
        {
          "output_type": "stream",
          "name": "stdout",
          "text": [
            "O valor de x corrente é :  0\n",
            " x ainda é menor que 7, adicionando 1 para o valor de x\n",
            "continuando...\n",
            "O valor de x corrente é :  1\n",
            " x ainda é menor que 7, adicionando 1 para o valor de x\n",
            "continuando...\n",
            "O valor de x corrente é :  2\n",
            " x ainda é menor que 7, adicionando 1 para o valor de x\n",
            "Interrompendo porque x == 3\n"
          ]
        }
      ]
    },
    {
      "cell_type": "markdown",
      "metadata": {
        "id": "EVr744DXcxXZ"
      },
      "source": [
        "# Funções em Python"
      ]
    },
    {
      "cell_type": "code",
      "metadata": {
        "id": "Xam_IZOZc4od"
      },
      "source": [
        "# função de área para um retângulo\n",
        "def area_retangulo(b,h):\n",
        "  return(b*h)"
      ],
      "execution_count": null,
      "outputs": []
    },
    {
      "cell_type": "code",
      "metadata": {
        "colab": {
          "base_uri": "https://localhost:8080/"
        },
        "id": "BVC1IFzedU65",
        "outputId": "385503d5-9405-4629-a94c-c3e73292d5e5"
      },
      "source": [
        "area_retangulo(34,8)"
      ],
      "execution_count": null,
      "outputs": [
        {
          "output_type": "execute_result",
          "data": {
            "text/plain": [
              "272"
            ]
          },
          "metadata": {
            "tags": []
          },
          "execution_count": 12
        }
      ]
    },
    {
      "cell_type": "code",
      "metadata": {
        "id": "Ni-gr7xOZUcq"
      },
      "source": [
        "# função área de um círculo\n",
        "def area_circulo(raio):\n",
        "  return 3.141592 * raio * raio"
      ],
      "execution_count": null,
      "outputs": []
    },
    {
      "cell_type": "code",
      "metadata": {
        "colab": {
          "base_uri": "https://localhost:8080/"
        },
        "id": "vLDzNT5IXPJk",
        "outputId": "bf84bc97-b9b6-4880-a1c1-562b0c4b9650"
      },
      "source": [
        "area_circulo(5)"
      ],
      "execution_count": null,
      "outputs": [
        {
          "output_type": "execute_result",
          "data": {
            "text/plain": [
              "78.5398"
            ]
          },
          "metadata": {
            "tags": []
          },
          "execution_count": 14
        }
      ]
    },
    {
      "cell_type": "markdown",
      "metadata": {
        "id": "_xTfq1VCeLoA"
      },
      "source": [
        "# Biblioteca Numpy"
      ]
    },
    {
      "cell_type": "markdown",
      "metadata": {
        "id": "HBwrckQ_eKaZ"
      },
      "source": [
        "Essa biblioteca é destinada a trabalhar com arrays multidimensionais e projetada para uso em computação científica."
      ]
    },
    {
      "cell_type": "code",
      "metadata": {
        "id": "72kzC8Asd79l"
      },
      "source": [
        "import numpy as np"
      ],
      "execution_count": null,
      "outputs": []
    },
    {
      "cell_type": "code",
      "metadata": {
        "id": "J_eoRg86d7zK"
      },
      "source": [
        "# vetor 'v' unidimensional\n",
        "v = np.array([1,3,5,7,9,11,13,15])"
      ],
      "execution_count": null,
      "outputs": []
    },
    {
      "cell_type": "code",
      "metadata": {
        "colab": {
          "base_uri": "https://localhost:8080/"
        },
        "id": "g8zcUshod7rS",
        "outputId": "0b5b473b-68c0-4423-bdea-751b55eecbd7"
      },
      "source": [
        "v"
      ],
      "execution_count": null,
      "outputs": [
        {
          "output_type": "execute_result",
          "data": {
            "text/plain": [
              "array([ 1,  3,  5,  7,  9, 11, 13, 15])"
            ]
          },
          "metadata": {
            "tags": []
          },
          "execution_count": 17
        }
      ]
    },
    {
      "cell_type": "markdown",
      "metadata": {
        "id": "uj_u31tafjdB"
      },
      "source": [
        "### Criando arrays"
      ]
    },
    {
      "cell_type": "code",
      "metadata": {
        "colab": {
          "base_uri": "https://localhost:8080/"
        },
        "id": "OrgyRj94frVf",
        "outputId": "0835e482-9279-46cb-da6c-eabec6af37cb"
      },
      "source": [
        "v.ndim"
      ],
      "execution_count": null,
      "outputs": [
        {
          "output_type": "execute_result",
          "data": {
            "text/plain": [
              "1"
            ]
          },
          "metadata": {
            "tags": []
          },
          "execution_count": 18
        }
      ]
    },
    {
      "cell_type": "code",
      "metadata": {
        "colab": {
          "base_uri": "https://localhost:8080/"
        },
        "id": "8W7eOpkGfb-X",
        "outputId": "1a845794-4259-429f-d96f-b540c61cc391"
      },
      "source": [
        "v.shape"
      ],
      "execution_count": null,
      "outputs": [
        {
          "output_type": "execute_result",
          "data": {
            "text/plain": [
              "(8,)"
            ]
          },
          "metadata": {
            "tags": []
          },
          "execution_count": 19
        }
      ]
    },
    {
      "cell_type": "code",
      "metadata": {
        "colab": {
          "base_uri": "https://localhost:8080/"
        },
        "id": "EZWTNQQ6d7c1",
        "outputId": "5e3befeb-6cf6-4f65-80eb-6409fa367a41"
      },
      "source": [
        "len(v)"
      ],
      "execution_count": null,
      "outputs": [
        {
          "output_type": "execute_result",
          "data": {
            "text/plain": [
              "8"
            ]
          },
          "metadata": {
            "tags": []
          },
          "execution_count": 20
        }
      ]
    },
    {
      "cell_type": "markdown",
      "metadata": {
        "id": "Dtasowfvf-AJ"
      },
      "source": [
        "### Arrays 2D e 3D"
      ]
    },
    {
      "cell_type": "code",
      "metadata": {
        "id": "6rSeJ4s4Rp5U"
      },
      "source": [
        "a2d = np.array([[2,4,6,3],[1,3,5,7]])"
      ],
      "execution_count": null,
      "outputs": []
    },
    {
      "cell_type": "code",
      "metadata": {
        "colab": {
          "base_uri": "https://localhost:8080/"
        },
        "id": "W6sN44CRRptC",
        "outputId": "76b21931-e32f-46c6-a38e-57e48bc33899"
      },
      "source": [
        "a2d"
      ],
      "execution_count": null,
      "outputs": [
        {
          "output_type": "execute_result",
          "data": {
            "text/plain": [
              "array([[2, 4, 6, 3],\n",
              "       [1, 3, 5, 7]])"
            ]
          },
          "metadata": {
            "tags": []
          },
          "execution_count": 26
        }
      ]
    },
    {
      "cell_type": "code",
      "metadata": {
        "colab": {
          "base_uri": "https://localhost:8080/"
        },
        "id": "4e5Fm7-BPs_y",
        "outputId": "2d0e7f90-5fda-4cb4-b575-4fc3c1d2d54d"
      },
      "source": [
        "a2d.ndim"
      ],
      "execution_count": null,
      "outputs": [
        {
          "output_type": "execute_result",
          "data": {
            "text/plain": [
              "2"
            ]
          },
          "metadata": {
            "tags": []
          },
          "execution_count": 27
        }
      ]
    },
    {
      "cell_type": "code",
      "metadata": {
        "colab": {
          "base_uri": "https://localhost:8080/"
        },
        "id": "kTds0hZsg7Er",
        "outputId": "29319b1c-265c-4553-bab4-c01afdbe7094"
      },
      "source": [
        "a2d.shape"
      ],
      "execution_count": null,
      "outputs": [
        {
          "output_type": "execute_result",
          "data": {
            "text/plain": [
              "(2, 4)"
            ]
          },
          "metadata": {
            "tags": []
          },
          "execution_count": 28
        }
      ]
    },
    {
      "cell_type": "code",
      "metadata": {
        "id": "p_TKBuaPg_SC"
      },
      "source": [
        "a3d = np.array([[[1,3,5],[2,6,2]],[[3,5,8],[4,9,3]]])"
      ],
      "execution_count": null,
      "outputs": []
    },
    {
      "cell_type": "code",
      "metadata": {
        "colab": {
          "base_uri": "https://localhost:8080/"
        },
        "id": "4akzlkgYg7BE",
        "outputId": "00e52e57-ebb8-4914-a563-d399a8ee44aa"
      },
      "source": [
        "a3d"
      ],
      "execution_count": null,
      "outputs": [
        {
          "output_type": "execute_result",
          "data": {
            "text/plain": [
              "array([[[1, 3, 5],\n",
              "        [2, 6, 2]],\n",
              "\n",
              "       [[3, 5, 8],\n",
              "        [4, 9, 3]]])"
            ]
          },
          "metadata": {
            "tags": []
          },
          "execution_count": 33
        }
      ]
    },
    {
      "cell_type": "code",
      "metadata": {
        "colab": {
          "base_uri": "https://localhost:8080/"
        },
        "id": "iDGGSkeYii6y",
        "outputId": "1cd7833c-d069-4f25-d38c-467e6a174652"
      },
      "source": [
        "a3d.shape"
      ],
      "execution_count": null,
      "outputs": [
        {
          "output_type": "execute_result",
          "data": {
            "text/plain": [
              "(2, 2, 3)"
            ]
          },
          "metadata": {
            "tags": []
          },
          "execution_count": 34
        }
      ]
    },
    {
      "cell_type": "markdown",
      "metadata": {
        "id": "Od3V-r6Hiwby"
      },
      "source": [
        "### Criando arrays por instrução"
      ]
    },
    {
      "cell_type": "markdown",
      "metadata": {
        "id": "V3QxTEcDjCj9"
      },
      "source": [
        "Usando o espaçamento (passo) com os parâmetros início, fim(excluindo) e passo."
      ]
    },
    {
      "cell_type": "code",
      "metadata": {
        "id": "w-BEGFq_jUIw"
      },
      "source": [
        "a = np.arange(11)"
      ],
      "execution_count": null,
      "outputs": []
    },
    {
      "cell_type": "code",
      "metadata": {
        "colab": {
          "base_uri": "https://localhost:8080/"
        },
        "id": "1o5Jy-kGi4Li",
        "outputId": "25b7332e-eccc-4374-e8cf-c1a1266e4893"
      },
      "source": [
        "a"
      ],
      "execution_count": null,
      "outputs": [
        {
          "output_type": "execute_result",
          "data": {
            "text/plain": [
              "array([ 0,  1,  2,  3,  4,  5,  6,  7,  8,  9, 10])"
            ]
          },
          "metadata": {
            "tags": []
          },
          "execution_count": 38
        }
      ]
    },
    {
      "cell_type": "code",
      "metadata": {
        "id": "DkPunFlVjrev"
      },
      "source": [
        "a_passo = np.arange(1,18,4)"
      ],
      "execution_count": null,
      "outputs": []
    },
    {
      "cell_type": "code",
      "metadata": {
        "colab": {
          "base_uri": "https://localhost:8080/"
        },
        "id": "4xYnwYEnii2C",
        "outputId": "f1b46a42-6cbb-45c5-95d5-823d7a8c9b07"
      },
      "source": [
        "a_passo"
      ],
      "execution_count": null,
      "outputs": [
        {
          "output_type": "execute_result",
          "data": {
            "text/plain": [
              "array([ 1,  5,  9, 13, 17])"
            ]
          },
          "metadata": {
            "tags": []
          },
          "execution_count": 42
        }
      ]
    },
    {
      "cell_type": "code",
      "metadata": {
        "colab": {
          "base_uri": "https://localhost:8080/"
        },
        "id": "Bir_Dsy0j3Ag",
        "outputId": "b2bd8877-c995-4d0e-add3-f42009721279"
      },
      "source": [
        "# criando um array de 'n' elementos entre intervalos mínimo e máximo\n",
        "n_pontos = np.linspace(20,100,8)\n",
        "n_pontos"
      ],
      "execution_count": null,
      "outputs": [
        {
          "output_type": "execute_result",
          "data": {
            "text/plain": [
              "array([ 20.        ,  31.42857143,  42.85714286,  54.28571429,\n",
              "        65.71428571,  77.14285714,  88.57142857, 100.        ])"
            ]
          },
          "metadata": {
            "tags": []
          },
          "execution_count": 46
        }
      ]
    },
    {
      "cell_type": "code",
      "metadata": {
        "colab": {
          "base_uri": "https://localhost:8080/"
        },
        "id": "JkWx_YzHj2vx",
        "outputId": "c25a28bd-132b-4553-f571-8b7e7e3249b5"
      },
      "source": [
        "n_ptos_end = np.linspace(0,1,5, endpoint=False)\n",
        "n_ptos_end"
      ],
      "execution_count": null,
      "outputs": [
        {
          "output_type": "execute_result",
          "data": {
            "text/plain": [
              "array([0. , 0.2, 0.4, 0.6, 0.8])"
            ]
          },
          "metadata": {
            "tags": []
          },
          "execution_count": 47
        }
      ]
    },
    {
      "cell_type": "markdown",
      "metadata": {
        "id": "nePaawMFlpmm"
      },
      "source": [
        "**Criando arrays - Casos particulares**"
      ]
    },
    {
      "cell_type": "code",
      "metadata": {
        "colab": {
          "base_uri": "https://localhost:8080/"
        },
        "id": "4Hxk0Fyrl0wO",
        "outputId": "c1dc2122-7164-41a8-cb84-3a7ddcf43e6f"
      },
      "source": [
        "# Um array de dimensões predefinidas e preenchido com valores iguais a '1'\n",
        "a_uns = np.ones((4,3))\n",
        "a_uns"
      ],
      "execution_count": null,
      "outputs": [
        {
          "output_type": "execute_result",
          "data": {
            "text/plain": [
              "array([[1., 1., 1.],\n",
              "       [1., 1., 1.],\n",
              "       [1., 1., 1.],\n",
              "       [1., 1., 1.]])"
            ]
          },
          "metadata": {
            "tags": []
          },
          "execution_count": 48
        }
      ]
    },
    {
      "cell_type": "code",
      "metadata": {
        "colab": {
          "base_uri": "https://localhost:8080/"
        },
        "id": "btYXcMltlg0t",
        "outputId": "d6e10562-f909-4f0a-b418-068edb3e6b79"
      },
      "source": [
        "# Um array de dimensões predefinidas e preenchido com valores iguais a 'zero'\n",
        "a_zeros = np.zeros((3,3))\n",
        "a_zeros"
      ],
      "execution_count": null,
      "outputs": [
        {
          "output_type": "execute_result",
          "data": {
            "text/plain": [
              "array([[0., 0., 0.],\n",
              "       [0., 0., 0.],\n",
              "       [0., 0., 0.]])"
            ]
          },
          "metadata": {
            "tags": []
          },
          "execution_count": 33
        }
      ]
    },
    {
      "cell_type": "code",
      "metadata": {
        "colab": {
          "base_uri": "https://localhost:8080/"
        },
        "id": "ahm3KBXJm0_f",
        "outputId": "09ea521c-2f4f-4373-ac10-06a79ae7ff9e"
      },
      "source": [
        "# Um array de diagonal principal igual a '1' e demais elementos iguais a '0'\n",
        "a_diag1 = np.eye(5)\n",
        "a_diag1"
      ],
      "execution_count": null,
      "outputs": [
        {
          "output_type": "execute_result",
          "data": {
            "text/plain": [
              "array([[1., 0., 0., 0., 0.],\n",
              "       [0., 1., 0., 0., 0.],\n",
              "       [0., 0., 1., 0., 0.],\n",
              "       [0., 0., 0., 1., 0.],\n",
              "       [0., 0., 0., 0., 1.]])"
            ]
          },
          "metadata": {
            "tags": []
          },
          "execution_count": 49
        }
      ]
    },
    {
      "cell_type": "code",
      "metadata": {
        "colab": {
          "base_uri": "https://localhost:8080/"
        },
        "id": "QylgX_6um0qZ",
        "outputId": "2899418b-5a75-4a28-ca11-f3f77b6c6a3e"
      },
      "source": [
        "# Um array com valores pré-definidos na diagonal principal e demais elementos iguais a '0'\n",
        "ad = np.diag(np.array([1.5,2.6,4.3]))\n",
        "ad"
      ],
      "execution_count": null,
      "outputs": [
        {
          "output_type": "execute_result",
          "data": {
            "text/plain": [
              "array([[1.5, 0. , 0. ],\n",
              "       [0. , 2.6, 0. ],\n",
              "       [0. , 0. , 4.3]])"
            ]
          },
          "metadata": {
            "tags": []
          },
          "execution_count": 50
        }
      ]
    },
    {
      "cell_type": "code",
      "metadata": {
        "colab": {
          "base_uri": "https://localhost:8080/"
        },
        "id": "cro7bjoPm0aH",
        "outputId": "5071316d-a5c1-4660-fd72-07f94fbe5d08"
      },
      "source": [
        "# Um array com números aleatórios\n",
        "a_randomico = np.random.rand(7)\n",
        "a_randomico"
      ],
      "execution_count": null,
      "outputs": [
        {
          "output_type": "execute_result",
          "data": {
            "text/plain": [
              "array([0.32426581, 0.90860108, 0.48230876, 0.86074889, 0.75697898,\n",
              "       0.72078493, 0.38652403])"
            ]
          },
          "metadata": {
            "tags": []
          },
          "execution_count": 51
        }
      ]
    },
    {
      "cell_type": "markdown",
      "metadata": {
        "id": "A2dMmWSso0iv"
      },
      "source": [
        "**Fatiando um array**"
      ]
    },
    {
      "cell_type": "code",
      "metadata": {
        "colab": {
          "base_uri": "https://localhost:8080/"
        },
        "id": "aN4IpqtQlguJ",
        "outputId": "a1c537f7-17eb-47fb-8a91-586f2d642071"
      },
      "source": [
        "a = np.arange(12)\n",
        "a"
      ],
      "execution_count": null,
      "outputs": [
        {
          "output_type": "execute_result",
          "data": {
            "text/plain": [
              "array([ 0,  1,  2,  3,  4,  5,  6,  7,  8,  9, 10, 11])"
            ]
          },
          "metadata": {
            "tags": []
          },
          "execution_count": 52
        }
      ]
    },
    {
      "cell_type": "code",
      "metadata": {
        "colab": {
          "base_uri": "https://localhost:8080/"
        },
        "id": "tr0NBRGwlgqe",
        "outputId": "10ce1ff3-c578-407c-c9e6-3336ce617aad"
      },
      "source": [
        "# Fatiando o array\n",
        "a_fatia = a[2:10:2]\n",
        "a_fatia"
      ],
      "execution_count": null,
      "outputs": [
        {
          "output_type": "execute_result",
          "data": {
            "text/plain": [
              "array([2, 4, 6, 8])"
            ]
          },
          "metadata": {
            "tags": []
          },
          "execution_count": 53
        }
      ]
    },
    {
      "cell_type": "code",
      "metadata": {
        "colab": {
          "base_uri": "https://localhost:8080/"
        },
        "id": "V5PpnjUap58d",
        "outputId": "6ac1f1a9-6481-4a57-a077-6a076c2ab696"
      },
      "source": [
        "# Fatiando até uma determinada posição\n",
        "a[:5]"
      ],
      "execution_count": null,
      "outputs": [
        {
          "output_type": "execute_result",
          "data": {
            "text/plain": [
              "array([0, 1, 2, 3, 4])"
            ]
          },
          "metadata": {
            "tags": []
          },
          "execution_count": 54
        }
      ]
    },
    {
      "cell_type": "code",
      "metadata": {
        "colab": {
          "base_uri": "https://localhost:8080/"
        },
        "id": "orF_7G1KlgmL",
        "outputId": "079b3bb7-15db-4b6c-b2c7-9590b5571ea4"
      },
      "source": [
        "# Fatiando entre posições\n",
        "a[3:7]"
      ],
      "execution_count": null,
      "outputs": [
        {
          "output_type": "execute_result",
          "data": {
            "text/plain": [
              "array([3, 4, 5, 6])"
            ]
          },
          "metadata": {
            "tags": []
          },
          "execution_count": 55
        }
      ]
    },
    {
      "cell_type": "code",
      "metadata": {
        "colab": {
          "base_uri": "https://localhost:8080/"
        },
        "id": "mv_o3mYzqdAI",
        "outputId": "7a6b0313-65ee-4eff-aa6f-64b9abfc94d6"
      },
      "source": [
        "# Fatiando o array com retorno segundo um passo\n",
        "a[::4]"
      ],
      "execution_count": null,
      "outputs": [
        {
          "output_type": "execute_result",
          "data": {
            "text/plain": [
              "array([0, 4, 8])"
            ]
          },
          "metadata": {
            "tags": []
          },
          "execution_count": 56
        }
      ]
    },
    {
      "cell_type": "code",
      "metadata": {
        "colab": {
          "base_uri": "https://localhost:8080/"
        },
        "id": "DTInBoQPrALK",
        "outputId": "1daec05d-6e37-4c64-9c7d-a1d3b731a7a7"
      },
      "source": [
        "# Fatiando um array a partir de uma determinada posição\n",
        "a[4:]"
      ],
      "execution_count": null,
      "outputs": [
        {
          "output_type": "execute_result",
          "data": {
            "text/plain": [
              "array([ 4,  5,  6,  7,  8,  9, 10, 11])"
            ]
          },
          "metadata": {
            "tags": []
          },
          "execution_count": 44
        }
      ]
    },
    {
      "cell_type": "markdown",
      "metadata": {
        "id": "ysOY0HURsm1S"
      },
      "source": [
        "**Operações com arrays**"
      ]
    },
    {
      "cell_type": "code",
      "metadata": {
        "id": "p3HIUephstU3"
      },
      "source": [
        "# Operações elemento a elemento\n",
        "a = np.array([2,4,6,8])"
      ],
      "execution_count": null,
      "outputs": []
    },
    {
      "cell_type": "code",
      "metadata": {
        "colab": {
          "base_uri": "https://localhost:8080/"
        },
        "id": "mnZfP2zVtGih",
        "outputId": "73620995-fddf-477d-cb6b-f9282eddcbd6"
      },
      "source": [
        "# Somando um valor escalar a cada um dos elementos do array\n",
        "a + 2"
      ],
      "execution_count": null,
      "outputs": [
        {
          "output_type": "execute_result",
          "data": {
            "text/plain": [
              "array([ 4,  6,  8, 10])"
            ]
          },
          "metadata": {
            "tags": []
          },
          "execution_count": 58
        }
      ]
    },
    {
      "cell_type": "code",
      "metadata": {
        "colab": {
          "base_uri": "https://localhost:8080/"
        },
        "id": "AEKATNe1tGdb",
        "outputId": "330609c5-000d-4068-c78f-a33226a5a8e2"
      },
      "source": [
        "# Exponenciação em um array\n",
        "2**a"
      ],
      "execution_count": null,
      "outputs": [
        {
          "output_type": "execute_result",
          "data": {
            "text/plain": [
              "array([  4,  16,  64, 256])"
            ]
          },
          "metadata": {
            "tags": []
          },
          "execution_count": 59
        }
      ]
    },
    {
      "cell_type": "code",
      "metadata": {
        "colab": {
          "base_uri": "https://localhost:8080/"
        },
        "id": "eaRsYnqdtGZW",
        "outputId": "78522b4b-4fab-4654-d43d-64e59825f3f3"
      },
      "source": [
        "# Aplicando um função trigonométrica aos elementos de um array\n",
        "a = np.arange(6)\n",
        "print(a)\n",
        "np.sin(a) # elemento a elemento"
      ],
      "execution_count": null,
      "outputs": [
        {
          "output_type": "stream",
          "text": [
            "[0 1 2 3 4 5]\n"
          ],
          "name": "stdout"
        },
        {
          "output_type": "execute_result",
          "data": {
            "text/plain": [
              "array([ 0.        ,  0.84147098,  0.90929743,  0.14112001, -0.7568025 ,\n",
              "       -0.95892427])"
            ]
          },
          "metadata": {
            "tags": []
          },
          "execution_count": 60
        }
      ]
    },
    {
      "cell_type": "code",
      "metadata": {
        "colab": {
          "base_uri": "https://localhost:8080/"
        },
        "id": "LLTK6aQxtGVE",
        "outputId": "c6e08338-9a0b-4d73-ee5b-24849c54aa17"
      },
      "source": [
        "# Função 'logaritmica' aplicada a cada elemento\n",
        "np.log(a)"
      ],
      "execution_count": null,
      "outputs": [
        {
          "output_type": "stream",
          "text": [
            "/usr/local/lib/python3.7/dist-packages/ipykernel_launcher.py:2: RuntimeWarning: divide by zero encountered in log\n",
            "  \n"
          ],
          "name": "stderr"
        },
        {
          "output_type": "execute_result",
          "data": {
            "text/plain": [
              "array([      -inf, 0.        , 0.69314718, 1.09861229, 1.38629436,\n",
              "       1.60943791])"
            ]
          },
          "metadata": {
            "tags": []
          },
          "execution_count": 61
        }
      ]
    },
    {
      "cell_type": "code",
      "metadata": {
        "colab": {
          "base_uri": "https://localhost:8080/"
        },
        "id": "4K5aan5Lum4S",
        "outputId": "f4ba43ff-bc41-4648-e7f1-da291a799557"
      },
      "source": [
        "# Exponencial elemento a elemento\n",
        "np.exp(a)"
      ],
      "execution_count": null,
      "outputs": [
        {
          "output_type": "execute_result",
          "data": {
            "text/plain": [
              "array([  1.        ,   2.71828183,   7.3890561 ,  20.08553692,\n",
              "        54.59815003, 148.4131591 ])"
            ]
          },
          "metadata": {
            "tags": []
          },
          "execution_count": 62
        }
      ]
    },
    {
      "cell_type": "code",
      "metadata": {
        "id": "EWtK_HgOum0F"
      },
      "source": [
        "# Dados dois arrays, efetuar operações de seus elementos\n",
        "a = np.array([2,4,6,8])\n",
        "b = np.array([1,3,5,7])\n"
      ],
      "execution_count": null,
      "outputs": []
    },
    {
      "cell_type": "code",
      "metadata": {
        "colab": {
          "base_uri": "https://localhost:8080/"
        },
        "id": "GBKa4F9TvfF4",
        "outputId": "80025cff-f635-4e6d-938f-1af6a586976c"
      },
      "source": [
        "# Operação de Adição\n",
        "a + b"
      ],
      "execution_count": null,
      "outputs": [
        {
          "output_type": "execute_result",
          "data": {
            "text/plain": [
              "array([ 3,  7, 11, 15])"
            ]
          },
          "metadata": {
            "tags": []
          },
          "execution_count": 65
        }
      ]
    },
    {
      "cell_type": "code",
      "metadata": {
        "colab": {
          "base_uri": "https://localhost:8080/"
        },
        "id": "MOUVCeAWvmKM",
        "outputId": "4de4fc01-e7c3-4f55-cac4-cb2a7770792d"
      },
      "source": [
        "# Operação de multiplicação (produto)\n",
        "a * b"
      ],
      "execution_count": null,
      "outputs": [
        {
          "output_type": "execute_result",
          "data": {
            "text/plain": [
              "array([ 2, 12, 30, 56])"
            ]
          },
          "metadata": {
            "tags": []
          },
          "execution_count": 66
        }
      ]
    },
    {
      "cell_type": "code",
      "metadata": {
        "colab": {
          "base_uri": "https://localhost:8080/"
        },
        "id": "NMl79cXZvfBx",
        "outputId": "d33e921d-9160-4c83-cdd1-1f826c9174cf"
      },
      "source": [
        "# Operação de subtração\n",
        "a - b"
      ],
      "execution_count": null,
      "outputs": [
        {
          "output_type": "execute_result",
          "data": {
            "text/plain": [
              "array([1, 1, 1, 1])"
            ]
          },
          "metadata": {
            "tags": []
          },
          "execution_count": 67
        }
      ]
    },
    {
      "cell_type": "code",
      "metadata": {
        "colab": {
          "base_uri": "https://localhost:8080/"
        },
        "id": "ru0oXyImve9t",
        "outputId": "4dd8f38a-6d54-497b-c7db-4103bd782f36"
      },
      "source": [
        "# Razão (divisão) entre os vetores\n",
        "a / b"
      ],
      "execution_count": null,
      "outputs": [
        {
          "output_type": "execute_result",
          "data": {
            "text/plain": [
              "array([2.        , 1.33333333, 1.2       , 1.14285714])"
            ]
          },
          "metadata": {
            "tags": []
          },
          "execution_count": 68
        }
      ]
    },
    {
      "cell_type": "code",
      "metadata": {
        "colab": {
          "base_uri": "https://localhost:8080/"
        },
        "id": "hCwDrz3wumu5",
        "outputId": "8a71ee4c-5776-4bcc-c31c-bd8c59f9b380"
      },
      "source": [
        "# Comparação boolean - resultado é False para todos os elementos pois não\n",
        "# temos valores comuns nos arrays\n",
        "a == b"
      ],
      "execution_count": null,
      "outputs": [
        {
          "output_type": "execute_result",
          "data": {
            "text/plain": [
              "array([False, False, False, False])"
            ]
          },
          "metadata": {
            "tags": []
          },
          "execution_count": 69
        }
      ]
    },
    {
      "cell_type": "code",
      "metadata": {
        "colab": {
          "base_uri": "https://localhost:8080/"
        },
        "id": "IssSzuhrwgec",
        "outputId": "42081fea-2ef0-41a1-ade8-b23f258d5336"
      },
      "source": [
        "# Comparação boolean - a > b - Será True em todos os elementos pois os valores de\n",
        "# todos os elementos do array 'a' são maiores que os valores presentes no array 'b'\n",
        "a > b"
      ],
      "execution_count": null,
      "outputs": [
        {
          "output_type": "execute_result",
          "data": {
            "text/plain": [
              "array([ True,  True,  True,  True])"
            ]
          },
          "metadata": {
            "tags": []
          },
          "execution_count": 70
        }
      ]
    },
    {
      "cell_type": "markdown",
      "metadata": {
        "id": "MRrpi7SyxOgC"
      },
      "source": [
        "**Arrays e reduções básicas**"
      ]
    },
    {
      "cell_type": "code",
      "metadata": {
        "colab": {
          "base_uri": "https://localhost:8080/"
        },
        "id": "nHGbwev0xX5D",
        "outputId": "9d03c1ee-8126-4310-b601-3f7967f82770"
      },
      "source": [
        "x = np.array([2,4,6,8])\n",
        "x.sum()"
      ],
      "execution_count": null,
      "outputs": [
        {
          "output_type": "execute_result",
          "data": {
            "text/plain": [
              "20"
            ]
          },
          "metadata": {
            "tags": []
          },
          "execution_count": 71
        }
      ]
    },
    {
      "cell_type": "code",
      "metadata": {
        "colab": {
          "base_uri": "https://localhost:8080/"
        },
        "id": "-EBdwHNgxMsV",
        "outputId": "c576ea19-9dab-4500-d3e6-1104498a4d48"
      },
      "source": [
        "# Somando ao longo de linhas e de colunas\n",
        "x = np.array([[1,3],[2,4]])\n",
        "x"
      ],
      "execution_count": null,
      "outputs": [
        {
          "output_type": "execute_result",
          "data": {
            "text/plain": [
              "array([[1, 3],\n",
              "       [2, 4]])"
            ]
          },
          "metadata": {
            "tags": []
          },
          "execution_count": 72
        }
      ]
    },
    {
      "cell_type": "code",
      "metadata": {
        "colab": {
          "base_uri": "https://localhost:8080/"
        },
        "id": "-fDwL5OSxMni",
        "outputId": "e11497fc-bd08-400a-dcc1-848ced477fb8"
      },
      "source": [
        "# Somando os elementos das colunas (axis=0)\n",
        "x.sum(axis=0)"
      ],
      "execution_count": null,
      "outputs": [
        {
          "output_type": "execute_result",
          "data": {
            "text/plain": [
              "array([3, 7])"
            ]
          },
          "metadata": {
            "tags": []
          },
          "execution_count": 73
        }
      ]
    },
    {
      "cell_type": "code",
      "metadata": {
        "colab": {
          "base_uri": "https://localhost:8080/"
        },
        "id": "6DDcj3QzynlS",
        "outputId": "f4cbdafc-4a17-4db4-f787-c96d9859956f"
      },
      "source": [
        "# Somando os elementos das linhas (axis=1)\n",
        "x.sum(axis=1)"
      ],
      "execution_count": null,
      "outputs": [
        {
          "output_type": "execute_result",
          "data": {
            "text/plain": [
              "array([4, 6])"
            ]
          },
          "metadata": {
            "tags": []
          },
          "execution_count": 74
        }
      ]
    },
    {
      "cell_type": "code",
      "metadata": {
        "colab": {
          "base_uri": "https://localhost:8080/"
        },
        "id": "6Ux3khiXxMZY",
        "outputId": "d737139e-3815-4950-b188-6551070754b7"
      },
      "source": [
        "x[:,0].sum(), x[:,1].sum()"
      ],
      "execution_count": null,
      "outputs": [
        {
          "output_type": "execute_result",
          "data": {
            "text/plain": [
              "(3, 7)"
            ]
          },
          "metadata": {
            "tags": []
          },
          "execution_count": 71
        }
      ]
    },
    {
      "cell_type": "markdown",
      "metadata": {
        "id": "WRHpuRYnznaW"
      },
      "source": [
        "**Arrays Reduções Básicas - Extrema**"
      ]
    },
    {
      "cell_type": "code",
      "metadata": {
        "colab": {
          "base_uri": "https://localhost:8080/"
        },
        "id": "_ldWC5b4xMNZ",
        "outputId": "eaaaf7fb-d128-42b7-c21e-ef484dce943e"
      },
      "source": [
        "x = np.array([1,2,5,7,9,3])\n",
        "# valor mínimo do array\n",
        "vmin = x.min()\n",
        "# valor máximo do array\n",
        "vmax = x.max()\n",
        "print('Valor mínimo = ',vmin,'e o Valor máximo =',vmax)"
      ],
      "execution_count": null,
      "outputs": [
        {
          "output_type": "stream",
          "text": [
            "Valor mínimo =  1 e o Valor máximo = 9\n"
          ],
          "name": "stdout"
        }
      ]
    },
    {
      "cell_type": "code",
      "metadata": {
        "colab": {
          "base_uri": "https://localhost:8080/"
        },
        "id": "KnoUa1-kDnHg",
        "outputId": "009027ab-890e-48ab-8b24-722735071adf"
      },
      "source": [
        "# Posição dos valores mínimo e máximo\n",
        "print('O índice posição do valor mínimo é ',x.argmin(),' e a posição do valor máximo é ',x.argmax())"
      ],
      "execution_count": null,
      "outputs": [
        {
          "output_type": "stream",
          "text": [
            "O índice posição do valor mínimo é  0  e a posição do valor máximo é  4\n"
          ],
          "name": "stdout"
        }
      ]
    },
    {
      "cell_type": "markdown",
      "metadata": {
        "id": "z2sLZoZtENjt"
      },
      "source": [
        "**Estatística em um array**"
      ]
    },
    {
      "cell_type": "code",
      "metadata": {
        "colab": {
          "base_uri": "https://localhost:8080/"
        },
        "id": "A53_VHzLEXFz",
        "outputId": "903a5d8e-0bda-45e4-e926-2a77c67574f4"
      },
      "source": [
        "x = np.array([1,4,5,9,7,2])\n",
        "y = np.array([[1,3,5],[7,3,2]])\n",
        "\n",
        "print('Média de x = ',x.mean())\n",
        "print('Mediana de x = ',np.median(x))\n",
        "print('Mediana do último eixo de y = ',np.median(y,axis=-1))\n",
        "print('Desvio padrão de x = ',x.std())\n"
      ],
      "execution_count": null,
      "outputs": [
        {
          "output_type": "stream",
          "text": [
            "Média de x =  4.666666666666667\n",
            "Mediana de x =  4.5\n",
            "Mediana do último eixo de y =  [3. 3.]\n",
            "Desvio padrão de x =  2.748737083745107\n"
          ],
          "name": "stdout"
        }
      ]
    },
    {
      "cell_type": "markdown",
      "metadata": {
        "id": "z92bH4jMG1D8"
      },
      "source": [
        "**Arrays - Manipulando forma**"
      ]
    },
    {
      "cell_type": "code",
      "metadata": {
        "colab": {
          "base_uri": "https://localhost:8080/"
        },
        "id": "K1OhfKK4xL7M",
        "outputId": "5583537c-ea0f-4979-96a6-75eae387739b"
      },
      "source": [
        "# Achatar um array\n",
        "a = np.array([[1,3,5],[7,9,11]])\n",
        "a"
      ],
      "execution_count": null,
      "outputs": [
        {
          "output_type": "execute_result",
          "data": {
            "text/plain": [
              "array([[ 1,  3,  5],\n",
              "       [ 7,  9, 11]])"
            ]
          },
          "metadata": {
            "tags": []
          },
          "execution_count": 78
        }
      ]
    },
    {
      "cell_type": "code",
      "metadata": {
        "colab": {
          "base_uri": "https://localhost:8080/"
        },
        "id": "gJqpqdN7umhP",
        "outputId": "4e9e29cf-47eb-40b0-911f-ad1812970960"
      },
      "source": [
        "# Achatando\n",
        "a.ravel()"
      ],
      "execution_count": null,
      "outputs": [
        {
          "output_type": "execute_result",
          "data": {
            "text/plain": [
              "array([ 1,  3,  5,  7,  9, 11])"
            ]
          },
          "metadata": {
            "tags": []
          },
          "execution_count": 79
        }
      ]
    },
    {
      "cell_type": "code",
      "metadata": {
        "colab": {
          "base_uri": "https://localhost:8080/"
        },
        "id": "u9ZjsnVFHwHo",
        "outputId": "ddf3295e-0888-4658-c4bd-7b18552c0bb7"
      },
      "source": [
        "# array transposto\n",
        "a.T"
      ],
      "execution_count": null,
      "outputs": [
        {
          "output_type": "execute_result",
          "data": {
            "text/plain": [
              "array([[ 1,  7],\n",
              "       [ 3,  9],\n",
              "       [ 5, 11]])"
            ]
          },
          "metadata": {
            "tags": []
          },
          "execution_count": 80
        }
      ]
    },
    {
      "cell_type": "code",
      "metadata": {
        "colab": {
          "base_uri": "https://localhost:8080/"
        },
        "id": "9n7UfPzkIJUo",
        "outputId": "0c45cf90-5f47-4307-e236-8a0b11c6c2a1"
      },
      "source": [
        "# Recompor o array achatado\n",
        "a.T.ravel()"
      ],
      "execution_count": null,
      "outputs": [
        {
          "output_type": "execute_result",
          "data": {
            "text/plain": [
              "array([ 1,  7,  3,  9,  5, 11])"
            ]
          },
          "metadata": {
            "tags": []
          },
          "execution_count": 81
        }
      ]
    },
    {
      "cell_type": "markdown",
      "metadata": {
        "id": "TcOSRsP5IX_C"
      },
      "source": [
        "**Reformatar o array**"
      ]
    },
    {
      "cell_type": "code",
      "metadata": {
        "colab": {
          "base_uri": "https://localhost:8080/"
        },
        "id": "yV1qnKLJIV_h",
        "outputId": "53e9ce07-dc5e-4768-804e-fbe59b3c40a4"
      },
      "source": [
        "# Forma do array 'a' original - 2 linhas e 3 colunas\n",
        "a.shape"
      ],
      "execution_count": null,
      "outputs": [
        {
          "output_type": "execute_result",
          "data": {
            "text/plain": [
              "(2, 3)"
            ]
          },
          "metadata": {
            "tags": []
          },
          "execution_count": 82
        }
      ]
    },
    {
      "cell_type": "code",
      "metadata": {
        "colab": {
          "base_uri": "https://localhost:8080/"
        },
        "id": "DruVWGs2HwDI",
        "outputId": "d79d8b97-1325-4655-a940-8a178d24359a"
      },
      "source": [
        "b = a.ravel()\n",
        "b"
      ],
      "execution_count": null,
      "outputs": [
        {
          "output_type": "execute_result",
          "data": {
            "text/plain": [
              "array([ 1,  3,  5,  7,  9, 11])"
            ]
          },
          "metadata": {
            "tags": []
          },
          "execution_count": 83
        }
      ]
    },
    {
      "cell_type": "code",
      "metadata": {
        "colab": {
          "base_uri": "https://localhost:8080/"
        },
        "id": "vDFAw_moHv9j",
        "outputId": "6ed97861-d627-409e-be85-3ba9867262ad"
      },
      "source": [
        "# Reconstruindo o array em 2 linhas por 3 colunas\n",
        "b = b.reshape(2,3)\n",
        "b"
      ],
      "execution_count": null,
      "outputs": [
        {
          "output_type": "execute_result",
          "data": {
            "text/plain": [
              "array([[ 1,  3,  5],\n",
              "       [ 7,  9, 11]])"
            ]
          },
          "metadata": {
            "tags": []
          },
          "execution_count": 84
        }
      ]
    },
    {
      "cell_type": "markdown",
      "metadata": {
        "id": "90kI4W5DHWev"
      },
      "source": [
        "# Biblioteca Pandas"
      ]
    },
    {
      "cell_type": "markdown",
      "metadata": {
        "id": "qBGy8trwHv9M"
      },
      "source": [
        "Pandas é um pacote Python que fornece estruturas de dados rápidas, flexíveis e expressivas projetadas para\n",
        "tornar o trabalho com dados “relacionais” ou “rotulados” fácil e intuitivo. Tem como objetivo ser o\n",
        "bloco de construção fundamental de alto nível para fazer análises de dados práticas e do mundo real em Python.\n",
        "A documentação oficial do Pandas encontra-se no link: https://pandas.pydata.org/"
      ]
    },
    {
      "cell_type": "markdown",
      "metadata": {
        "id": "LV0hjX2uK3c6"
      },
      "source": [
        "**Um pequeno teste para verificação se Pandas, Numpy e Matplotlib estão funcionando adequadamente**\n"
      ]
    },
    {
      "cell_type": "code",
      "metadata": {
        "colab": {
          "base_uri": "https://localhost:8080/",
          "height": 281
        },
        "id": "1yy83YvDIicZ",
        "outputId": "fd5a73a1-d5bd-4075-c769-3c35ccabac8c"
      },
      "source": [
        "# As denominações pd, np e plt são simplifcações para auxiliar a programação de\n",
        "# do código, encurtando a sua referência\n",
        "import pandas as pd\n",
        "import numpy as np\n",
        "import matplotlib.pyplot as plt\n",
        "\n",
        "np.random.seed(0)\n",
        "valores = np.random.randn(100) # array de números aleatórios distribuídos normalmente\n",
        "serie = pd.Series(valores) # gera uma serie pandas\n",
        "serie.plot(kind='hist', title='Valores aleatórios distribuídos normalmente') # hist determina a distribuição\n",
        "plt.show()"
      ],
      "execution_count": null,
      "outputs": [
        {
          "output_type": "display_data",
          "data": {
            "image/png": "[encoded data removed]",
            "text/plain": [
              "<Figure size 432x288 with 1 Axes>"
            ]
          },
          "metadata": {
            "tags": [],
            "needs_background": "light"
          }
        }
      ]
    },
    {
      "cell_type": "markdown",
      "metadata": {
        "id": "EjeNKcalLWDk"
      },
      "source": [
        "**Verficando algumas estatísticas dos dados :**\n",
        "Média, Desvio Padrão, Mínimo, 1°Quartil (25%), Mediana (50%), 3° Quartil, Máximo. Exemplo: usa-se o comando *nome_objeto.describe*"
      ]
    },
    {
      "cell_type": "code",
      "metadata": {
        "colab": {
          "base_uri": "https://localhost:8080/"
        },
        "id": "5rJhtfr_Hbaf",
        "outputId": "c4723501-9ed4-43c1-d478-a0d0f238c698"
      },
      "source": [
        "serie.describe()"
      ],
      "execution_count": null,
      "outputs": [
        {
          "output_type": "execute_result",
          "data": {
            "text/plain": [
              "count    100.000000\n",
              "mean       0.059808\n",
              "std        1.012960\n",
              "min       -2.552990\n",
              "25%       -0.643857\n",
              "50%        0.094096\n",
              "75%        0.737077\n",
              "max        2.269755\n",
              "dtype: float64"
            ]
          },
          "metadata": {
            "tags": []
          },
          "execution_count": 3
        }
      ]
    },
    {
      "cell_type": "markdown",
      "metadata": {
        "id": "L9snKRDpNFqf"
      },
      "source": [
        "##Estatística descritiva"
      ]
    },
    {
      "cell_type": "markdown",
      "metadata": {
        "id": "ubsmWRqPNPQ0"
      },
      "source": [
        "A **estatística descritiva** de um conjunto de dados pode ser obtida fazendo-se a referência *nome_objeto.describe()*. Nesse caso, *.describe()* é o método que devolve a determinação dos parâmetros: média (*mean*), desvio padrão (*std*), número de observações (*count*), 1° Quartil (*25%*), mediana ou 2° Quartil (*50%*), 3° Quartil (*75%*) e máximo (*max*)."
      ]
    },
    {
      "cell_type": "code",
      "metadata": {
        "id": "nLTGLs4SOn6m"
      },
      "source": [
        "df_parcela = pd.DataFrame({'dap': [10.2, 20.3, 10.8, 40.2, 30.2, 50.6, 20.8, 30.6, 40.1, 10.9],\n",
        "                           'h': [12, 14, 11, 16, 18, 18, 22, 13, 21, 17],\n",
        "                           'especie': ['Ipe roxo','Ipe roxo','Ipe amarelo','Ipe roxo','Ipe amarelo','Carvalhinho',\n",
        "                               'Ipe amarelo','Ipe roxo','Ipe amarelo','Ipe roxo']})"
      ],
      "execution_count": null,
      "outputs": []
    },
    {
      "cell_type": "markdown",
      "metadata": {
        "id": "HikTOs0ZRL9x"
      },
      "source": [
        "**Mostrando o *data frame* df_parcela**"
      ]
    },
    {
      "cell_type": "code",
      "metadata": {
        "colab": {
          "base_uri": "https://localhost:8080/",
          "height": 362
        },
        "id": "pOZWszmvRd6N",
        "outputId": "d56046a4-52be-445d-9509-c1a218d62fc0"
      },
      "source": [
        "df_parcela"
      ],
      "execution_count": null,
      "outputs": [
        {
          "output_type": "execute_result",
          "data": {
            "text/html": [
              "<div>\n",
              "<style scoped>\n",
              "    .dataframe tbody tr th:only-of-type {\n",
              "        vertical-align: middle;\n",
              "    }\n",
              "\n",
              "    .dataframe tbody tr th {\n",
              "        vertical-align: top;\n",
              "    }\n",
              "\n",
              "    .dataframe thead th {\n",
              "        text-align: right;\n",
              "    }\n",
              "</style>\n",
              "<table border=\"1\" class=\"dataframe\">\n",
              "  <thead>\n",
              "    <tr style=\"text-align: right;\">\n",
              "      <th></th>\n",
              "      <th>dap</th>\n",
              "      <th>h</th>\n",
              "      <th>especie</th>\n",
              "    </tr>\n",
              "  </thead>\n",
              "  <tbody>\n",
              "    <tr>\n",
              "      <th>0</th>\n",
              "      <td>10.2</td>\n",
              "      <td>12</td>\n",
              "      <td>Ipe roxo</td>\n",
              "    </tr>\n",
              "    <tr>\n",
              "      <th>1</th>\n",
              "      <td>20.3</td>\n",
              "      <td>14</td>\n",
              "      <td>Ipe roxo</td>\n",
              "    </tr>\n",
              "    <tr>\n",
              "      <th>2</th>\n",
              "      <td>10.8</td>\n",
              "      <td>11</td>\n",
              "      <td>Ipe amarelo</td>\n",
              "    </tr>\n",
              "    <tr>\n",
              "      <th>3</th>\n",
              "      <td>40.2</td>\n",
              "      <td>16</td>\n",
              "      <td>Ipe roxo</td>\n",
              "    </tr>\n",
              "    <tr>\n",
              "      <th>4</th>\n",
              "      <td>30.2</td>\n",
              "      <td>18</td>\n",
              "      <td>Ipe amarelo</td>\n",
              "    </tr>\n",
              "    <tr>\n",
              "      <th>5</th>\n",
              "      <td>50.6</td>\n",
              "      <td>18</td>\n",
              "      <td>Carvalhinho</td>\n",
              "    </tr>\n",
              "    <tr>\n",
              "      <th>6</th>\n",
              "      <td>20.8</td>\n",
              "      <td>22</td>\n",
              "      <td>Ipe amarelo</td>\n",
              "    </tr>\n",
              "    <tr>\n",
              "      <th>7</th>\n",
              "      <td>30.6</td>\n",
              "      <td>13</td>\n",
              "      <td>Ipe roxo</td>\n",
              "    </tr>\n",
              "    <tr>\n",
              "      <th>8</th>\n",
              "      <td>40.1</td>\n",
              "      <td>21</td>\n",
              "      <td>Ipe amarelo</td>\n",
              "    </tr>\n",
              "    <tr>\n",
              "      <th>9</th>\n",
              "      <td>10.9</td>\n",
              "      <td>17</td>\n",
              "      <td>Ipe roxo</td>\n",
              "    </tr>\n",
              "  </tbody>\n",
              "</table>\n",
              "</div>"
            ],
            "text/plain": [
              "    dap   h      especie\n",
              "0  10.2  12     Ipe roxo\n",
              "1  20.3  14     Ipe roxo\n",
              "2  10.8  11  Ipe amarelo\n",
              "3  40.2  16     Ipe roxo\n",
              "4  30.2  18  Ipe amarelo\n",
              "5  50.6  18  Carvalhinho\n",
              "6  20.8  22  Ipe amarelo\n",
              "7  30.6  13     Ipe roxo\n",
              "8  40.1  21  Ipe amarelo\n",
              "9  10.9  17     Ipe roxo"
            ]
          },
          "metadata": {
            "tags": []
          },
          "execution_count": 22
        }
      ]
    },
    {
      "cell_type": "markdown",
      "metadata": {
        "id": "HSGE7Pv7Rtnc"
      },
      "source": [
        "**Determinando a estatística descritiva básica com o comando *descreibe()***"
      ]
    },
    {
      "cell_type": "code",
      "metadata": {
        "colab": {
          "base_uri": "https://localhost:8080/",
          "height": 299
        },
        "id": "X6sEQ7ZURK-u",
        "outputId": "c41cb78f-949e-48cd-f991-093aee873738"
      },
      "source": [
        "df_parcela.describe()"
      ],
      "execution_count": null,
      "outputs": [
        {
          "output_type": "execute_result",
          "data": {
            "text/html": [
              "<div>\n",
              "<style scoped>\n",
              "    .dataframe tbody tr th:only-of-type {\n",
              "        vertical-align: middle;\n",
              "    }\n",
              "\n",
              "    .dataframe tbody tr th {\n",
              "        vertical-align: top;\n",
              "    }\n",
              "\n",
              "    .dataframe thead th {\n",
              "        text-align: right;\n",
              "    }\n",
              "</style>\n",
              "<table border=\"1\" class=\"dataframe\">\n",
              "  <thead>\n",
              "    <tr style=\"text-align: right;\">\n",
              "      <th></th>\n",
              "      <th>dap</th>\n",
              "      <th>h</th>\n",
              "    </tr>\n",
              "  </thead>\n",
              "  <tbody>\n",
              "    <tr>\n",
              "      <th>count</th>\n",
              "      <td>10.000000</td>\n",
              "      <td>10.000000</td>\n",
              "    </tr>\n",
              "    <tr>\n",
              "      <th>mean</th>\n",
              "      <td>26.470000</td>\n",
              "      <td>16.200000</td>\n",
              "    </tr>\n",
              "    <tr>\n",
              "      <th>std</th>\n",
              "      <td>14.183014</td>\n",
              "      <td>3.705851</td>\n",
              "    </tr>\n",
              "    <tr>\n",
              "      <th>min</th>\n",
              "      <td>10.200000</td>\n",
              "      <td>11.000000</td>\n",
              "    </tr>\n",
              "    <tr>\n",
              "      <th>25%</th>\n",
              "      <td>13.250000</td>\n",
              "      <td>13.250000</td>\n",
              "    </tr>\n",
              "    <tr>\n",
              "      <th>50%</th>\n",
              "      <td>25.500000</td>\n",
              "      <td>16.500000</td>\n",
              "    </tr>\n",
              "    <tr>\n",
              "      <th>75%</th>\n",
              "      <td>37.725000</td>\n",
              "      <td>18.000000</td>\n",
              "    </tr>\n",
              "    <tr>\n",
              "      <th>max</th>\n",
              "      <td>50.600000</td>\n",
              "      <td>22.000000</td>\n",
              "    </tr>\n",
              "  </tbody>\n",
              "</table>\n",
              "</div>"
            ],
            "text/plain": [
              "             dap          h\n",
              "count  10.000000  10.000000\n",
              "mean   26.470000  16.200000\n",
              "std    14.183014   3.705851\n",
              "min    10.200000  11.000000\n",
              "25%    13.250000  13.250000\n",
              "50%    25.500000  16.500000\n",
              "75%    37.725000  18.000000\n",
              "max    50.600000  22.000000"
            ]
          },
          "metadata": {
            "tags": []
          },
          "execution_count": 25
        }
      ]
    },
    {
      "cell_type": "markdown",
      "metadata": {
        "id": "QYpxf8MJSBEI"
      },
      "source": [
        "**Observação importante:** O resultado será apenas para as colunas cujas as variáveis são numéricas."
      ]
    },
    {
      "cell_type": "markdown",
      "metadata": {
        "id": "JShwhrVGSYpL"
      },
      "source": [
        "Para o caso de dados categóricos como é o caso da coluna *especie* do *data frame* df_parcela, o resultado para o método *describe()* resume pelo número de observações, número de elementos únicos, moda e a frequência da moda."
      ]
    },
    {
      "cell_type": "code",
      "metadata": {
        "colab": {
          "base_uri": "https://localhost:8080/"
        },
        "id": "shhW0VJ2S9Zm",
        "outputId": "7f106ca4-f382-4acf-f4cb-9966e539cd5e"
      },
      "source": [
        "df_parcela['especie'].describe()"
      ],
      "execution_count": null,
      "outputs": [
        {
          "output_type": "execute_result",
          "data": {
            "text/plain": [
              "count           10\n",
              "unique           3\n",
              "top       Ipe roxo\n",
              "freq             5\n",
              "Name: especie, dtype: object"
            ]
          },
          "metadata": {
            "tags": []
          },
          "execution_count": 26
        }
      ]
    },
    {
      "cell_type": "markdown",
      "metadata": {
        "id": "XEo9JRdPY9-_"
      },
      "source": [
        "##Análise de dados e decisões"
      ]
    },
    {
      "cell_type": "markdown",
      "metadata": {
        "id": "t-IYYXo0ZGxU"
      },
      "source": [
        "###Análise Quintil: com dados aleatórios"
      ]
    },
    {
      "cell_type": "markdown",
      "metadata": {
        "id": "5kd6R8ohZzXr"
      },
      "source": [
        "A análise de quintis é uma estrutura comum para avaliar a eficácia dos fatores de segurança.\n",
        "\n",
        "###O que é um fator\n",
        "Um fator é um método de pontuação / classificação de conjuntos de títulos. Por um determinado momento e por um determinado conjunto de títulos, um fator pode ser representado como uma série de dados no pandas onde, o índice é uma\n",
        "matriz dos identificadores de segurança e os valores, são as pontuações ou classificações.\n",
        "Se tomarmos as pontuações dos fatores ao longo do tempo, podemos, a cada momento, dividir o conjunto de títulos em 5 intervalos iguais, ou quintis, com base na ordem das pontuações dos fatores. Não há nada particularmente\n",
        "sagrado sobre o número 5. Poderíamos ter usado 3 ou 10. Mas usamos 5 com freqüência. Finalmente, rastreamos o desempenho de cada um dos cinco intervalos para determinar se há uma diferença significativa no retorna. Tendemos a nos concentrar mais intensamente na diferença de retornos do balde com o maior classificação em relação à classificação mais baixa."
      ]
    },
    {
      "cell_type": "markdown",
      "metadata": {
        "id": "vmYLp20ca4de"
      },
      "source": [
        "Para facilitar o experimento com os mecanismos, foi provido um código simples para criar um conjunto de dados aleatórios. Esses dados aletórios incluem:\n",
        "\n",
        "\n",
        "  **Retornos:** gera retornos aleatórios para um número especificado de títulos e períodos.<br>**Sinais:** gera sinais aleatórios para um número especificado de títulos e períodos e com nível prescrito de correlação com Retornos. Para que um fator seja útil, deve haver alguma informação ou correlação entre as pontuações / classificações e retornos subsequentes. Se lá não houvesse correlação, nós veríamos. Seria um bom exercício para o leitor, duplicar esta análise com dados aleatórios gerados com 0 correlação.\n",
        "\n"
      ]
    },
    {
      "cell_type": "code",
      "metadata": {
        "id": "2UUzHIgNfIaS"
      },
      "source": [
        "# importando bibliotecas pandas e numpy\n",
        "import pandas as pd\n",
        "import numpy as np\n",
        "\n",
        "numero_segurancas = 1000\n",
        "numero_periodos = 1000\n",
        "frequencia_periodo = 'W'\n",
        "data_inicio = '2000-12-31'\n",
        "\n",
        "np.random.seed([3,1415])\n",
        "media = [0, 0]\n",
        "covariancia = [[1.0, 5e-3],\n",
        "               [5e-3, 1.0]]\n",
        "\n",
        "# gera o conjunto de dados m[0] e m[1] com ~0.005 correlação\n",
        "m = np.random.multivariate_normal(media,covariancia,(numero_periodos,numero_segurancas)).T"
      ],
      "execution_count": null,
      "outputs": []
    },
    {
      "cell_type": "code",
      "metadata": {
        "colab": {
          "base_uri": "https://localhost:8080/"
        },
        "id": "0Tele2W7h6W7",
        "outputId": "622c4944-665a-4ca4-96bc-fb17de6eebf2"
      },
      "source": [
        "m"
      ],
      "execution_count": null,
      "outputs": [
        {
          "output_type": "execute_result",
          "data": {
            "text/plain": [
              "array([[[ 2.40439842, -1.99883907,  1.05846999, ..., -2.72051681,\n",
              "          1.16391321, -0.09355325],\n",
              "        [ 2.99022738,  0.70475282,  0.68816812, ...,  0.67153358,\n",
              "          1.45647911,  1.09309566],\n",
              "        [ 0.26661179,  0.09139405, -0.21271218, ...,  0.83498683,\n",
              "         -0.06172875,  0.13338354],\n",
              "        ...,\n",
              "        [ 0.58031704,  1.49991343,  0.85241726, ..., -0.64162404,\n",
              "          1.6481826 , -0.81027017],\n",
              "        [-0.2150292 , -0.75509327,  0.24534957, ..., -0.95983744,\n",
              "          0.32270648, -0.54264219],\n",
              "        [-1.66853157,  1.71336487,  0.84040112, ...,  0.36503649,\n",
              "          0.99596603, -0.65933852]],\n",
              "\n",
              "       [[ 0.61500681,  0.8041211 , -1.25906613, ...,  1.15994415,\n",
              "         -0.77332085,  1.29157132],\n",
              "        [-0.19656191,  1.87681034,  0.98515146, ...,  0.08831308,\n",
              "          0.811356  ,  0.35574777],\n",
              "        [ 0.22858708,  0.32009034, -1.3152288 , ..., -0.03779635,\n",
              "         -0.21034589,  0.5412049 ],\n",
              "        ...,\n",
              "        [ 0.1132181 ,  0.42068062,  1.96075496, ..., -0.91454425,\n",
              "          0.8444869 , -1.30313519],\n",
              "        [-0.34615875, -1.91503402,  0.81036275, ...,  0.24950153,\n",
              "          0.50255248, -0.71892425],\n",
              "        [ 1.13421323,  0.99687081,  1.022552  , ...,  1.28790165,\n",
              "          1.15984041,  0.60336158]]])"
            ]
          },
          "metadata": {
            "tags": []
          },
          "execution_count": 5
        }
      ]
    },
    {
      "cell_type": "markdown",
      "metadata": {
        "id": "xNZgfDGvTnSM"
      },
      "source": [
        "Agora, é preciso gerar um índice de série temporal e um índice representando IDs de segurança. Em seguida, usamos-os para criar dataframes de retorno e de sinais."
      ]
    },
    {
      "cell_type": "markdown",
      "metadata": {
        "id": "2T9l-tg3g1yS"
      },
      "source": [
        "**Gerando índice da série temporal e o índice representando seguranças (*ids*)**<br> São usados para criar dataframes para *retornos* e *sinais*"
      ]
    },
    {
      "cell_type": "code",
      "metadata": {
        "id": "gQ4s6c10i8Fm"
      },
      "source": [
        "ids = pd.Index(['s{:05d}'.format(s) for s in range(numero_segurancas)])\n",
        "tidx = pd.date_range(start=data_inicio, periods=numero_periodos, freq=frequencia_periodo)"
      ],
      "execution_count": null,
      "outputs": []
    },
    {
      "cell_type": "code",
      "metadata": {
        "colab": {
          "base_uri": "https://localhost:8080/"
        },
        "id": "AQQ7b2QASM7E",
        "outputId": "7006ff77-a6f3-42f8-d08c-a86598347d91"
      },
      "source": [
        "ids"
      ],
      "execution_count": null,
      "outputs": [
        {
          "output_type": "execute_result",
          "data": {
            "text/plain": [
              "Index(['s00000', 's00001', 's00002', 's00003', 's00004', 's00005', 's00006',\n",
              "       's00007', 's00008', 's00009',\n",
              "       ...\n",
              "       's00990', 's00991', 's00992', 's00993', 's00994', 's00995', 's00996',\n",
              "       's00997', 's00998', 's00999'],\n",
              "      dtype='object', length=1000)"
            ]
          },
          "metadata": {
            "tags": []
          },
          "execution_count": 7
        }
      ]
    },
    {
      "cell_type": "code",
      "metadata": {
        "colab": {
          "base_uri": "https://localhost:8080/"
        },
        "id": "TiHpM5DTRK53",
        "outputId": "07f47b02-82d9-405f-a6dd-858b0539bfdb"
      },
      "source": [
        "tidx"
      ],
      "execution_count": null,
      "outputs": [
        {
          "output_type": "execute_result",
          "data": {
            "text/plain": [
              "DatetimeIndex(['2000-12-31', '2001-01-07', '2001-01-14', '2001-01-21',\n",
              "               '2001-01-28', '2001-02-04', '2001-02-11', '2001-02-18',\n",
              "               '2001-02-25', '2001-03-04',\n",
              "               ...\n",
              "               '2019-12-22', '2019-12-29', '2020-01-05', '2020-01-12',\n",
              "               '2020-01-19', '2020-01-26', '2020-02-02', '2020-02-09',\n",
              "               '2020-02-16', '2020-02-23'],\n",
              "              dtype='datetime64[ns]', length=1000, freq='W-SUN')"
            ]
          },
          "metadata": {
            "tags": []
          },
          "execution_count": 8
        }
      ]
    },
    {
      "cell_type": "markdown",
      "metadata": {
        "id": "hoYGZNe4TNI2"
      },
      "source": [
        "O próximo passo é dividir m [0] por 25 para reduzir para algo que se pareça com ações de retorno. Também, devemos adicionar 1e-7 para ter um retorno médio positivo adequado."
      ]
    },
    {
      "cell_type": "code",
      "metadata": {
        "id": "x50MG_hHRK2A"
      },
      "source": [
        "retornos_seguranca = pd.DataFrame(m[0] / 25 + 1e-7, tidx, ids)\n",
        "sinais_seguranca = pd.DataFrame(m[1], tidx, ids)"
      ],
      "execution_count": null,
      "outputs": []
    },
    {
      "cell_type": "markdown",
      "metadata": {
        "id": "WSvWOchtVaY5"
      },
      "source": [
        "###pd.qcut : Criar Quintis Buckets (recipientes)\n",
        "Vamos usar pd.qcut para dividir os sinais em intervalos de quintil para cada período."
      ]
    },
    {
      "cell_type": "code",
      "metadata": {
        "id": "Gbao3q0RVKzt"
      },
      "source": [
        "def qcut(s, q=5):\n",
        "  labels = ['q{}'.format(i) for i in range(1, 6)]\n",
        "  return pd.qcut(s, q, labels=labels)\n",
        "\n",
        "cut = sinais_seguranca.stack().groupby(level=0).apply(qcut)"
      ],
      "execution_count": null,
      "outputs": []
    },
    {
      "cell_type": "markdown",
      "metadata": {
        "id": "Aqp9Qh2vWsWh"
      },
      "source": [
        "**Usar esses cortes como um índice sobre o retorno**"
      ]
    },
    {
      "cell_type": "code",
      "metadata": {
        "id": "PaNRaqC9VKwy"
      },
      "source": [
        "corte_retornos = retornos_seguranca.stack().rename('retorno') \\\n",
        "  .to_frame().set_index(cut, append=True) \\\n",
        "  .swaplevel(2, 1).sort_index().squeeze() \\\n",
        "  .groupby(level=[0, 1]).mean().unstack()"
      ],
      "execution_count": null,
      "outputs": []
    },
    {
      "cell_type": "code",
      "metadata": {
        "colab": {
          "base_uri": "https://localhost:8080/",
          "height": 422
        },
        "id": "JrccdVUvfh_L",
        "outputId": "5cb8a199-4822-46db-b827-877eca1642cf"
      },
      "source": [
        "corte_retornos"
      ],
      "execution_count": null,
      "outputs": [
        {
          "output_type": "execute_result",
          "data": {
            "text/html": [
              "<div>\n",
              "<style scoped>\n",
              "    .dataframe tbody tr th:only-of-type {\n",
              "        vertical-align: middle;\n",
              "    }\n",
              "\n",
              "    .dataframe tbody tr th {\n",
              "        vertical-align: top;\n",
              "    }\n",
              "\n",
              "    .dataframe thead th {\n",
              "        text-align: right;\n",
              "    }\n",
              "</style>\n",
              "<table border=\"1\" class=\"dataframe\">\n",
              "  <thead>\n",
              "    <tr style=\"text-align: right;\">\n",
              "      <th></th>\n",
              "      <th>q1</th>\n",
              "      <th>q2</th>\n",
              "      <th>q3</th>\n",
              "      <th>q4</th>\n",
              "      <th>q5</th>\n",
              "    </tr>\n",
              "  </thead>\n",
              "  <tbody>\n",
              "    <tr>\n",
              "      <th>2000-12-31</th>\n",
              "      <td>-0.001044</td>\n",
              "      <td>0.002494</td>\n",
              "      <td>-0.002707</td>\n",
              "      <td>0.001724</td>\n",
              "      <td>-0.002910</td>\n",
              "    </tr>\n",
              "    <tr>\n",
              "      <th>2001-01-07</th>\n",
              "      <td>0.005455</td>\n",
              "      <td>0.002313</td>\n",
              "      <td>-0.003350</td>\n",
              "      <td>-0.003247</td>\n",
              "      <td>0.001481</td>\n",
              "    </tr>\n",
              "    <tr>\n",
              "      <th>2001-01-14</th>\n",
              "      <td>-0.002183</td>\n",
              "      <td>-0.000642</td>\n",
              "      <td>0.007154</td>\n",
              "      <td>-0.001010</td>\n",
              "      <td>-0.000238</td>\n",
              "    </tr>\n",
              "    <tr>\n",
              "      <th>2001-01-21</th>\n",
              "      <td>-0.002368</td>\n",
              "      <td>-0.002553</td>\n",
              "      <td>0.001565</td>\n",
              "      <td>0.001297</td>\n",
              "      <td>0.005706</td>\n",
              "    </tr>\n",
              "    <tr>\n",
              "      <th>2001-01-28</th>\n",
              "      <td>-0.001225</td>\n",
              "      <td>-0.005461</td>\n",
              "      <td>0.000418</td>\n",
              "      <td>0.004192</td>\n",
              "      <td>0.004737</td>\n",
              "    </tr>\n",
              "    <tr>\n",
              "      <th>...</th>\n",
              "      <td>...</td>\n",
              "      <td>...</td>\n",
              "      <td>...</td>\n",
              "      <td>...</td>\n",
              "      <td>...</td>\n",
              "    </tr>\n",
              "    <tr>\n",
              "      <th>2020-01-26</th>\n",
              "      <td>-0.003605</td>\n",
              "      <td>0.002402</td>\n",
              "      <td>0.005112</td>\n",
              "      <td>0.004382</td>\n",
              "      <td>0.002502</td>\n",
              "    </tr>\n",
              "    <tr>\n",
              "      <th>2020-02-02</th>\n",
              "      <td>0.003696</td>\n",
              "      <td>0.000031</td>\n",
              "      <td>-0.000171</td>\n",
              "      <td>-0.005538</td>\n",
              "      <td>-0.002675</td>\n",
              "    </tr>\n",
              "    <tr>\n",
              "      <th>2020-02-09</th>\n",
              "      <td>-0.003902</td>\n",
              "      <td>-0.004074</td>\n",
              "      <td>-0.000626</td>\n",
              "      <td>0.000674</td>\n",
              "      <td>0.000790</td>\n",
              "    </tr>\n",
              "    <tr>\n",
              "      <th>2020-02-16</th>\n",
              "      <td>-0.000986</td>\n",
              "      <td>-0.000298</td>\n",
              "      <td>0.000017</td>\n",
              "      <td>0.001937</td>\n",
              "      <td>-0.002141</td>\n",
              "    </tr>\n",
              "    <tr>\n",
              "      <th>2020-02-23</th>\n",
              "      <td>0.002822</td>\n",
              "      <td>-0.000458</td>\n",
              "      <td>-0.002583</td>\n",
              "      <td>0.003338</td>\n",
              "      <td>-0.003294</td>\n",
              "    </tr>\n",
              "  </tbody>\n",
              "</table>\n",
              "<p>1000 rows × 5 columns</p>\n",
              "</div>"
            ],
            "text/plain": [
              "                  q1        q2        q3        q4        q5\n",
              "2000-12-31 -0.001044  0.002494 -0.002707  0.001724 -0.002910\n",
              "2001-01-07  0.005455  0.002313 -0.003350 -0.003247  0.001481\n",
              "2001-01-14 -0.002183 -0.000642  0.007154 -0.001010 -0.000238\n",
              "2001-01-21 -0.002368 -0.002553  0.001565  0.001297  0.005706\n",
              "2001-01-28 -0.001225 -0.005461  0.000418  0.004192  0.004737\n",
              "...              ...       ...       ...       ...       ...\n",
              "2020-01-26 -0.003605  0.002402  0.005112  0.004382  0.002502\n",
              "2020-02-02  0.003696  0.000031 -0.000171 -0.005538 -0.002675\n",
              "2020-02-09 -0.003902 -0.004074 -0.000626  0.000674  0.000790\n",
              "2020-02-16 -0.000986 -0.000298  0.000017  0.001937 -0.002141\n",
              "2020-02-23  0.002822 -0.000458 -0.002583  0.003338 -0.003294\n",
              "\n",
              "[1000 rows x 5 columns]"
            ]
          },
          "metadata": {
            "tags": []
          },
          "execution_count": 12
        }
      ]
    },
    {
      "cell_type": "markdown",
      "metadata": {
        "id": "XXy0JQxYXzgA"
      },
      "source": [
        "###Análises<br>\n",
        "**Plot de retornos**"
      ]
    },
    {
      "cell_type": "code",
      "metadata": {
        "colab": {
          "base_uri": "https://localhost:8080/",
          "height": 305
        },
        "id": "j4-EYXELVKtt",
        "outputId": "af77362c-f00a-4cae-d886-df9d4b21fea7"
      },
      "source": [
        "import matplotlib.pyplot as plt\n",
        "fig = plt.figure(figsize=(15, 5))\n",
        "ax1 = plt.subplot2grid((1,3), (0,0))\n",
        "ax2 = plt.subplot2grid((1,3), (0,1))\n",
        "ax3 = plt.subplot2grid((1,3), (0,2))\n",
        "\n",
        "# Retornos Cumulativos\n",
        "corte_retornos.add(1).cumprod() \\\n",
        "  .plot(colormap='jet', ax=ax1, title=\"Retorno Cumulativo\")\n",
        "\n",
        "leg1 = ax1.legend(loc='lower left', ncol=2, prop={'size': 10}, fancybox=True)\n",
        "leg1.get_frame().set_alpha(.8)\n",
        "\n",
        "# Retorno em 50 semanas\n",
        "corte_retornos.add(1).rolling(50).apply(lambda x: x.prod()) \\\n",
        "  .plot(colormap='jet', ax=ax2, title=\"Retorno rolando 50 semanas\")\n",
        "\n",
        "leg2 = ax2.legend(loc='lower left', ncol=2, prop={'size': 10}, fancybox=True)\n",
        "leg2.get_frame().set_alpha(.8)\n",
        "\n",
        "# Retorna Distribuição\n",
        "corte_retornos.plot.box(vert=False, ax=ax3, title=\"Retorna a Distribuição\")\n",
        "\n",
        "fig.autofmt_xdate()\n",
        "\n",
        "plt.show()"
      ],
      "execution_count": null,
      "outputs": [
        {
          "output_type": "display_data",
          "data": {
            "image/png": "[encoded data removed]",
            "text/plain": [
              "<Figure size 1080x360 with 3 Axes>"
            ]
          },
          "metadata": {
            "tags": [],
            "needs_background": "light"
          }
        }
      ]
    },
    {
      "cell_type": "markdown",
      "metadata": {
        "id": "6iverJ27ceY7"
      },
      "source": [
        "##Visualizar Quintil com Correlação<br>\n",
        "**Usar *scatter_matrix***"
      ]
    },
    {
      "cell_type": "code",
      "metadata": {
        "colab": {
          "base_uri": "https://localhost:8080/",
          "height": 516
        },
        "id": "us_nJuzSc7OW",
        "outputId": "7d9b98e6-3c93-464c-89f8-39905c3106fc"
      },
      "source": [
        "from pandas.plotting import scatter_matrix\n",
        "\n",
        "scatter_matrix(corte_retornos, alpha=0.5, figsize=(8, 8), diagonal='hist')\n",
        "\n",
        "plt.show()"
      ],
      "execution_count": null,
      "outputs": [
        {
          "output_type": "display_data",
          "data": {
            "image/png": "[encoded data removed]",
            "text/plain": [
              "<Figure size 576x576 with 25 Axes>"
            ]
          },
          "metadata": {
            "tags": [],
            "needs_background": "light"
          }
        }
      ]
    },
    {
      "cell_type": "code",
      "metadata": {
        "id": "-f63KBU8VKqr"
      },
      "source": [
        "## Página 21 Calcular e visualizar Draw Down"
      ],
      "execution_count": null,
      "outputs": []
    },
    {
      "cell_type": "code",
      "metadata": {
        "id": "ZCzEGSGiZwVN"
      },
      "source": [
        "def max_dd(returns):\n",
        "  \"\"\"isso retorna uma série\"\"\"\n",
        "  r = returns.add(1).cumprod()\n",
        "  dd = r.div(r.cummax()).sub(1)\n",
        "  mdd = dd.min()\n",
        "  end = dd.argmin()\n",
        "  start = r.loc[:end].argmax()\n",
        "  return mdd, start, end"
      ],
      "execution_count": null,
      "outputs": []
    },
    {
      "cell_type": "code",
      "metadata": {
        "id": "zTXtimy-pbU9"
      },
      "source": [
        "def max_dd_df(returns):\n",
        "  \"\"\"isso retorna um dataframe\"\"\"\n",
        "  series = lambda x: pd.Series(x, ['Draw Down', 'Start', 'End'])\n",
        "  return returns.apply(max_dd).apply(series)"
      ],
      "execution_count": null,
      "outputs": []
    },
    {
      "cell_type": "code",
      "metadata": {
        "colab": {
          "base_uri": "https://localhost:8080/",
          "height": 422
        },
        "id": "k-L9eAtPzdAY",
        "outputId": "3e5ff54f-f01f-47d2-d3ae-46b36d296006"
      },
      "source": [
        "corte_retornos"
      ],
      "execution_count": null,
      "outputs": [
        {
          "output_type": "execute_result",
          "data": {
            "text/html": [
              "<div>\n",
              "<style scoped>\n",
              "    .dataframe tbody tr th:only-of-type {\n",
              "        vertical-align: middle;\n",
              "    }\n",
              "\n",
              "    .dataframe tbody tr th {\n",
              "        vertical-align: top;\n",
              "    }\n",
              "\n",
              "    .dataframe thead th {\n",
              "        text-align: right;\n",
              "    }\n",
              "</style>\n",
              "<table border=\"1\" class=\"dataframe\">\n",
              "  <thead>\n",
              "    <tr style=\"text-align: right;\">\n",
              "      <th></th>\n",
              "      <th>q1</th>\n",
              "      <th>q2</th>\n",
              "      <th>q3</th>\n",
              "      <th>q4</th>\n",
              "      <th>q5</th>\n",
              "    </tr>\n",
              "  </thead>\n",
              "  <tbody>\n",
              "    <tr>\n",
              "      <th>2000-12-31</th>\n",
              "      <td>-0.001044</td>\n",
              "      <td>0.002494</td>\n",
              "      <td>-0.002707</td>\n",
              "      <td>0.001724</td>\n",
              "      <td>-0.002910</td>\n",
              "    </tr>\n",
              "    <tr>\n",
              "      <th>2001-01-07</th>\n",
              "      <td>0.005455</td>\n",
              "      <td>0.002313</td>\n",
              "      <td>-0.003350</td>\n",
              "      <td>-0.003247</td>\n",
              "      <td>0.001481</td>\n",
              "    </tr>\n",
              "    <tr>\n",
              "      <th>2001-01-14</th>\n",
              "      <td>-0.002183</td>\n",
              "      <td>-0.000642</td>\n",
              "      <td>0.007154</td>\n",
              "      <td>-0.001010</td>\n",
              "      <td>-0.000238</td>\n",
              "    </tr>\n",
              "    <tr>\n",
              "      <th>2001-01-21</th>\n",
              "      <td>-0.002368</td>\n",
              "      <td>-0.002553</td>\n",
              "      <td>0.001565</td>\n",
              "      <td>0.001297</td>\n",
              "      <td>0.005706</td>\n",
              "    </tr>\n",
              "    <tr>\n",
              "      <th>2001-01-28</th>\n",
              "      <td>-0.001225</td>\n",
              "      <td>-0.005461</td>\n",
              "      <td>0.000418</td>\n",
              "      <td>0.004192</td>\n",
              "      <td>0.004737</td>\n",
              "    </tr>\n",
              "    <tr>\n",
              "      <th>...</th>\n",
              "      <td>...</td>\n",
              "      <td>...</td>\n",
              "      <td>...</td>\n",
              "      <td>...</td>\n",
              "      <td>...</td>\n",
              "    </tr>\n",
              "    <tr>\n",
              "      <th>2020-01-26</th>\n",
              "      <td>-0.003605</td>\n",
              "      <td>0.002402</td>\n",
              "      <td>0.005112</td>\n",
              "      <td>0.004382</td>\n",
              "      <td>0.002502</td>\n",
              "    </tr>\n",
              "    <tr>\n",
              "      <th>2020-02-02</th>\n",
              "      <td>0.003696</td>\n",
              "      <td>0.000031</td>\n",
              "      <td>-0.000171</td>\n",
              "      <td>-0.005538</td>\n",
              "      <td>-0.002675</td>\n",
              "    </tr>\n",
              "    <tr>\n",
              "      <th>2020-02-09</th>\n",
              "      <td>-0.003902</td>\n",
              "      <td>-0.004074</td>\n",
              "      <td>-0.000626</td>\n",
              "      <td>0.000674</td>\n",
              "      <td>0.000790</td>\n",
              "    </tr>\n",
              "    <tr>\n",
              "      <th>2020-02-16</th>\n",
              "      <td>-0.000986</td>\n",
              "      <td>-0.000298</td>\n",
              "      <td>0.000017</td>\n",
              "      <td>0.001937</td>\n",
              "      <td>-0.002141</td>\n",
              "    </tr>\n",
              "    <tr>\n",
              "      <th>2020-02-23</th>\n",
              "      <td>0.002822</td>\n",
              "      <td>-0.000458</td>\n",
              "      <td>-0.002583</td>\n",
              "      <td>0.003338</td>\n",
              "      <td>-0.003294</td>\n",
              "    </tr>\n",
              "  </tbody>\n",
              "</table>\n",
              "<p>1000 rows × 5 columns</p>\n",
              "</div>"
            ],
            "text/plain": [
              "                  q1        q2        q3        q4        q5\n",
              "2000-12-31 -0.001044  0.002494 -0.002707  0.001724 -0.002910\n",
              "2001-01-07  0.005455  0.002313 -0.003350 -0.003247  0.001481\n",
              "2001-01-14 -0.002183 -0.000642  0.007154 -0.001010 -0.000238\n",
              "2001-01-21 -0.002368 -0.002553  0.001565  0.001297  0.005706\n",
              "2001-01-28 -0.001225 -0.005461  0.000418  0.004192  0.004737\n",
              "...              ...       ...       ...       ...       ...\n",
              "2020-01-26 -0.003605  0.002402  0.005112  0.004382  0.002502\n",
              "2020-02-02  0.003696  0.000031 -0.000171 -0.005538 -0.002675\n",
              "2020-02-09 -0.003902 -0.004074 -0.000626  0.000674  0.000790\n",
              "2020-02-16 -0.000986 -0.000298  0.000017  0.001937 -0.002141\n",
              "2020-02-23  0.002822 -0.000458 -0.002583  0.003338 -0.003294\n",
              "\n",
              "[1000 rows x 5 columns]"
            ]
          },
          "metadata": {
            "tags": []
          },
          "execution_count": 18
        }
      ]
    },
    {
      "cell_type": "code",
      "metadata": {
        "id": "-GpHUyw1zc72"
      },
      "source": [],
      "execution_count": null,
      "outputs": []
    },
    {
      "cell_type": "markdown",
      "metadata": {
        "id": "7yKcALtsbkcT"
      },
      "source": [
        "**É isso o que se apresenta quando aplicamos a função *max_dd_df***"
      ]
    },
    {
      "cell_type": "code",
      "metadata": {
        "id": "xTc_QH0lVKnV",
        "colab": {
          "base_uri": "https://localhost:8080/",
          "height": 340
        },
        "outputId": "4477bb09-3469-4afb-b1cb-6b199f0e92b4"
      },
      "source": [
        "max_dd_df(corte_retornos)"
      ],
      "execution_count": null,
      "outputs": [
        {
          "output_type": "error",
          "ename": "TypeError",
          "evalue": "ignored",
          "traceback": [
            "\u001b[0;31m---------------------------------------------------------------------------\u001b[0m",
            "\u001b[0;31mTypeError\u001b[0m                                 Traceback (most recent call last)",
            "\u001b[0;32m<ipython-input-73-c482b5564205>\u001b[0m in \u001b[0;36m<module>\u001b[0;34m()\u001b[0m\n\u001b[0;32m----> 1\u001b[0;31m \u001b[0mmax_dd_df\u001b[0m\u001b[0;34m(\u001b[0m\u001b[0mcorte_retornos\u001b[0m\u001b[0;34m)\u001b[0m\u001b[0;34m\u001b[0m\u001b[0;34m\u001b[0m\u001b[0m\n\u001b[0m",
            "\u001b[0;32m<ipython-input-72-e60cf5080d97>\u001b[0m in \u001b[0;36mmax_dd_df\u001b[0;34m(returns)\u001b[0m\n\u001b[1;32m     11\u001b[0m  \u001b[0;34m\"\"\"returns is a dataframe\"\"\"\u001b[0m\u001b[0;34m\u001b[0m\u001b[0;34m\u001b[0m\u001b[0m\n\u001b[1;32m     12\u001b[0m  \u001b[0mseries\u001b[0m \u001b[0;34m=\u001b[0m \u001b[0;32mlambda\u001b[0m \u001b[0mx\u001b[0m\u001b[0;34m:\u001b[0m \u001b[0mpd\u001b[0m\u001b[0;34m.\u001b[0m\u001b[0mSeries\u001b[0m\u001b[0;34m(\u001b[0m\u001b[0mx\u001b[0m\u001b[0;34m,\u001b[0m \u001b[0;34m[\u001b[0m\u001b[0;34m'Draw Down'\u001b[0m\u001b[0;34m,\u001b[0m \u001b[0;34m'Start'\u001b[0m\u001b[0;34m,\u001b[0m \u001b[0;34m'End'\u001b[0m\u001b[0;34m]\u001b[0m\u001b[0;34m)\u001b[0m\u001b[0;34m\u001b[0m\u001b[0;34m\u001b[0m\u001b[0m\n\u001b[0;32m---> 13\u001b[0;31m  \u001b[0;32mreturn\u001b[0m \u001b[0mreturns\u001b[0m\u001b[0;34m.\u001b[0m\u001b[0mapply\u001b[0m\u001b[0;34m(\u001b[0m\u001b[0mmax_dd\u001b[0m\u001b[0;34m)\u001b[0m\u001b[0;34m.\u001b[0m\u001b[0mapply\u001b[0m\u001b[0;34m(\u001b[0m\u001b[0mseries\u001b[0m\u001b[0;34m)\u001b[0m\u001b[0;34m\u001b[0m\u001b[0;34m\u001b[0m\u001b[0m\n\u001b[0m",
            "\u001b[0;32m/usr/local/lib/python3.7/dist-packages/pandas/core/frame.py\u001b[0m in \u001b[0;36mapply\u001b[0;34m(self, func, axis, raw, result_type, args, **kwds)\u001b[0m\n\u001b[1;32m   7550\u001b[0m             \u001b[0mkwds\u001b[0m\u001b[0;34m=\u001b[0m\u001b[0mkwds\u001b[0m\u001b[0;34m,\u001b[0m\u001b[0;34m\u001b[0m\u001b[0;34m\u001b[0m\u001b[0m\n\u001b[1;32m   7551\u001b[0m         )\n\u001b[0;32m-> 7552\u001b[0;31m         \u001b[0;32mreturn\u001b[0m \u001b[0mop\u001b[0m\u001b[0;34m.\u001b[0m\u001b[0mget_result\u001b[0m\u001b[0;34m(\u001b[0m\u001b[0;34m)\u001b[0m\u001b[0;34m\u001b[0m\u001b[0;34m\u001b[0m\u001b[0m\n\u001b[0m\u001b[1;32m   7553\u001b[0m \u001b[0;34m\u001b[0m\u001b[0m\n\u001b[1;32m   7554\u001b[0m     \u001b[0;32mdef\u001b[0m \u001b[0mapplymap\u001b[0m\u001b[0;34m(\u001b[0m\u001b[0mself\u001b[0m\u001b[0;34m,\u001b[0m \u001b[0mfunc\u001b[0m\u001b[0;34m)\u001b[0m \u001b[0;34m->\u001b[0m \u001b[0;34m\"DataFrame\"\u001b[0m\u001b[0;34m:\u001b[0m\u001b[0;34m\u001b[0m\u001b[0;34m\u001b[0m\u001b[0m\n",
            "\u001b[0;32m/usr/local/lib/python3.7/dist-packages/pandas/core/apply.py\u001b[0m in \u001b[0;36mget_result\u001b[0;34m(self)\u001b[0m\n\u001b[1;32m    183\u001b[0m             \u001b[0;32mreturn\u001b[0m \u001b[0mself\u001b[0m\u001b[0;34m.\u001b[0m\u001b[0mapply_raw\u001b[0m\u001b[0;34m(\u001b[0m\u001b[0;34m)\u001b[0m\u001b[0;34m\u001b[0m\u001b[0;34m\u001b[0m\u001b[0m\n\u001b[1;32m    184\u001b[0m \u001b[0;34m\u001b[0m\u001b[0m\n\u001b[0;32m--> 185\u001b[0;31m         \u001b[0;32mreturn\u001b[0m \u001b[0mself\u001b[0m\u001b[0;34m.\u001b[0m\u001b[0mapply_standard\u001b[0m\u001b[0;34m(\u001b[0m\u001b[0;34m)\u001b[0m\u001b[0;34m\u001b[0m\u001b[0;34m\u001b[0m\u001b[0m\n\u001b[0m\u001b[1;32m    186\u001b[0m \u001b[0;34m\u001b[0m\u001b[0m\n\u001b[1;32m    187\u001b[0m     \u001b[0;32mdef\u001b[0m \u001b[0mapply_empty_result\u001b[0m\u001b[0;34m(\u001b[0m\u001b[0mself\u001b[0m\u001b[0;34m)\u001b[0m\u001b[0;34m:\u001b[0m\u001b[0;34m\u001b[0m\u001b[0;34m\u001b[0m\u001b[0m\n",
            "\u001b[0;32m/usr/local/lib/python3.7/dist-packages/pandas/core/apply.py\u001b[0m in \u001b[0;36mapply_standard\u001b[0;34m(self)\u001b[0m\n\u001b[1;32m    274\u001b[0m \u001b[0;34m\u001b[0m\u001b[0m\n\u001b[1;32m    275\u001b[0m     \u001b[0;32mdef\u001b[0m \u001b[0mapply_standard\u001b[0m\u001b[0;34m(\u001b[0m\u001b[0mself\u001b[0m\u001b[0;34m)\u001b[0m\u001b[0;34m:\u001b[0m\u001b[0;34m\u001b[0m\u001b[0;34m\u001b[0m\u001b[0m\n\u001b[0;32m--> 276\u001b[0;31m         \u001b[0mresults\u001b[0m\u001b[0;34m,\u001b[0m \u001b[0mres_index\u001b[0m \u001b[0;34m=\u001b[0m \u001b[0mself\u001b[0m\u001b[0;34m.\u001b[0m\u001b[0mapply_series_generator\u001b[0m\u001b[0;34m(\u001b[0m\u001b[0;34m)\u001b[0m\u001b[0;34m\u001b[0m\u001b[0;34m\u001b[0m\u001b[0m\n\u001b[0m\u001b[1;32m    277\u001b[0m \u001b[0;34m\u001b[0m\u001b[0m\n\u001b[1;32m    278\u001b[0m         \u001b[0;31m# wrap results\u001b[0m\u001b[0;34m\u001b[0m\u001b[0;34m\u001b[0m\u001b[0;34m\u001b[0m\u001b[0m\n",
            "\u001b[0;32m/usr/local/lib/python3.7/dist-packages/pandas/core/apply.py\u001b[0m in \u001b[0;36mapply_series_generator\u001b[0;34m(self)\u001b[0m\n\u001b[1;32m    303\u001b[0m                 \u001b[0;32mfor\u001b[0m \u001b[0mi\u001b[0m\u001b[0;34m,\u001b[0m \u001b[0mv\u001b[0m \u001b[0;32min\u001b[0m \u001b[0menumerate\u001b[0m\u001b[0;34m(\u001b[0m\u001b[0mseries_gen\u001b[0m\u001b[0;34m)\u001b[0m\u001b[0;34m:\u001b[0m\u001b[0;34m\u001b[0m\u001b[0;34m\u001b[0m\u001b[0m\n\u001b[1;32m    304\u001b[0m                     \u001b[0;31m# ignore SettingWithCopy here in case the user mutates\u001b[0m\u001b[0;34m\u001b[0m\u001b[0;34m\u001b[0m\u001b[0;34m\u001b[0m\u001b[0m\n\u001b[0;32m--> 305\u001b[0;31m                     \u001b[0mresults\u001b[0m\u001b[0;34m[\u001b[0m\u001b[0mi\u001b[0m\u001b[0;34m]\u001b[0m \u001b[0;34m=\u001b[0m \u001b[0mself\u001b[0m\u001b[0;34m.\u001b[0m\u001b[0mf\u001b[0m\u001b[0;34m(\u001b[0m\u001b[0mv\u001b[0m\u001b[0;34m)\u001b[0m\u001b[0;34m\u001b[0m\u001b[0;34m\u001b[0m\u001b[0m\n\u001b[0m\u001b[1;32m    306\u001b[0m                     \u001b[0;32mif\u001b[0m \u001b[0misinstance\u001b[0m\u001b[0;34m(\u001b[0m\u001b[0mresults\u001b[0m\u001b[0;34m[\u001b[0m\u001b[0mi\u001b[0m\u001b[0;34m]\u001b[0m\u001b[0;34m,\u001b[0m \u001b[0mABCSeries\u001b[0m\u001b[0;34m)\u001b[0m\u001b[0;34m:\u001b[0m\u001b[0;34m\u001b[0m\u001b[0;34m\u001b[0m\u001b[0m\n\u001b[1;32m    307\u001b[0m                         \u001b[0;31m# If we have a view on v, we need to make a copy because\u001b[0m\u001b[0;34m\u001b[0m\u001b[0;34m\u001b[0m\u001b[0;34m\u001b[0m\u001b[0m\n",
            "\u001b[0;32m<ipython-input-72-e60cf5080d97>\u001b[0m in \u001b[0;36mmax_dd\u001b[0;34m(returns)\u001b[0m\n\u001b[1;32m      5\u001b[0m  \u001b[0mmdd\u001b[0m \u001b[0;34m=\u001b[0m \u001b[0mdd\u001b[0m\u001b[0;34m.\u001b[0m\u001b[0mmin\u001b[0m\u001b[0;34m(\u001b[0m\u001b[0;34m)\u001b[0m\u001b[0;34m\u001b[0m\u001b[0;34m\u001b[0m\u001b[0m\n\u001b[1;32m      6\u001b[0m  \u001b[0mend\u001b[0m \u001b[0;34m=\u001b[0m \u001b[0mdd\u001b[0m\u001b[0;34m.\u001b[0m\u001b[0margmin\u001b[0m\u001b[0;34m(\u001b[0m\u001b[0;34m)\u001b[0m\u001b[0;34m\u001b[0m\u001b[0;34m\u001b[0m\u001b[0m\n\u001b[0;32m----> 7\u001b[0;31m  \u001b[0mstart\u001b[0m \u001b[0;34m=\u001b[0m \u001b[0mr\u001b[0m\u001b[0;34m.\u001b[0m\u001b[0mloc\u001b[0m\u001b[0;34m[\u001b[0m\u001b[0;34m:\u001b[0m\u001b[0mend\u001b[0m\u001b[0;34m]\u001b[0m\u001b[0;34m.\u001b[0m\u001b[0margmax\u001b[0m\u001b[0;34m(\u001b[0m\u001b[0;34m)\u001b[0m\u001b[0;34m\u001b[0m\u001b[0;34m\u001b[0m\u001b[0m\n\u001b[0m\u001b[1;32m      8\u001b[0m  \u001b[0;32mreturn\u001b[0m \u001b[0mmdd\u001b[0m\u001b[0;34m,\u001b[0m \u001b[0mstart\u001b[0m\u001b[0;34m,\u001b[0m \u001b[0mend\u001b[0m\u001b[0;34m\u001b[0m\u001b[0;34m\u001b[0m\u001b[0m\n\u001b[1;32m      9\u001b[0m \u001b[0;34m\u001b[0m\u001b[0m\n",
            "\u001b[0;32m/usr/local/lib/python3.7/dist-packages/pandas/core/indexing.py\u001b[0m in \u001b[0;36m__getitem__\u001b[0;34m(self, key)\u001b[0m\n\u001b[1;32m    877\u001b[0m \u001b[0;34m\u001b[0m\u001b[0m\n\u001b[1;32m    878\u001b[0m             \u001b[0mmaybe_callable\u001b[0m \u001b[0;34m=\u001b[0m \u001b[0mcom\u001b[0m\u001b[0;34m.\u001b[0m\u001b[0mapply_if_callable\u001b[0m\u001b[0;34m(\u001b[0m\u001b[0mkey\u001b[0m\u001b[0;34m,\u001b[0m \u001b[0mself\u001b[0m\u001b[0;34m.\u001b[0m\u001b[0mobj\u001b[0m\u001b[0;34m)\u001b[0m\u001b[0;34m\u001b[0m\u001b[0;34m\u001b[0m\u001b[0m\n\u001b[0;32m--> 879\u001b[0;31m             \u001b[0;32mreturn\u001b[0m \u001b[0mself\u001b[0m\u001b[0;34m.\u001b[0m\u001b[0m_getitem_axis\u001b[0m\u001b[0;34m(\u001b[0m\u001b[0mmaybe_callable\u001b[0m\u001b[0;34m,\u001b[0m \u001b[0maxis\u001b[0m\u001b[0;34m=\u001b[0m\u001b[0maxis\u001b[0m\u001b[0;34m)\u001b[0m\u001b[0;34m\u001b[0m\u001b[0;34m\u001b[0m\u001b[0m\n\u001b[0m\u001b[1;32m    880\u001b[0m \u001b[0;34m\u001b[0m\u001b[0m\n\u001b[1;32m    881\u001b[0m     \u001b[0;32mdef\u001b[0m \u001b[0m_is_scalar_access\u001b[0m\u001b[0;34m(\u001b[0m\u001b[0mself\u001b[0m\u001b[0;34m,\u001b[0m \u001b[0mkey\u001b[0m\u001b[0;34m:\u001b[0m \u001b[0mTuple\u001b[0m\u001b[0;34m)\u001b[0m\u001b[0;34m:\u001b[0m\u001b[0;34m\u001b[0m\u001b[0;34m\u001b[0m\u001b[0m\n",
            "\u001b[0;32m/usr/local/lib/python3.7/dist-packages/pandas/core/indexing.py\u001b[0m in \u001b[0;36m_getitem_axis\u001b[0;34m(self, key, axis)\u001b[0m\n\u001b[1;32m   1086\u001b[0m         \u001b[0;32mif\u001b[0m \u001b[0misinstance\u001b[0m\u001b[0;34m(\u001b[0m\u001b[0mkey\u001b[0m\u001b[0;34m,\u001b[0m \u001b[0mslice\u001b[0m\u001b[0;34m)\u001b[0m\u001b[0;34m:\u001b[0m\u001b[0;34m\u001b[0m\u001b[0;34m\u001b[0m\u001b[0m\n\u001b[1;32m   1087\u001b[0m             \u001b[0mself\u001b[0m\u001b[0;34m.\u001b[0m\u001b[0m_validate_key\u001b[0m\u001b[0;34m(\u001b[0m\u001b[0mkey\u001b[0m\u001b[0;34m,\u001b[0m \u001b[0maxis\u001b[0m\u001b[0;34m)\u001b[0m\u001b[0;34m\u001b[0m\u001b[0;34m\u001b[0m\u001b[0m\n\u001b[0;32m-> 1088\u001b[0;31m             \u001b[0;32mreturn\u001b[0m \u001b[0mself\u001b[0m\u001b[0;34m.\u001b[0m\u001b[0m_get_slice_axis\u001b[0m\u001b[0;34m(\u001b[0m\u001b[0mkey\u001b[0m\u001b[0;34m,\u001b[0m \u001b[0maxis\u001b[0m\u001b[0;34m=\u001b[0m\u001b[0maxis\u001b[0m\u001b[0;34m)\u001b[0m\u001b[0;34m\u001b[0m\u001b[0;34m\u001b[0m\u001b[0m\n\u001b[0m\u001b[1;32m   1089\u001b[0m         \u001b[0;32melif\u001b[0m \u001b[0mcom\u001b[0m\u001b[0;34m.\u001b[0m\u001b[0mis_bool_indexer\u001b[0m\u001b[0;34m(\u001b[0m\u001b[0mkey\u001b[0m\u001b[0;34m)\u001b[0m\u001b[0;34m:\u001b[0m\u001b[0;34m\u001b[0m\u001b[0;34m\u001b[0m\u001b[0m\n\u001b[1;32m   1090\u001b[0m             \u001b[0;32mreturn\u001b[0m \u001b[0mself\u001b[0m\u001b[0;34m.\u001b[0m\u001b[0m_getbool_axis\u001b[0m\u001b[0;34m(\u001b[0m\u001b[0mkey\u001b[0m\u001b[0;34m,\u001b[0m \u001b[0maxis\u001b[0m\u001b[0;34m=\u001b[0m\u001b[0maxis\u001b[0m\u001b[0;34m)\u001b[0m\u001b[0;34m\u001b[0m\u001b[0;34m\u001b[0m\u001b[0m\n",
            "\u001b[0;32m/usr/local/lib/python3.7/dist-packages/pandas/core/indexing.py\u001b[0m in \u001b[0;36m_get_slice_axis\u001b[0;34m(self, slice_obj, axis)\u001b[0m\n\u001b[1;32m   1121\u001b[0m         \u001b[0mlabels\u001b[0m \u001b[0;34m=\u001b[0m \u001b[0mobj\u001b[0m\u001b[0;34m.\u001b[0m\u001b[0m_get_axis\u001b[0m\u001b[0;34m(\u001b[0m\u001b[0maxis\u001b[0m\u001b[0;34m)\u001b[0m\u001b[0;34m\u001b[0m\u001b[0;34m\u001b[0m\u001b[0m\n\u001b[1;32m   1122\u001b[0m         indexer = labels.slice_indexer(\n\u001b[0;32m-> 1123\u001b[0;31m             \u001b[0mslice_obj\u001b[0m\u001b[0;34m.\u001b[0m\u001b[0mstart\u001b[0m\u001b[0;34m,\u001b[0m \u001b[0mslice_obj\u001b[0m\u001b[0;34m.\u001b[0m\u001b[0mstop\u001b[0m\u001b[0;34m,\u001b[0m \u001b[0mslice_obj\u001b[0m\u001b[0;34m.\u001b[0m\u001b[0mstep\u001b[0m\u001b[0;34m,\u001b[0m \u001b[0mkind\u001b[0m\u001b[0;34m=\u001b[0m\u001b[0;34m\"loc\"\u001b[0m\u001b[0;34m\u001b[0m\u001b[0;34m\u001b[0m\u001b[0m\n\u001b[0m\u001b[1;32m   1124\u001b[0m         )\n\u001b[1;32m   1125\u001b[0m \u001b[0;34m\u001b[0m\u001b[0m\n",
            "\u001b[0;32m/usr/local/lib/python3.7/dist-packages/pandas/core/indexes/datetimes.py\u001b[0m in \u001b[0;36mslice_indexer\u001b[0;34m(self, start, end, step, kind)\u001b[0m\n\u001b[1;32m    716\u001b[0m \u001b[0;34m\u001b[0m\u001b[0m\n\u001b[1;32m    717\u001b[0m         \u001b[0;32mtry\u001b[0m\u001b[0;34m:\u001b[0m\u001b[0;34m\u001b[0m\u001b[0;34m\u001b[0m\u001b[0m\n\u001b[0;32m--> 718\u001b[0;31m             \u001b[0;32mreturn\u001b[0m \u001b[0mIndex\u001b[0m\u001b[0;34m.\u001b[0m\u001b[0mslice_indexer\u001b[0m\u001b[0;34m(\u001b[0m\u001b[0mself\u001b[0m\u001b[0;34m,\u001b[0m \u001b[0mstart\u001b[0m\u001b[0;34m,\u001b[0m \u001b[0mend\u001b[0m\u001b[0;34m,\u001b[0m \u001b[0mstep\u001b[0m\u001b[0;34m,\u001b[0m \u001b[0mkind\u001b[0m\u001b[0;34m=\u001b[0m\u001b[0mkind\u001b[0m\u001b[0;34m)\u001b[0m\u001b[0;34m\u001b[0m\u001b[0;34m\u001b[0m\u001b[0m\n\u001b[0m\u001b[1;32m    719\u001b[0m         \u001b[0;32mexcept\u001b[0m \u001b[0mKeyError\u001b[0m\u001b[0;34m:\u001b[0m\u001b[0;34m\u001b[0m\u001b[0;34m\u001b[0m\u001b[0m\n\u001b[1;32m    720\u001b[0m             \u001b[0;31m# For historical reasons DatetimeIndex by default supports\u001b[0m\u001b[0;34m\u001b[0m\u001b[0;34m\u001b[0m\u001b[0;34m\u001b[0m\u001b[0m\n",
            "\u001b[0;32m/usr/local/lib/python3.7/dist-packages/pandas/core/indexes/base.py\u001b[0m in \u001b[0;36mslice_indexer\u001b[0;34m(self, start, end, step, kind)\u001b[0m\n\u001b[1;32m   4967\u001b[0m         \u001b[0mslice\u001b[0m\u001b[0;34m(\u001b[0m\u001b[0;36m1\u001b[0m\u001b[0;34m,\u001b[0m \u001b[0;36m3\u001b[0m\u001b[0;34m,\u001b[0m \u001b[0;32mNone\u001b[0m\u001b[0;34m)\u001b[0m\u001b[0;34m\u001b[0m\u001b[0;34m\u001b[0m\u001b[0m\n\u001b[1;32m   4968\u001b[0m         \"\"\"\n\u001b[0;32m-> 4969\u001b[0;31m         \u001b[0mstart_slice\u001b[0m\u001b[0;34m,\u001b[0m \u001b[0mend_slice\u001b[0m \u001b[0;34m=\u001b[0m \u001b[0mself\u001b[0m\u001b[0;34m.\u001b[0m\u001b[0mslice_locs\u001b[0m\u001b[0;34m(\u001b[0m\u001b[0mstart\u001b[0m\u001b[0;34m,\u001b[0m \u001b[0mend\u001b[0m\u001b[0;34m,\u001b[0m \u001b[0mstep\u001b[0m\u001b[0;34m=\u001b[0m\u001b[0mstep\u001b[0m\u001b[0;34m,\u001b[0m \u001b[0mkind\u001b[0m\u001b[0;34m=\u001b[0m\u001b[0mkind\u001b[0m\u001b[0;34m)\u001b[0m\u001b[0;34m\u001b[0m\u001b[0;34m\u001b[0m\u001b[0m\n\u001b[0m\u001b[1;32m   4970\u001b[0m \u001b[0;34m\u001b[0m\u001b[0m\n\u001b[1;32m   4971\u001b[0m         \u001b[0;31m# return a slice\u001b[0m\u001b[0;34m\u001b[0m\u001b[0;34m\u001b[0m\u001b[0;34m\u001b[0m\u001b[0m\n",
            "\u001b[0;32m/usr/local/lib/python3.7/dist-packages/pandas/core/indexes/base.py\u001b[0m in \u001b[0;36mslice_locs\u001b[0;34m(self, start, end, step, kind)\u001b[0m\n\u001b[1;32m   5176\u001b[0m         \u001b[0mend_slice\u001b[0m \u001b[0;34m=\u001b[0m \u001b[0;32mNone\u001b[0m\u001b[0;34m\u001b[0m\u001b[0;34m\u001b[0m\u001b[0m\n\u001b[1;32m   5177\u001b[0m         \u001b[0;32mif\u001b[0m \u001b[0mend\u001b[0m \u001b[0;32mis\u001b[0m \u001b[0;32mnot\u001b[0m \u001b[0;32mNone\u001b[0m\u001b[0;34m:\u001b[0m\u001b[0;34m\u001b[0m\u001b[0;34m\u001b[0m\u001b[0m\n\u001b[0;32m-> 5178\u001b[0;31m             \u001b[0mend_slice\u001b[0m \u001b[0;34m=\u001b[0m \u001b[0mself\u001b[0m\u001b[0;34m.\u001b[0m\u001b[0mget_slice_bound\u001b[0m\u001b[0;34m(\u001b[0m\u001b[0mend\u001b[0m\u001b[0;34m,\u001b[0m \u001b[0;34m\"right\"\u001b[0m\u001b[0;34m,\u001b[0m \u001b[0mkind\u001b[0m\u001b[0;34m)\u001b[0m\u001b[0;34m\u001b[0m\u001b[0;34m\u001b[0m\u001b[0m\n\u001b[0m\u001b[1;32m   5179\u001b[0m         \u001b[0;32mif\u001b[0m \u001b[0mend_slice\u001b[0m \u001b[0;32mis\u001b[0m \u001b[0;32mNone\u001b[0m\u001b[0;34m:\u001b[0m\u001b[0;34m\u001b[0m\u001b[0;34m\u001b[0m\u001b[0m\n\u001b[1;32m   5180\u001b[0m             \u001b[0mend_slice\u001b[0m \u001b[0;34m=\u001b[0m \u001b[0mlen\u001b[0m\u001b[0;34m(\u001b[0m\u001b[0mself\u001b[0m\u001b[0;34m)\u001b[0m\u001b[0;34m\u001b[0m\u001b[0;34m\u001b[0m\u001b[0m\n",
            "\u001b[0;32m/usr/local/lib/python3.7/dist-packages/pandas/core/indexes/base.py\u001b[0m in \u001b[0;36mget_slice_bound\u001b[0;34m(self, label, side, kind)\u001b[0m\n\u001b[1;32m   5080\u001b[0m         \u001b[0;31m# For datetime indices label may be a string that has to be converted\u001b[0m\u001b[0;34m\u001b[0m\u001b[0;34m\u001b[0m\u001b[0;34m\u001b[0m\u001b[0m\n\u001b[1;32m   5081\u001b[0m         \u001b[0;31m# to datetime boundary according to its resolution.\u001b[0m\u001b[0;34m\u001b[0m\u001b[0;34m\u001b[0m\u001b[0;34m\u001b[0m\u001b[0m\n\u001b[0;32m-> 5082\u001b[0;31m         \u001b[0mlabel\u001b[0m \u001b[0;34m=\u001b[0m \u001b[0mself\u001b[0m\u001b[0;34m.\u001b[0m\u001b[0m_maybe_cast_slice_bound\u001b[0m\u001b[0;34m(\u001b[0m\u001b[0mlabel\u001b[0m\u001b[0;34m,\u001b[0m \u001b[0mside\u001b[0m\u001b[0;34m,\u001b[0m \u001b[0mkind\u001b[0m\u001b[0;34m)\u001b[0m\u001b[0;34m\u001b[0m\u001b[0;34m\u001b[0m\u001b[0m\n\u001b[0m\u001b[1;32m   5083\u001b[0m \u001b[0;34m\u001b[0m\u001b[0m\n\u001b[1;32m   5084\u001b[0m         \u001b[0;31m# we need to look up the label\u001b[0m\u001b[0;34m\u001b[0m\u001b[0;34m\u001b[0m\u001b[0;34m\u001b[0m\u001b[0m\n",
            "\u001b[0;32m/usr/local/lib/python3.7/dist-packages/pandas/core/indexes/datetimes.py\u001b[0m in \u001b[0;36m_maybe_cast_slice_bound\u001b[0;34m(self, label, side, kind)\u001b[0m\n\u001b[1;32m    657\u001b[0m \u001b[0;34m\u001b[0m\u001b[0m\n\u001b[1;32m    658\u001b[0m         \u001b[0;32mif\u001b[0m \u001b[0mis_float\u001b[0m\u001b[0;34m(\u001b[0m\u001b[0mlabel\u001b[0m\u001b[0;34m)\u001b[0m \u001b[0;32mor\u001b[0m \u001b[0misinstance\u001b[0m\u001b[0;34m(\u001b[0m\u001b[0mlabel\u001b[0m\u001b[0;34m,\u001b[0m \u001b[0mtime\u001b[0m\u001b[0;34m)\u001b[0m \u001b[0;32mor\u001b[0m \u001b[0mis_integer\u001b[0m\u001b[0;34m(\u001b[0m\u001b[0mlabel\u001b[0m\u001b[0;34m)\u001b[0m\u001b[0;34m:\u001b[0m\u001b[0;34m\u001b[0m\u001b[0;34m\u001b[0m\u001b[0m\n\u001b[0;32m--> 659\u001b[0;31m             \u001b[0mself\u001b[0m\u001b[0;34m.\u001b[0m\u001b[0m_invalid_indexer\u001b[0m\u001b[0;34m(\u001b[0m\u001b[0;34m\"slice\"\u001b[0m\u001b[0;34m,\u001b[0m \u001b[0mlabel\u001b[0m\u001b[0;34m)\u001b[0m\u001b[0;34m\u001b[0m\u001b[0;34m\u001b[0m\u001b[0m\n\u001b[0m\u001b[1;32m    660\u001b[0m \u001b[0;34m\u001b[0m\u001b[0m\n\u001b[1;32m    661\u001b[0m         \u001b[0;32mif\u001b[0m \u001b[0misinstance\u001b[0m\u001b[0;34m(\u001b[0m\u001b[0mlabel\u001b[0m\u001b[0;34m,\u001b[0m \u001b[0mstr\u001b[0m\u001b[0;34m)\u001b[0m\u001b[0;34m:\u001b[0m\u001b[0;34m\u001b[0m\u001b[0;34m\u001b[0m\u001b[0m\n",
            "\u001b[0;32m/usr/local/lib/python3.7/dist-packages/pandas/core/indexes/base.py\u001b[0m in \u001b[0;36m_invalid_indexer\u001b[0;34m(self, form, key)\u001b[0m\n\u001b[1;32m   3269\u001b[0m         \"\"\"\n\u001b[1;32m   3270\u001b[0m         raise TypeError(\n\u001b[0;32m-> 3271\u001b[0;31m             \u001b[0;34mf\"cannot do {form} indexing on {type(self).__name__} with these \"\u001b[0m\u001b[0;34m\u001b[0m\u001b[0;34m\u001b[0m\u001b[0m\n\u001b[0m\u001b[1;32m   3272\u001b[0m             \u001b[0;34mf\"indexers [{key}] of type {type(key).__name__}\"\u001b[0m\u001b[0;34m\u001b[0m\u001b[0;34m\u001b[0m\u001b[0m\n\u001b[1;32m   3273\u001b[0m         )\n",
            "\u001b[0;31mTypeError\u001b[0m: cannot do slice indexing on DatetimeIndex with these indexers [998] of type int64"
          ]
        }
      ]
    },
    {
      "cell_type": "markdown",
      "metadata": {
        "id": "RyTgTxLQFj6E"
      },
      "source": [
        "###Determnação Estatística"
      ]
    },
    {
      "cell_type": "markdown",
      "metadata": {
        "id": "SPw-ryRVFyJO"
      },
      "source": [
        "Existem muitas determinações estatísticas potenciais que podemos calcular. Abaixo estão apenas alguns parâmetros determinados implementados por funções desenvolvidas para sintetizar a análise."
      ]
    },
    {
      "cell_type": "code",
      "metadata": {
        "id": "uQHG08NRlMfJ"
      },
      "source": [
        "# Implementação de funções estatísticas\n",
        "\n",
        "def frequency_of_time_series(df):\n",
        "  start, end = df.index.min(), df.index.max()\n",
        "  delta = end - start\n",
        "  return round((len(df) - 1.) * 365.25 / delta.days, 2)\n",
        "\n",
        "def annualized_return(df):\n",
        "  freq = frequency_of_time_series(df)\n",
        "  return df.add(1).prod() ** (1 / freq) - 1\n",
        "\n",
        "def annualized_volatility(df):\n",
        "  freq = frequency_of_time_series(df)\n",
        "  return df.std().mul(freq ** .5)\n",
        "\n",
        "def sharpe_ratio(df):\n",
        "  return annualized_return(df) / annualized_volatility(df)\n",
        "\n",
        "def describe(df):\n",
        "  r = annualized_return(df).rename('Retorno')\n",
        "  v = annualized_volatility(df).rename('Volatilidade')\n",
        "  s = sharpe_ratio(df).rename('Sharpe')\n",
        "  skew = df.skew().rename('Skew')\n",
        "  kurt = df.kurt().rename('Kurtose')\n",
        "  desc = df.describe().T\n",
        "  return pd.concat([r, v, s, skew, kurt, desc], axis=1).T.drop('count')"
      ],
      "execution_count": null,
      "outputs": []
    },
    {
      "cell_type": "code",
      "metadata": {
        "id": "nFhTX4QkVKkU",
        "colab": {
          "base_uri": "https://localhost:8080/",
          "height": 425
        },
        "outputId": "3ce96e71-fcc4-4136-c29e-b8196ff4f704"
      },
      "source": [
        "describe(corte_retornos)"
      ],
      "execution_count": null,
      "outputs": [
        {
          "output_type": "execute_result",
          "data": {
            "text/html": [
              "<div>\n",
              "<style scoped>\n",
              "    .dataframe tbody tr th:only-of-type {\n",
              "        vertical-align: middle;\n",
              "    }\n",
              "\n",
              "    .dataframe tbody tr th {\n",
              "        vertical-align: top;\n",
              "    }\n",
              "\n",
              "    .dataframe thead th {\n",
              "        text-align: right;\n",
              "    }\n",
              "</style>\n",
              "<table border=\"1\" class=\"dataframe\">\n",
              "  <thead>\n",
              "    <tr style=\"text-align: right;\">\n",
              "      <th></th>\n",
              "      <th>q1</th>\n",
              "      <th>q2</th>\n",
              "      <th>q3</th>\n",
              "      <th>q4</th>\n",
              "      <th>q5</th>\n",
              "    </tr>\n",
              "  </thead>\n",
              "  <tbody>\n",
              "    <tr>\n",
              "      <th>Return</th>\n",
              "      <td>-0.007609</td>\n",
              "      <td>-0.001375</td>\n",
              "      <td>0.001067</td>\n",
              "      <td>0.002821</td>\n",
              "      <td>0.003687</td>\n",
              "    </tr>\n",
              "    <tr>\n",
              "      <th>Volatility</th>\n",
              "      <td>0.019584</td>\n",
              "      <td>0.020445</td>\n",
              "      <td>0.020629</td>\n",
              "      <td>0.021185</td>\n",
              "      <td>0.020172</td>\n",
              "    </tr>\n",
              "    <tr>\n",
              "      <th>Sharpe</th>\n",
              "      <td>-0.388525</td>\n",
              "      <td>-0.067278</td>\n",
              "      <td>0.051709</td>\n",
              "      <td>0.133176</td>\n",
              "      <td>0.182792</td>\n",
              "    </tr>\n",
              "    <tr>\n",
              "      <th>Skew</th>\n",
              "      <td>0.040430</td>\n",
              "      <td>-0.085828</td>\n",
              "      <td>-0.078071</td>\n",
              "      <td>-0.067522</td>\n",
              "      <td>0.005652</td>\n",
              "    </tr>\n",
              "    <tr>\n",
              "      <th>Kurtosis</th>\n",
              "      <td>-0.174206</td>\n",
              "      <td>0.203038</td>\n",
              "      <td>0.026385</td>\n",
              "      <td>0.370249</td>\n",
              "      <td>-0.160678</td>\n",
              "    </tr>\n",
              "    <tr>\n",
              "      <th>mean</th>\n",
              "      <td>-0.000395</td>\n",
              "      <td>-0.000068</td>\n",
              "      <td>0.000060</td>\n",
              "      <td>0.000151</td>\n",
              "      <td>0.000196</td>\n",
              "    </tr>\n",
              "    <tr>\n",
              "      <th>std</th>\n",
              "      <td>0.002711</td>\n",
              "      <td>0.002830</td>\n",
              "      <td>0.002856</td>\n",
              "      <td>0.002933</td>\n",
              "      <td>0.002792</td>\n",
              "    </tr>\n",
              "    <tr>\n",
              "      <th>min</th>\n",
              "      <td>-0.008608</td>\n",
              "      <td>-0.009614</td>\n",
              "      <td>-0.009845</td>\n",
              "      <td>-0.014037</td>\n",
              "      <td>-0.007913</td>\n",
              "    </tr>\n",
              "    <tr>\n",
              "      <th>25%</th>\n",
              "      <td>-0.002196</td>\n",
              "      <td>-0.002018</td>\n",
              "      <td>-0.001956</td>\n",
              "      <td>-0.001833</td>\n",
              "      <td>-0.001694</td>\n",
              "    </tr>\n",
              "    <tr>\n",
              "      <th>50%</th>\n",
              "      <td>-0.000434</td>\n",
              "      <td>0.000065</td>\n",
              "      <td>0.000210</td>\n",
              "      <td>0.000029</td>\n",
              "      <td>0.000146</td>\n",
              "    </tr>\n",
              "    <tr>\n",
              "      <th>75%</th>\n",
              "      <td>0.001444</td>\n",
              "      <td>0.001768</td>\n",
              "      <td>0.001989</td>\n",
              "      <td>0.002107</td>\n",
              "      <td>0.002081</td>\n",
              "    </tr>\n",
              "    <tr>\n",
              "      <th>max</th>\n",
              "      <td>0.007070</td>\n",
              "      <td>0.008432</td>\n",
              "      <td>0.008100</td>\n",
              "      <td>0.008687</td>\n",
              "      <td>0.007791</td>\n",
              "    </tr>\n",
              "  </tbody>\n",
              "</table>\n",
              "</div>"
            ],
            "text/plain": [
              "                  q1        q2        q3        q4        q5\n",
              "Return     -0.007609 -0.001375  0.001067  0.002821  0.003687\n",
              "Volatility  0.019584  0.020445  0.020629  0.021185  0.020172\n",
              "Sharpe     -0.388525 -0.067278  0.051709  0.133176  0.182792\n",
              "Skew        0.040430 -0.085828 -0.078071 -0.067522  0.005652\n",
              "Kurtosis   -0.174206  0.203038  0.026385  0.370249 -0.160678\n",
              "mean       -0.000395 -0.000068  0.000060  0.000151  0.000196\n",
              "std         0.002711  0.002830  0.002856  0.002933  0.002792\n",
              "min        -0.008608 -0.009614 -0.009845 -0.014037 -0.007913\n",
              "25%        -0.002196 -0.002018 -0.001956 -0.001833 -0.001694\n",
              "50%        -0.000434  0.000065  0.000210  0.000029  0.000146\n",
              "75%         0.001444  0.001768  0.001989  0.002107  0.002081\n",
              "max         0.007070  0.008432  0.008100  0.008687  0.007791"
            ]
          },
          "metadata": {
            "tags": []
          },
          "execution_count": 20
        }
      ]
    },
    {
      "cell_type": "markdown",
      "metadata": {
        "id": "WSWG_Wo6ISZH"
      },
      "source": [
        "Esses parâmetros não esgotam as possibilidades de determinações e, sequer pretendem ser abrangentes. O objetivo foi apresentar algumas da possíveis características do Pandas e demonstrar como a biblioteca pode ser utilizada para ajudar no processo de análise de dados.Os parâmetros acima determinados podem ser utilizados como um subconjunto de métricas para avaliar a eficácia de fatores quantitativos."
      ]
    },
    {
      "cell_type": "markdown",
      "metadata": {
        "id": "NjCgFqwSJNKX"
      },
      "source": [
        "##Adicionando elementos linhas ou colunas ao DataFrame"
      ]
    },
    {
      "cell_type": "code",
      "metadata": {
        "id": "6c5XtrVpVKgt"
      },
      "source": [
        "# Importando a biblioteca Pandas\n",
        "import pandas as pd"
      ],
      "execution_count": null,
      "outputs": []
    },
    {
      "cell_type": "code",
      "metadata": {
        "id": "DWz1po4hRKr8",
        "colab": {
          "base_uri": "https://localhost:8080/",
          "height": 49
        },
        "outputId": "b0792be6-17f3-4399-a663-b128cee51376"
      },
      "source": [
        "#Exemplo 1: Adicionando uma nova linha ao DataFrame\n",
        "df_tabela = pd.DataFrame(columns = ['dap','h','especie'])\n",
        "df_tabela"
      ],
      "execution_count": null,
      "outputs": [
        {
          "output_type": "execute_result",
          "data": {
            "text/html": [
              "<div>\n",
              "<style scoped>\n",
              "    .dataframe tbody tr th:only-of-type {\n",
              "        vertical-align: middle;\n",
              "    }\n",
              "\n",
              "    .dataframe tbody tr th {\n",
              "        vertical-align: top;\n",
              "    }\n",
              "\n",
              "    .dataframe thead th {\n",
              "        text-align: right;\n",
              "    }\n",
              "</style>\n",
              "<table border=\"1\" class=\"dataframe\">\n",
              "  <thead>\n",
              "    <tr style=\"text-align: right;\">\n",
              "      <th></th>\n",
              "      <th>dap</th>\n",
              "      <th>h</th>\n",
              "      <th>especie</th>\n",
              "    </tr>\n",
              "  </thead>\n",
              "  <tbody>\n",
              "  </tbody>\n",
              "</table>\n",
              "</div>"
            ],
            "text/plain": [
              "Empty DataFrame\n",
              "Columns: [dap, h, especie]\n",
              "Index: []"
            ]
          },
          "metadata": {
            "tags": []
          },
          "execution_count": 10
        }
      ]
    },
    {
      "cell_type": "markdown",
      "metadata": {
        "id": "aj4ekjjELZvr"
      },
      "source": [
        "Adicionando um valor para uma determinada coluna."
      ]
    },
    {
      "cell_type": "code",
      "metadata": {
        "id": "do7HzR4oLY6s"
      },
      "source": [
        "df_tabela.loc[0,'h'] = 17.8"
      ],
      "execution_count": null,
      "outputs": []
    },
    {
      "cell_type": "code",
      "metadata": {
        "colab": {
          "base_uri": "https://localhost:8080/",
          "height": 81
        },
        "id": "mLhrN6QYMB9u",
        "outputId": "92ae2d3e-e9b0-44a6-fa14-7f3346fb6f72"
      },
      "source": [
        "df_tabela"
      ],
      "execution_count": null,
      "outputs": [
        {
          "output_type": "execute_result",
          "data": {
            "text/html": [
              "<div>\n",
              "<style scoped>\n",
              "    .dataframe tbody tr th:only-of-type {\n",
              "        vertical-align: middle;\n",
              "    }\n",
              "\n",
              "    .dataframe tbody tr th {\n",
              "        vertical-align: top;\n",
              "    }\n",
              "\n",
              "    .dataframe thead th {\n",
              "        text-align: right;\n",
              "    }\n",
              "</style>\n",
              "<table border=\"1\" class=\"dataframe\">\n",
              "  <thead>\n",
              "    <tr style=\"text-align: right;\">\n",
              "      <th></th>\n",
              "      <th>dap</th>\n",
              "      <th>h</th>\n",
              "      <th>especie</th>\n",
              "    </tr>\n",
              "  </thead>\n",
              "  <tbody>\n",
              "    <tr>\n",
              "      <th>0</th>\n",
              "      <td>NaN</td>\n",
              "      <td>17.8</td>\n",
              "      <td>NaN</td>\n",
              "    </tr>\n",
              "  </tbody>\n",
              "</table>\n",
              "</div>"
            ],
            "text/plain": [
              "   dap     h especie\n",
              "0  NaN  17.8     NaN"
            ]
          },
          "metadata": {
            "tags": []
          },
          "execution_count": 13
        }
      ]
    },
    {
      "cell_type": "code",
      "metadata": {
        "colab": {
          "base_uri": "https://localhost:8080/",
          "height": 112
        },
        "id": "3tajGNIvJxY5",
        "outputId": "a595423c-700f-4ca0-dd6b-5ad1940f5733"
      },
      "source": [
        "#Exemplo 2: Adicionando valores de uma única vez para as colunas\n",
        "df_tabela.loc[1] = [10.4,12.5,'Erva Mate']\n",
        "df_tabela"
      ],
      "execution_count": null,
      "outputs": [
        {
          "output_type": "execute_result",
          "data": {
            "text/html": [
              "<div>\n",
              "<style scoped>\n",
              "    .dataframe tbody tr th:only-of-type {\n",
              "        vertical-align: middle;\n",
              "    }\n",
              "\n",
              "    .dataframe tbody tr th {\n",
              "        vertical-align: top;\n",
              "    }\n",
              "\n",
              "    .dataframe thead th {\n",
              "        text-align: right;\n",
              "    }\n",
              "</style>\n",
              "<table border=\"1\" class=\"dataframe\">\n",
              "  <thead>\n",
              "    <tr style=\"text-align: right;\">\n",
              "      <th></th>\n",
              "      <th>dap</th>\n",
              "      <th>h</th>\n",
              "      <th>especie</th>\n",
              "    </tr>\n",
              "  </thead>\n",
              "  <tbody>\n",
              "    <tr>\n",
              "      <th>0</th>\n",
              "      <td>NaN</td>\n",
              "      <td>17.8</td>\n",
              "      <td>NaN</td>\n",
              "    </tr>\n",
              "    <tr>\n",
              "      <th>1</th>\n",
              "      <td>10.4</td>\n",
              "      <td>12.5</td>\n",
              "      <td>Erva Mate</td>\n",
              "    </tr>\n",
              "  </tbody>\n",
              "</table>\n",
              "</div>"
            ],
            "text/plain": [
              "    dap     h    especie\n",
              "0   NaN  17.8        NaN\n",
              "1  10.4  12.5  Erva Mate"
            ]
          },
          "metadata": {
            "tags": []
          },
          "execution_count": 14
        }
      ]
    },
    {
      "cell_type": "code",
      "metadata": {
        "colab": {
          "base_uri": "https://localhost:8080/",
          "height": 143
        },
        "id": "Prs9RO1lJxWH",
        "outputId": "d8afe156-cf4a-4a8c-ac65-b04c0a2bd19e"
      },
      "source": [
        "#Exemplo 3: Adicionando uma linha considerando um dicionário\n",
        "df_tabela.loc[2] = {'dap':8.7,'h':11.2,'especie':'Canela'}\n",
        "df_tabela"
      ],
      "execution_count": null,
      "outputs": [
        {
          "output_type": "execute_result",
          "data": {
            "text/html": [
              "<div>\n",
              "<style scoped>\n",
              "    .dataframe tbody tr th:only-of-type {\n",
              "        vertical-align: middle;\n",
              "    }\n",
              "\n",
              "    .dataframe tbody tr th {\n",
              "        vertical-align: top;\n",
              "    }\n",
              "\n",
              "    .dataframe thead th {\n",
              "        text-align: right;\n",
              "    }\n",
              "</style>\n",
              "<table border=\"1\" class=\"dataframe\">\n",
              "  <thead>\n",
              "    <tr style=\"text-align: right;\">\n",
              "      <th></th>\n",
              "      <th>dap</th>\n",
              "      <th>h</th>\n",
              "      <th>especie</th>\n",
              "    </tr>\n",
              "  </thead>\n",
              "  <tbody>\n",
              "    <tr>\n",
              "      <th>0</th>\n",
              "      <td>NaN</td>\n",
              "      <td>17.8</td>\n",
              "      <td>NaN</td>\n",
              "    </tr>\n",
              "    <tr>\n",
              "      <th>1</th>\n",
              "      <td>10.4</td>\n",
              "      <td>12.5</td>\n",
              "      <td>Erva Mate</td>\n",
              "    </tr>\n",
              "    <tr>\n",
              "      <th>2</th>\n",
              "      <td>8.7</td>\n",
              "      <td>11.2</td>\n",
              "      <td>Canela</td>\n",
              "    </tr>\n",
              "  </tbody>\n",
              "</table>\n",
              "</div>"
            ],
            "text/plain": [
              "    dap     h    especie\n",
              "0   NaN  17.8        NaN\n",
              "1  10.4  12.5  Erva Mate\n",
              "2   8.7  11.2     Canela"
            ]
          },
          "metadata": {
            "tags": []
          },
          "execution_count": 15
        }
      ]
    },
    {
      "cell_type": "markdown",
      "metadata": {
        "id": "hpBAykEqOEmA"
      },
      "source": [
        "A primeira entrada em .loc [ ] é o índice (index). Se utilizarmos um índice existente, estaremos substituindo o valor naquela posição índice. No exemplo abaixo, estamos substituindo os valores no índice posição zero *(loc[0])*."
      ]
    },
    {
      "cell_type": "code",
      "metadata": {
        "colab": {
          "base_uri": "https://localhost:8080/",
          "height": 143
        },
        "id": "n9oq43mGJxUb",
        "outputId": "011d3ade-b667-4120-fd9a-302472377fdf"
      },
      "source": [
        "df_tabela"
      ],
      "execution_count": null,
      "outputs": [
        {
          "output_type": "execute_result",
          "data": {
            "text/html": [
              "<div>\n",
              "<style scoped>\n",
              "    .dataframe tbody tr th:only-of-type {\n",
              "        vertical-align: middle;\n",
              "    }\n",
              "\n",
              "    .dataframe tbody tr th {\n",
              "        vertical-align: top;\n",
              "    }\n",
              "\n",
              "    .dataframe thead th {\n",
              "        text-align: right;\n",
              "    }\n",
              "</style>\n",
              "<table border=\"1\" class=\"dataframe\">\n",
              "  <thead>\n",
              "    <tr style=\"text-align: right;\">\n",
              "      <th></th>\n",
              "      <th>dap</th>\n",
              "      <th>h</th>\n",
              "      <th>especie</th>\n",
              "    </tr>\n",
              "  </thead>\n",
              "  <tbody>\n",
              "    <tr>\n",
              "      <th>0</th>\n",
              "      <td>NaN</td>\n",
              "      <td>17.8</td>\n",
              "      <td>NaN</td>\n",
              "    </tr>\n",
              "    <tr>\n",
              "      <th>1</th>\n",
              "      <td>10.4</td>\n",
              "      <td>12.5</td>\n",
              "      <td>Erva Mate</td>\n",
              "    </tr>\n",
              "    <tr>\n",
              "      <th>2</th>\n",
              "      <td>8.7</td>\n",
              "      <td>11.2</td>\n",
              "      <td>Canela</td>\n",
              "    </tr>\n",
              "  </tbody>\n",
              "</table>\n",
              "</div>"
            ],
            "text/plain": [
              "    dap     h    especie\n",
              "0   NaN  17.8        NaN\n",
              "1  10.4  12.5  Erva Mate\n",
              "2   8.7  11.2     Canela"
            ]
          },
          "metadata": {
            "tags": []
          },
          "execution_count": 16
        }
      ]
    },
    {
      "cell_type": "code",
      "metadata": {
        "id": "xAE_YqCbOjw5"
      },
      "source": [
        "df_tabela.loc[0,'dap'] = 9.3\n",
        "df_tabela.loc[0,'especie'] = 'Cedro'"
      ],
      "execution_count": null,
      "outputs": []
    },
    {
      "cell_type": "code",
      "metadata": {
        "colab": {
          "base_uri": "https://localhost:8080/",
          "height": 143
        },
        "id": "lEFcpTWcJxP_",
        "outputId": "60e94e65-322a-4d4f-bc82-608c4754a501"
      },
      "source": [
        "df_tabela"
      ],
      "execution_count": null,
      "outputs": [
        {
          "output_type": "execute_result",
          "data": {
            "text/html": [
              "<div>\n",
              "<style scoped>\n",
              "    .dataframe tbody tr th:only-of-type {\n",
              "        vertical-align: middle;\n",
              "    }\n",
              "\n",
              "    .dataframe tbody tr th {\n",
              "        vertical-align: top;\n",
              "    }\n",
              "\n",
              "    .dataframe thead th {\n",
              "        text-align: right;\n",
              "    }\n",
              "</style>\n",
              "<table border=\"1\" class=\"dataframe\">\n",
              "  <thead>\n",
              "    <tr style=\"text-align: right;\">\n",
              "      <th></th>\n",
              "      <th>dap</th>\n",
              "      <th>h</th>\n",
              "      <th>especie</th>\n",
              "    </tr>\n",
              "  </thead>\n",
              "  <tbody>\n",
              "    <tr>\n",
              "      <th>0</th>\n",
              "      <td>9.3</td>\n",
              "      <td>17.8</td>\n",
              "      <td>Cedro</td>\n",
              "    </tr>\n",
              "    <tr>\n",
              "      <th>1</th>\n",
              "      <td>10.4</td>\n",
              "      <td>12.5</td>\n",
              "      <td>Erva Mate</td>\n",
              "    </tr>\n",
              "    <tr>\n",
              "      <th>2</th>\n",
              "      <td>8.7</td>\n",
              "      <td>11.2</td>\n",
              "      <td>Canela</td>\n",
              "    </tr>\n",
              "  </tbody>\n",
              "</table>\n",
              "</div>"
            ],
            "text/plain": [
              "    dap     h    especie\n",
              "0   9.3  17.8      Cedro\n",
              "1  10.4  12.5  Erva Mate\n",
              "2   8.7  11.2     Canela"
            ]
          },
          "metadata": {
            "tags": []
          },
          "execution_count": 18
        }
      ]
    },
    {
      "cell_type": "markdown",
      "metadata": {
        "id": "PWXoe4UQzplr"
      },
      "source": [
        "##Adicionando um DataFrame a outro DataFrame"
      ]
    },
    {
      "cell_type": "markdown",
      "metadata": {
        "id": "IftY7xv3z51E"
      },
      "source": [
        "Dado dois dataframes, adicionar um DataFrame a outro usando-se o método *append()*."
      ]
    },
    {
      "cell_type": "code",
      "metadata": {
        "id": "aZgV6mRJzyN_"
      },
      "source": [
        "#DataFrame 1 (df1) e DataFrame 2 (df2) - Adicionar um DataFrame a outro\n",
        "df1 = pd.DataFrame(columns = ['dap','h','especie'])\n",
        "df1.loc[0] = [10.3,23.2,'Cedro']\n",
        "df1.loc[1] = [11.7,21.3,'Canela']\n",
        "df1.loc[2] = [10.8,19.8,'Erva Mate']"
      ],
      "execution_count": null,
      "outputs": []
    },
    {
      "cell_type": "code",
      "metadata": {
        "colab": {
          "base_uri": "https://localhost:8080/",
          "height": 143
        },
        "id": "8wsgxD_85THe",
        "outputId": "424ca15b-f207-4e12-bfe6-ced0cae0a462"
      },
      "source": [
        "df1"
      ],
      "execution_count": null,
      "outputs": [
        {
          "output_type": "execute_result",
          "data": {
            "text/html": [
              "<div>\n",
              "<style scoped>\n",
              "    .dataframe tbody tr th:only-of-type {\n",
              "        vertical-align: middle;\n",
              "    }\n",
              "\n",
              "    .dataframe tbody tr th {\n",
              "        vertical-align: top;\n",
              "    }\n",
              "\n",
              "    .dataframe thead th {\n",
              "        text-align: right;\n",
              "    }\n",
              "</style>\n",
              "<table border=\"1\" class=\"dataframe\">\n",
              "  <thead>\n",
              "    <tr style=\"text-align: right;\">\n",
              "      <th></th>\n",
              "      <th>dap</th>\n",
              "      <th>h</th>\n",
              "      <th>especie</th>\n",
              "    </tr>\n",
              "  </thead>\n",
              "  <tbody>\n",
              "    <tr>\n",
              "      <th>0</th>\n",
              "      <td>10.3</td>\n",
              "      <td>23.2</td>\n",
              "      <td>Cedro</td>\n",
              "    </tr>\n",
              "    <tr>\n",
              "      <th>1</th>\n",
              "      <td>11.7</td>\n",
              "      <td>21.3</td>\n",
              "      <td>Canela</td>\n",
              "    </tr>\n",
              "    <tr>\n",
              "      <th>2</th>\n",
              "      <td>10.8</td>\n",
              "      <td>19.8</td>\n",
              "      <td>Erva Mate</td>\n",
              "    </tr>\n",
              "  </tbody>\n",
              "</table>\n",
              "</div>"
            ],
            "text/plain": [
              "    dap     h    especie\n",
              "0  10.3  23.2      Cedro\n",
              "1  11.7  21.3     Canela\n",
              "2  10.8  19.8  Erva Mate"
            ]
          },
          "metadata": {
            "tags": []
          },
          "execution_count": 21
        }
      ]
    },
    {
      "cell_type": "code",
      "metadata": {
        "id": "ddrLO-SxJxNF"
      },
      "source": [
        "#DataFrame df2\n",
        "df2 = pd.DataFrame(columns = ['h','especie','QF'])\n",
        "df2.loc[0] = [11.7,'Guajuvira',1]\n",
        "df2.loc[2] = [13.5,'Araucaria',2]\n",
        "#"
      ],
      "execution_count": null,
      "outputs": []
    },
    {
      "cell_type": "code",
      "metadata": {
        "colab": {
          "base_uri": "https://localhost:8080/",
          "height": 112
        },
        "id": "ZVbOCCsG5VfN",
        "outputId": "e2b3a957-ad55-4c65-b6ae-3e67e9ea3824"
      },
      "source": [
        "df2"
      ],
      "execution_count": null,
      "outputs": [
        {
          "output_type": "execute_result",
          "data": {
            "text/html": [
              "<div>\n",
              "<style scoped>\n",
              "    .dataframe tbody tr th:only-of-type {\n",
              "        vertical-align: middle;\n",
              "    }\n",
              "\n",
              "    .dataframe tbody tr th {\n",
              "        vertical-align: top;\n",
              "    }\n",
              "\n",
              "    .dataframe thead th {\n",
              "        text-align: right;\n",
              "    }\n",
              "</style>\n",
              "<table border=\"1\" class=\"dataframe\">\n",
              "  <thead>\n",
              "    <tr style=\"text-align: right;\">\n",
              "      <th></th>\n",
              "      <th>h</th>\n",
              "      <th>especie</th>\n",
              "      <th>QF</th>\n",
              "    </tr>\n",
              "  </thead>\n",
              "  <tbody>\n",
              "    <tr>\n",
              "      <th>0</th>\n",
              "      <td>11.7</td>\n",
              "      <td>Guajuvira</td>\n",
              "      <td>1</td>\n",
              "    </tr>\n",
              "    <tr>\n",
              "      <th>2</th>\n",
              "      <td>13.5</td>\n",
              "      <td>Araucaria</td>\n",
              "      <td>2</td>\n",
              "    </tr>\n",
              "  </tbody>\n",
              "</table>\n",
              "</div>"
            ],
            "text/plain": [
              "      h    especie QF\n",
              "0  11.7  Guajuvira  1\n",
              "2  13.5  Araucaria  2"
            ]
          },
          "metadata": {
            "tags": []
          },
          "execution_count": 23
        }
      ]
    },
    {
      "cell_type": "markdown",
      "metadata": {
        "id": "nb74lz0L81Ej"
      },
      "source": [
        "Os dois DataFrames *df1* e *df2* não precisam ter o mesmo conjunto de colunas. O método *append* não altera nenhum dos DataFrames originais. Em vez disso, ele retorna um novo DataFrame *dff* anexando\n",
        "os dois originais. Anexar um DataFrame a outro é bastante simples:"
      ]
    },
    {
      "cell_type": "code",
      "metadata": {
        "id": "Ko4mFkidJxKE"
      },
      "source": [
        "# Adicionando DataFrames\n",
        "dff = df1.append(df2)"
      ],
      "execution_count": null,
      "outputs": []
    },
    {
      "cell_type": "markdown",
      "metadata": {
        "id": "ZK_djuDN8qyY"
      },
      "source": []
    },
    {
      "cell_type": "code",
      "metadata": {
        "colab": {
          "base_uri": "https://localhost:8080/",
          "height": 205
        },
        "id": "4DkMNv5AJxHK",
        "outputId": "5c844860-30f4-407e-e25d-686e28e310b7"
      },
      "source": [
        "dff"
      ],
      "execution_count": null,
      "outputs": [
        {
          "output_type": "execute_result",
          "data": {
            "text/html": [
              "<div>\n",
              "<style scoped>\n",
              "    .dataframe tbody tr th:only-of-type {\n",
              "        vertical-align: middle;\n",
              "    }\n",
              "\n",
              "    .dataframe tbody tr th {\n",
              "        vertical-align: top;\n",
              "    }\n",
              "\n",
              "    .dataframe thead th {\n",
              "        text-align: right;\n",
              "    }\n",
              "</style>\n",
              "<table border=\"1\" class=\"dataframe\">\n",
              "  <thead>\n",
              "    <tr style=\"text-align: right;\">\n",
              "      <th></th>\n",
              "      <th>dap</th>\n",
              "      <th>h</th>\n",
              "      <th>especie</th>\n",
              "      <th>QF</th>\n",
              "    </tr>\n",
              "  </thead>\n",
              "  <tbody>\n",
              "    <tr>\n",
              "      <th>0</th>\n",
              "      <td>10.3</td>\n",
              "      <td>23.2</td>\n",
              "      <td>Cedro</td>\n",
              "      <td>NaN</td>\n",
              "    </tr>\n",
              "    <tr>\n",
              "      <th>1</th>\n",
              "      <td>11.7</td>\n",
              "      <td>21.3</td>\n",
              "      <td>Canela</td>\n",
              "      <td>NaN</td>\n",
              "    </tr>\n",
              "    <tr>\n",
              "      <th>2</th>\n",
              "      <td>10.8</td>\n",
              "      <td>19.8</td>\n",
              "      <td>Erva Mate</td>\n",
              "      <td>NaN</td>\n",
              "    </tr>\n",
              "    <tr>\n",
              "      <th>0</th>\n",
              "      <td>NaN</td>\n",
              "      <td>11.7</td>\n",
              "      <td>Guajuvira</td>\n",
              "      <td>1</td>\n",
              "    </tr>\n",
              "    <tr>\n",
              "      <th>2</th>\n",
              "      <td>NaN</td>\n",
              "      <td>13.5</td>\n",
              "      <td>Araucaria</td>\n",
              "      <td>2</td>\n",
              "    </tr>\n",
              "  </tbody>\n",
              "</table>\n",
              "</div>"
            ],
            "text/plain": [
              "    dap     h    especie   QF\n",
              "0  10.3  23.2      Cedro  NaN\n",
              "1  11.7  21.3     Canela  NaN\n",
              "2  10.8  19.8  Erva Mate  NaN\n",
              "0   NaN  11.7  Guajuvira    1\n",
              "2   NaN  13.5  Araucaria    2"
            ]
          },
          "metadata": {
            "tags": []
          },
          "execution_count": 25
        }
      ]
    },
    {
      "cell_type": "markdown",
      "metadata": {
        "id": "XN437AwW6Efd"
      },
      "source": [
        "Os campos *NaN* não possuem dados informados.<br>\n",
        "Como você pode ver, é possível ter índices duplicados (0 e 2 neste exemplo). Para evitar esse problema, deve-se reindexar o novo DataFrame utilizando o Pandas."
      ]
    },
    {
      "cell_type": "code",
      "metadata": {
        "id": "tb828OmBJxDw"
      },
      "source": [
        "dff = df1.append(df2,ignore_index = True)"
      ],
      "execution_count": null,
      "outputs": []
    },
    {
      "cell_type": "code",
      "metadata": {
        "colab": {
          "base_uri": "https://localhost:8080/",
          "height": 205
        },
        "id": "NIkTGOlGJw_7",
        "outputId": "a026b761-ae3f-49c5-b024-0a40a94f0541"
      },
      "source": [
        "dff"
      ],
      "execution_count": null,
      "outputs": [
        {
          "output_type": "execute_result",
          "data": {
            "text/html": [
              "<div>\n",
              "<style scoped>\n",
              "    .dataframe tbody tr th:only-of-type {\n",
              "        vertical-align: middle;\n",
              "    }\n",
              "\n",
              "    .dataframe tbody tr th {\n",
              "        vertical-align: top;\n",
              "    }\n",
              "\n",
              "    .dataframe thead th {\n",
              "        text-align: right;\n",
              "    }\n",
              "</style>\n",
              "<table border=\"1\" class=\"dataframe\">\n",
              "  <thead>\n",
              "    <tr style=\"text-align: right;\">\n",
              "      <th></th>\n",
              "      <th>dap</th>\n",
              "      <th>h</th>\n",
              "      <th>especie</th>\n",
              "      <th>QF</th>\n",
              "    </tr>\n",
              "  </thead>\n",
              "  <tbody>\n",
              "    <tr>\n",
              "      <th>0</th>\n",
              "      <td>10.3</td>\n",
              "      <td>23.2</td>\n",
              "      <td>Cedro</td>\n",
              "      <td>NaN</td>\n",
              "    </tr>\n",
              "    <tr>\n",
              "      <th>1</th>\n",
              "      <td>11.7</td>\n",
              "      <td>21.3</td>\n",
              "      <td>Canela</td>\n",
              "      <td>NaN</td>\n",
              "    </tr>\n",
              "    <tr>\n",
              "      <th>2</th>\n",
              "      <td>10.8</td>\n",
              "      <td>19.8</td>\n",
              "      <td>Erva Mate</td>\n",
              "      <td>NaN</td>\n",
              "    </tr>\n",
              "    <tr>\n",
              "      <th>3</th>\n",
              "      <td>NaN</td>\n",
              "      <td>11.7</td>\n",
              "      <td>Guajuvira</td>\n",
              "      <td>1</td>\n",
              "    </tr>\n",
              "    <tr>\n",
              "      <th>4</th>\n",
              "      <td>NaN</td>\n",
              "      <td>13.5</td>\n",
              "      <td>Araucaria</td>\n",
              "      <td>2</td>\n",
              "    </tr>\n",
              "  </tbody>\n",
              "</table>\n",
              "</div>"
            ],
            "text/plain": [
              "    dap     h    especie   QF\n",
              "0  10.3  23.2      Cedro  NaN\n",
              "1  11.7  21.3     Canela  NaN\n",
              "2  10.8  19.8  Erva Mate  NaN\n",
              "3   NaN  11.7  Guajuvira    1\n",
              "4   NaN  13.5  Araucaria    2"
            ]
          },
          "metadata": {
            "tags": []
          },
          "execution_count": 29
        }
      ]
    },
    {
      "cell_type": "markdown",
      "metadata": {
        "id": "KHWrgbC9_kde"
      },
      "source": [
        "##Indexação Booleana de DataFrames"
      ]
    },
    {
      "cell_type": "markdown",
      "metadata": {
        "id": "FpRXUyd0ANUR"
      },
      "source": [
        "Acessando linhas em um DataFrame usando os objetos do indexador DataFrame .ix, .loc, .iloc e como isso diferencia-se de usar uma máscara booleana.\n"
      ]
    },
    {
      "cell_type": "markdown",
      "metadata": {
        "id": "YNb2Btg1Ad1K"
      },
      "source": [
        "**Exemplos**<br>\n",
        "Acessando um DataFrame com um índice booleano.<br>\n",
        "Este será nosso exemplo de quadro de dados:"
      ]
    },
    {
      "cell_type": "code",
      "metadata": {
        "id": "sj0bhbhT_q_c"
      },
      "source": [
        "import pandas as pd\n",
        "# Página 28 - Indexação Booleana no DataFrame\n",
        "df = pd.DataFrame({'cor': ['Violeta','Azul','Verde','Vermelho','Azul','Vermelho']},\n",
        "                  index=[True,False,True,False,False,True])"
      ],
      "execution_count": null,
      "outputs": []
    },
    {
      "cell_type": "code",
      "metadata": {
        "colab": {
          "base_uri": "https://localhost:8080/",
          "height": 236
        },
        "id": "Wg64j2Q0_q1s",
        "outputId": "5ecf4ab0-8c88-4570-e6b5-0eea0d6187a7"
      },
      "source": [
        "df"
      ],
      "execution_count": null,
      "outputs": [
        {
          "output_type": "execute_result",
          "data": {
            "text/html": [
              "<div>\n",
              "<style scoped>\n",
              "    .dataframe tbody tr th:only-of-type {\n",
              "        vertical-align: middle;\n",
              "    }\n",
              "\n",
              "    .dataframe tbody tr th {\n",
              "        vertical-align: top;\n",
              "    }\n",
              "\n",
              "    .dataframe thead th {\n",
              "        text-align: right;\n",
              "    }\n",
              "</style>\n",
              "<table border=\"1\" class=\"dataframe\">\n",
              "  <thead>\n",
              "    <tr style=\"text-align: right;\">\n",
              "      <th></th>\n",
              "      <th>cor</th>\n",
              "    </tr>\n",
              "  </thead>\n",
              "  <tbody>\n",
              "    <tr>\n",
              "      <th>True</th>\n",
              "      <td>Violeta</td>\n",
              "    </tr>\n",
              "    <tr>\n",
              "      <th>False</th>\n",
              "      <td>Azul</td>\n",
              "    </tr>\n",
              "    <tr>\n",
              "      <th>True</th>\n",
              "      <td>Verde</td>\n",
              "    </tr>\n",
              "    <tr>\n",
              "      <th>False</th>\n",
              "      <td>Vermelho</td>\n",
              "    </tr>\n",
              "    <tr>\n",
              "      <th>False</th>\n",
              "      <td>Azul</td>\n",
              "    </tr>\n",
              "    <tr>\n",
              "      <th>True</th>\n",
              "      <td>Vermelho</td>\n",
              "    </tr>\n",
              "  </tbody>\n",
              "</table>\n",
              "</div>"
            ],
            "text/plain": [
              "            cor\n",
              "True    Violeta\n",
              "False      Azul\n",
              "True      Verde\n",
              "False  Vermelho\n",
              "False      Azul\n",
              "True   Vermelho"
            ]
          },
          "metadata": {
            "tags": []
          },
          "execution_count": 3
        }
      ]
    },
    {
      "cell_type": "markdown",
      "metadata": {
        "id": "FRaSRrN5fJcv"
      },
      "source": [
        "**Acessando com *.loc***"
      ]
    },
    {
      "cell_type": "code",
      "metadata": {
        "colab": {
          "base_uri": "https://localhost:8080/",
          "height": 143
        },
        "id": "vswfpKarfRe1",
        "outputId": "eec5f9fa-788b-4247-c6cb-19f28613c93d"
      },
      "source": [
        "df.loc[True]"
      ],
      "execution_count": null,
      "outputs": [
        {
          "output_type": "execute_result",
          "data": {
            "text/html": [
              "<div>\n",
              "<style scoped>\n",
              "    .dataframe tbody tr th:only-of-type {\n",
              "        vertical-align: middle;\n",
              "    }\n",
              "\n",
              "    .dataframe tbody tr th {\n",
              "        vertical-align: top;\n",
              "    }\n",
              "\n",
              "    .dataframe thead th {\n",
              "        text-align: right;\n",
              "    }\n",
              "</style>\n",
              "<table border=\"1\" class=\"dataframe\">\n",
              "  <thead>\n",
              "    <tr style=\"text-align: right;\">\n",
              "      <th></th>\n",
              "      <th>cor</th>\n",
              "    </tr>\n",
              "  </thead>\n",
              "  <tbody>\n",
              "    <tr>\n",
              "      <th>True</th>\n",
              "      <td>Violeta</td>\n",
              "    </tr>\n",
              "    <tr>\n",
              "      <th>True</th>\n",
              "      <td>Verde</td>\n",
              "    </tr>\n",
              "    <tr>\n",
              "      <th>True</th>\n",
              "      <td>Vermelho</td>\n",
              "    </tr>\n",
              "  </tbody>\n",
              "</table>\n",
              "</div>"
            ],
            "text/plain": [
              "           cor\n",
              "True   Violeta\n",
              "True     Verde\n",
              "True  Vermelho"
            ]
          },
          "metadata": {
            "tags": []
          },
          "execution_count": 4
        }
      ]
    },
    {
      "cell_type": "markdown",
      "metadata": {
        "id": "fWgarBPGfXm5"
      },
      "source": [
        "**Acessando com *iloc***"
      ]
    },
    {
      "cell_type": "code",
      "metadata": {
        "colab": {
          "base_uri": "https://localhost:8080/"
        },
        "id": "4M_UXaUbfb9t",
        "outputId": "e74537c0-49d9-416f-9e35-71c6cc1fdd2f"
      },
      "source": [
        "df.iloc[1]"
      ],
      "execution_count": null,
      "outputs": [
        {
          "output_type": "execute_result",
          "data": {
            "text/plain": [
              "cor    Azul\n",
              "dtype: object"
            ]
          },
          "metadata": {
            "tags": []
          },
          "execution_count": 6
        }
      ]
    },
    {
      "cell_type": "code",
      "metadata": {
        "colab": {
          "base_uri": "https://localhost:8080/"
        },
        "id": "nQmqnzlz_qsp",
        "outputId": "8da9ae22-057d-4cb9-dad0-9b5b83ae9199"
      },
      "source": [
        "df.iloc[3]"
      ],
      "execution_count": null,
      "outputs": [
        {
          "output_type": "execute_result",
          "data": {
            "text/plain": [
              "cor    Vermelho\n",
              "dtype: object"
            ]
          },
          "metadata": {
            "tags": []
          },
          "execution_count": 7
        }
      ]
    },
    {
      "cell_type": "markdown",
      "metadata": {
        "id": "kdiLG_21gAFC"
      },
      "source": [
        "Uma observação importante é notar que as versões mais antigas do pandas não distinguiam entradas booleanas e entradas inteiras, portanto .iloc [True] retornaria o mesmo que .iloc [1]"
      ]
    },
    {
      "cell_type": "code",
      "metadata": {
        "colab": {
          "base_uri": "https://localhost:8080/"
        },
        "id": "cfaA43OfgHLO",
        "outputId": "4645d574-fce8-4853-965d-4e4feb31b358"
      },
      "source": [
        "df.iloc[1]"
      ],
      "execution_count": null,
      "outputs": [
        {
          "output_type": "execute_result",
          "data": {
            "text/plain": [
              "cor    Azul\n",
              "dtype: object"
            ]
          },
          "metadata": {
            "tags": []
          },
          "execution_count": 12
        }
      ]
    },
    {
      "cell_type": "code",
      "metadata": {
        "id": "WsWfh2t9_qj8"
      },
      "source": [
        "# Pagina 29"
      ],
      "execution_count": null,
      "outputs": []
    },
    {
      "cell_type": "code",
      "metadata": {
        "id": "FYTvoE-D_qbY"
      },
      "source": [],
      "execution_count": null,
      "outputs": []
    },
    {
      "cell_type": "code",
      "metadata": {
        "id": "yp5LXArc_pnG"
      },
      "source": [],
      "execution_count": null,
      "outputs": []
    },
    {
      "cell_type": "code",
      "metadata": {
        "id": "iBA5uGg7RKVV"
      },
      "source": [],
      "execution_count": null,
      "outputs": []
    },
    {
      "cell_type": "markdown",
      "metadata": {
        "id": "KNGZYYlGJjbS"
      },
      "source": [
        "#Biblioteca Matplotlib"
      ]
    },
    {
      "cell_type": "markdown",
      "metadata": {
        "id": "OkOWlYoJJqUM"
      },
      "source": [
        "A Biblioteca Matplotlib é utilizada para a representação gráfica de resultados obtidos por processamento e análise de dados. Permite gráficos simples e complexos."
      ]
    },
    {
      "cell_type": "code",
      "metadata": {
        "id": "wvCHVsk_Hvt1"
      },
      "source": [
        "import matplotlib.pyplot as plt\n",
        "import numpy as np"
      ],
      "execution_count": null,
      "outputs": []
    },
    {
      "cell_type": "code",
      "metadata": {
        "colab": {
          "base_uri": "https://localhost:8080/",
          "height": 265
        },
        "id": "RqbCmCeftGDy",
        "outputId": "3e4408a0-6110-4031-c848-e2d1b97b4d86"
      },
      "source": [
        "x = np.arange(-20,20,0.05) # variável independente, intervalo e passo\n",
        "y = (1 - np.exp(-x)) / (1 + np.exp(-x)) # função logística\n",
        "plt.plot(x,y)\n",
        "plt.show()\n"
      ],
      "execution_count": null,
      "outputs": [
        {
          "output_type": "display_data",
          "data": {
            "image/png": "[encoded data removed]",
            "text/plain": [
              "<Figure size 432x288 with 1 Axes>"
            ]
          },
          "metadata": {
            "tags": [],
            "needs_background": "light"
          }
        }
      ]
    },
    {
      "cell_type": "code",
      "metadata": {
        "colab": {
          "base_uri": "https://localhost:8080/",
          "height": 315
        },
        "id": "c6yaP72jqczK",
        "outputId": "13998349-6a55-4d7e-8e9c-b64eb8fd037d"
      },
      "source": [
        "# Incrementando elementos no gráfico\n",
        "plt.xlim(-20,20)\n",
        "plt.ylim(-1,1)\n",
        "plt.title('Função logística')\n",
        "plt.grid()\n",
        "plt.plot(x,y)\n",
        "plt.xlabel('X',fontsize=12)\n",
        "plt.ylabel('Y',fontsize=12)"
      ],
      "execution_count": null,
      "outputs": [
        {
          "output_type": "execute_result",
          "data": {
            "text/plain": [
              "Text(0, 0.5, 'Y')"
            ]
          },
          "metadata": {
            "tags": []
          },
          "execution_count": 88
        },
        {
          "output_type": "display_data",
          "data": {
            "image/png": "[encoded data removed]",
            "text/plain": [
              "<Figure size 432x288 with 1 Axes>"
            ]
          },
          "metadata": {
            "tags": [],
            "needs_background": "light"
          }
        }
      ]
    },
    {
      "cell_type": "markdown",
      "metadata": {
        "id": "FP1hM2kRN27b"
      },
      "source": [
        "**Gráficos de múltiplas linhas**"
      ]
    },
    {
      "cell_type": "code",
      "metadata": {
        "id": "mze3ABBMN9IS"
      },
      "source": [
        "l = np.linspace(-np.pi,np.pi,100)\n",
        "x = np.cos(l)\n",
        "y = np.sin(l)\n"
      ],
      "execution_count": null,
      "outputs": []
    },
    {
      "cell_type": "code",
      "metadata": {
        "colab": {
          "base_uri": "https://localhost:8080/",
          "height": 282
        },
        "id": "Ow0eOdsJlght",
        "outputId": "20e31892-e368-47cc-9923-c04906a6fef9"
      },
      "source": [
        "# Características do gráfico\n",
        "plt.plot(l,x,color='green',linewidth=2.0,linestyle='--',label='Cosseno')\n",
        "plt.plot(l,y,color='blue',linewidth=2.0,linestyle='-.',label='Seno')\n",
        "plt.legend()\n",
        "plt.show()\n",
        "plt.savefig('CossenoSeno.png')"
      ],
      "execution_count": null,
      "outputs": [
        {
          "output_type": "display_data",
          "data": {
            "image/png": "[encoded data removed]",
            "text/plain": [
              "<Figure size 432x288 with 1 Axes>"
            ]
          },
          "metadata": {
            "tags": [],
            "needs_background": "light"
          }
        },
        {
          "output_type": "display_data",
          "data": {
            "text/plain": [
              "<Figure size 432x288 with 0 Axes>"
            ]
          },
          "metadata": {
            "tags": []
          }
        }
      ]
    },
    {
      "cell_type": "markdown",
      "metadata": {
        "id": "EFGTx6-zQ3MU"
      },
      "source": [
        "#Biblioteca Scipy"
      ]
    },
    {
      "cell_type": "markdown",
      "source": [
        "Link de apoio a teoria da Biblioteca Scipy\n",
        "http://www.estruturas.ufpr.br/disciplinas/pos-graduacao/introducao-a-computacao-cientifica-com-python/introducao-python/capitulo-4-scipy/"
      ],
      "metadata": {
        "id": "pnHDBZNXyyF_"
      }
    },
    {
      "cell_type": "markdown",
      "source": [
        "A biblioteca **scipy** possui inúmeras ferramentas orientadas ao trabalho com problemas na área da computação científica. Apresenta diferentes módulos dedicados as aplicações como interpolação, integração, otimização, processamento de imagens, análises estatísticas, funções especiais entre outras.\n",
        "\n",
        "A biblioteca **SciPy** é comparável a bibliotecas de computação científica como a GSL (GNU Scientific Library para C e C + +), ou ferramentas do Matlab. **SciPy** é a biblioteca principal de rotinas científicas para a linguagem de programação Python, que tem a finalidade de eficientemente operar matrizes **numpy**, trabalhando ambas essas bibliotecas conjuntamente.\n",
        "\n",
        "É uma boa recomendação verificar antecipadamente o potencial da biblioteca **SciPy** antes de fazer algum desenvolvimento de código. Os cientistas de dados e profissionais não especializados em programação tendem a elaborar códigos que, muitas vezes acabam gerando problemas e erros dificultando o compartilhamento de código para colaborativamente, melhorarem o potencial de aplicação. Considere sempre que a biblioteca **SciPy** é otimizada testada exaustivamente e, sempre que possível, ser utilizada.\n",
        "\n",
        "Os principais módulos da biblioteca **SciPy** compreendem:\n",
        "\n",
        "1. File input/output: scipy.io\n",
        "2. Special functions: scipy.special\n",
        "3. Linear algebra operations: scipy.linalg\n",
        "4. Fast Fourier transforms: scipy.fftpack\n",
        "5. Optimization and fit: scipy.optimize\n",
        "6. Statistics and random numbers: scipy.stats\n",
        "7. Interpolation: scipy.interpolate\n",
        "8. Numerical integration: scipy.integrate\n",
        "9. Signal processing: scipy.signal\n",
        "10.Image processing: scipy.ndimage\n"
      ],
      "metadata": {
        "id": "SGNGDlxZzGKj"
      }
    },
    {
      "cell_type": "markdown",
      "source": [
        "1. [scipy.cluster](http://docs.scipy.org/doc/scipy/reference/cluster.html#scipy.cluster)\tQuantização de vetores (Kmean)\n",
        "2. [scipy.constants](http://docs.scipy.org/doc/scipy/reference/constants.html#scipy.constants)\tConstantes matemáticas e físicas\n",
        "3. [scipy.fftpack](http://docs.scipy.org/doc/scipy/reference/fftpack.html#scipy.fftpack)\tTranformada de Fourier\n",
        "4. [scipy.integrate](http://docs.scipy.org/doc/scipy/reference/integrate.html#scipy.integrate)\tRotinas de Integração\n",
        "5. [scipy.interpolate](http://docs.scipy.org/doc/scipy/reference/interpolate.html#scipy.interpolate)\tInterpolação\n",
        "6. [scipy.io](http://docs.scipy.org/doc/scipy/reference/io.html#scipy.io)\tEntrada e saída de dados\n",
        "7. [scipy.linalg](http://docs.scipy.org/doc/scipy/reference/linalg.html#scipy.linalg)\tRotinas de algebra linear\n",
        "8. [scipy.ndimage](http://docs.scipy.org/doc/scipy/reference/ndimage.html#scipy.ndimage)\tpacote para imagens n-dimensionais\n",
        "9. [scipy.odr](http://docs.scipy.org/doc/scipy/reference/odr.html#scipy.odr)\tRegrassão ortogonal de distância\n",
        "10. [scipy.optimize](http://docs.scipy.org/doc/scipy/reference/optimize.html#scipy.optimize)\tOtimização\n",
        "11. [scipy.signal](http://docs.scipy.org/doc/scipy/reference/signal.html#scipy.signal)\tProcessamento de sinal\n",
        "12. [scipy.sparse](http://docs.scipy.org/doc/scipy/reference/sparse.html#scipy.sparse)\tMatrizes esparsas\n",
        "13. [scipy.spatial](http://docs.scipy.org/doc/scipy/reference/spatial.html#scipy.spatial)\tEstruturas de dados espacial e algoritmos\n",
        "14. [scipy.special](http://docs.scipy.org/doc/scipy/reference/special.html#scipy.special)\tQualquer função matemática especial\n",
        "15. [scipy.stats](http://docs.scipy.org/doc/scipy/reference/stats.html#scipy.stats)\tEstatística"
      ],
      "metadata": {
        "id": "-ubQ5tA13vfS"
      }
    },
    {
      "cell_type": "code",
      "source": [
        "# Para usarmos o submódulo 'stats' devemos usar as seguintes linhas\n",
        "import numpy as np\n",
        "from scipy import stats  # o mesmo para outros submódulos"
      ],
      "metadata": {
        "id": "rPLLhO3j6SPp"
      },
      "execution_count": null,
      "outputs": []
    },
    {
      "cell_type": "markdown",
      "source": [
        "##Entrada e Saída de arquivos"
      ],
      "metadata": {
        "id": "MBQX5i646mtP"
      }
    },
    {
      "cell_type": "markdown",
      "source": [
        "###Carregando e salvando arquivos em MatLab"
      ],
      "metadata": {
        "id": "hLUEMwN77Ll5"
      }
    },
    {
      "cell_type": "code",
      "source": [
        "from scipy import io as spio\n",
        "a = np.ones((3, 3))\n",
        "spio.savemat('file.mat', {'a': a}) # savemat expects a dictionary\n",
        "data = spio.loadmat('file.mat', struct_as_record=True)\n",
        "data['a']"
      ],
      "metadata": {
        "id": "hS0m1zNN7Q_7"
      },
      "execution_count": null,
      "outputs": []
    },
    {
      "cell_type": "markdown",
      "source": [
        "###Carregando e salvando arquivos."
      ],
      "metadata": {
        "id": "GbF58D7y7TKG"
      }
    },
    {
      "cell_type": "markdown",
      "source": [
        "Recomenda-se o uso da biblioteca **Pandas** que permite a leitura de diferentes formatos e manipulação de campos nos arquivos de dados."
      ],
      "metadata": {
        "id": "zT5jfvsfH8vX"
      }
    },
    {
      "cell_type": "code",
      "source": [
        "# Exemplo de leitura de arquivo .csv com a biblioteca pandas\n",
        "import pandas as pd\n",
        "dados = pd.read_csv(\"nome_arquivo_dados.csv\")\n",
        "\n",
        "# Para salvar o arquivo em formato .csv, use a função 'to_csv(\"nome_arquivo_dados.csv\")\n",
        "dados_salvos = dados.to_csv(\"nome_arquivo_dados.csv\")"
      ],
      "metadata": {
        "id": "RMgcyukoIOpU"
      },
      "execution_count": null,
      "outputs": []
    },
    {
      "cell_type": "code",
      "source": [
        "# Para a leitura e armazenamento de imagens\n",
        "from scipy import misc\n",
        "misc.imread('fname.png') # leitura do arquivo imagem no formato .png\n",
        "\n",
        "# Matplotlib também possui uma função similar\n",
        "import matplotlib.pyplot as plt\n",
        "plt.imread('fname.png') # leitura do arquivo imagem no formato .png"
      ],
      "metadata": {
        "id": "AF_5Su2IJiGx"
      },
      "execution_count": null,
      "outputs": []
    },
    {
      "cell_type": "markdown",
      "source": [
        "##Cálculo do determinante de uma matriz"
      ],
      "metadata": {
        "id": "KyrysQ5SKtds"
      }
    },
    {
      "cell_type": "code",
      "source": [
        "from scipy import linalg\n",
        "arr = np.array([[1, 2],\n",
        "                [3, 4]])\n",
        "linalg.det(arr)\n",
        "\n",
        "arr = np.array([[3, 2],\n",
        "                [6, 4]])\n",
        "linalg.det(arr)\n",
        "linalg.det(np.ones((3, 4))) #erro"
      ],
      "metadata": {
        "id": "ZPDo230FKz3s"
      },
      "execution_count": null,
      "outputs": []
    },
    {
      "cell_type": "markdown",
      "source": [
        "##Cálculo da matriz inversa de uma matriz quadrada"
      ],
      "metadata": {
        "id": "C0upyjcKLMgI"
      }
    },
    {
      "cell_type": "code",
      "source": [
        "arr = np.array([[1, 2],\n",
        "                [3, 4]])\n",
        "iarr = linalg.inv(arr)\n",
        "iarr\n",
        "np.allclose(np.dot(arr, iarr), np.eye(2))"
      ],
      "metadata": {
        "id": "jgC7f7O-LTKj"
      },
      "execution_count": null,
      "outputs": []
    },
    {
      "cell_type": "markdown",
      "source": [
        "##Matrizes singulares (determinante igual a \"zero\", gera erro de determinação."
      ],
      "metadata": {
        "id": "FkRzfBRRLWoZ"
      }
    },
    {
      "cell_type": "code",
      "source": [
        "arr = np.array([[1, 2],\n",
        "                [3, 4]])\n",
        "iarr = linalg.inv(arr)\n",
        "iarr\n",
        "np.allclose(np.dot(arr, iarr), np.eye(2))"
      ],
      "metadata": {
        "id": "okPhBOZ0LoWO"
      },
      "execution_count": null,
      "outputs": []
    },
    {
      "cell_type": "markdown",
      "source": [
        "##Decomposição por valores singulares"
      ],
      "metadata": {
        "id": "H8iBGY1xLx0f"
      }
    },
    {
      "cell_type": "code",
      "source": [
        "arr = np.arange(9).reshape((3, 3)) + np.diag([1, 0, 1])\n",
        "uarr, spec, vharr = linalg.svd(arr)"
      ],
      "metadata": {
        "id": "5DCR3JahL1RN"
      },
      "execution_count": null,
      "outputs": []
    },
    {
      "cell_type": "markdown",
      "source": [
        "O espectro resultante é o array 'spec'."
      ],
      "metadata": {
        "id": "Qo78MieOL92G"
      }
    },
    {
      "cell_type": "code",
      "source": [
        "spec"
      ],
      "metadata": {
        "id": "ul0eHektMDVz"
      },
      "execution_count": null,
      "outputs": []
    },
    {
      "cell_type": "markdown",
      "source": [
        "A matriz original por ser recomposta através da multiplicação das saídas de svd com np.dot:"
      ],
      "metadata": {
        "id": "2YeGtC7OME9J"
      }
    },
    {
      "cell_type": "code",
      "source": [
        "sarr = np.diag(spec)\n",
        "svd_mat = uarr.dot(sarr).dot(vharr)\n",
        "np.allclose(svd_mat, arr)"
      ],
      "metadata": {
        "id": "pRArgSAdMOYy"
      },
      "execution_count": null,
      "outputs": []
    },
    {
      "cell_type": "markdown",
      "source": [
        "A SVD (Decomposição de Valores Singulares) é comumente usada em estatística e processamento de sinais. Outras decomposições padrão (QR, LU, Cholesky, Schur), bem como solvers para sistemas lineares, estão disponíveis no [scipy.linalg](http://docs.scipy.org/doc/scipy/reference/linalg.html#scipy.linalg)."
      ],
      "metadata": {
        "id": "vha6-lO_MesY"
      }
    },
    {
      "cell_type": "markdown",
      "source": [
        "##Transformada Rápida de Fourier"
      ],
      "metadata": {
        "id": "seirpV6RPD37"
      }
    },
    {
      "cell_type": "markdown",
      "source": [
        "O módulo **scipy.fftpack** permite calcular transformada rápida de Fourier. O código abaixo pode representar/parecer um sinal de entrada (barulhento):"
      ],
      "metadata": {
        "id": "nDG6fCJWPWr8"
      }
    },
    {
      "cell_type": "code",
      "source": [
        "time_step = 0.025\n",
        "period = 5.\n",
        "time_vec = np.arange(0, 20, time_step)\n",
        "sig = np.sin(2 * np.pi / period * time_vec) + \\\n",
        "             0.5 * np.random.randn(time_vec.size)"
      ],
      "metadata": {
        "id": "TokUjY0APIiO"
      },
      "execution_count": null,
      "outputs": []
    },
    {
      "cell_type": "markdown",
      "source": [
        "O observador não conhece a frequência do sinal mas, apenas o passo do tempo de amostragem do sinal *sig*. O sinal é supostamente vindo de uma função real, de modo que a transformada de Fourier seja simétrica. A função **scipy.fftpack.fftfreq()** irá gerar as frequências de amostragem e **scipy.fftpack.fft()** irá calcular a transformada rápida de Fourier:"
      ],
      "metadata": {
        "id": "lOhygWxHPP2b"
      }
    },
    {
      "cell_type": "code",
      "source": [
        "from scipy import fftpack\n",
        "sample_freq = fftpack.fftfreq(sig.size, d=time_step)\n",
        "sig_fft = fftpack.fft(sig)"
      ],
      "metadata": {
        "id": "319Mtbh2MVb5"
      },
      "execution_count": null,
      "outputs": []
    },
    {
      "cell_type": "markdown",
      "source": [
        "Como a energia resultante é simétrica, usa-se apenas a parte positiva do espectro para encontrar a frequência:"
      ],
      "metadata": {
        "id": "YELArzi7Qdi5"
      }
    },
    {
      "cell_type": "code",
      "source": [
        "pidxs = np.where(sample_freq > 0)\n",
        "freqs = sample_freq[pidxs]\n",
        "power = np.abs(sig_fft)[pidxs]"
      ],
      "metadata": {
        "id": "ruNUi-nAQYpm"
      },
      "execution_count": null,
      "outputs": []
    },
    {
      "cell_type": "markdown",
      "source": [
        "Para desenhar usamos o **matplotlib**."
      ],
      "metadata": {
        "id": "A9db6l2pQ0od"
      }
    },
    {
      "cell_type": "code",
      "source": [
        "pl.figure()\n",
        "pl.plot(freqs, power)\n",
        "pl.xlabel('Frequencia [Hz]')\n",
        "pl.ylabel('Energia')\n",
        "axes = pl.axes([0.3, 0.3, 0.5, 0.5])\n",
        "pl.title('Pico de frequência')\n",
        "pl.plot(freqs[:8], power[:8])\n",
        "pl.setp(axes, yticks=[])"
      ],
      "metadata": {
        "id": "Zt0zU5VEQvlp"
      },
      "execution_count": null,
      "outputs": []
    },
    {
      "cell_type": "markdown",
      "source": [
        "A frequência do sinal pode ser encontrada com:"
      ],
      "metadata": {
        "id": "0YlJkbITRHmH"
      }
    },
    {
      "cell_type": "code",
      "source": [
        "freq = freqs[power.argmax()]\n",
        "np.allclose(freq, 1./period)  # verifica se aquela frequência correta é encontrada"
      ],
      "metadata": {
        "id": "KIuk7DNERKe4"
      },
      "execution_count": null,
      "outputs": []
    },
    {
      "cell_type": "markdown",
      "source": [
        "Para remover o ruído de alta frequência será remove-se a partir do sinal da transformada de Fourier:"
      ],
      "metadata": {
        "id": "S4-pGpwYRd_b"
      }
    },
    {
      "cell_type": "code",
      "source": [
        "sig_fft[np.abs(sample_freq) > freq] = 0"
      ],
      "metadata": {
        "id": "CfnWPrLKLpy_"
      },
      "execution_count": null,
      "outputs": []
    },
    {
      "cell_type": "markdown",
      "source": [
        "O sinal filtrado resultante, pode ser determinado usando a função **scipy.fftpack.ifft()**:\n",
        "\n"
      ],
      "metadata": {
        "id": "7QRhef83R7ZW"
      }
    },
    {
      "cell_type": "code",
      "source": [
        "ain_sig = fftpack.ifft(sig_fft)"
      ],
      "metadata": {
        "id": "36lXlc-pSK8n"
      },
      "execution_count": null,
      "outputs": []
    },
    {
      "cell_type": "markdown",
      "source": [
        "Para visualizar o resultado:"
      ],
      "metadata": {
        "id": "9jO9-h8lSV8m"
      }
    },
    {
      "cell_type": "code",
      "source": [
        "import pylab as plt\n",
        "\n",
        "plt.figure()\n",
        "plt.plot(time_vec, sig)\n",
        "plt.plot(time_vec, main_sig, linewidth=3)\n",
        "plt.xlabel('Tempo [s]')\n",
        "plt.ylabel('Amplitude')"
      ],
      "metadata": {
        "id": "YIS_33HtLVan"
      },
      "execution_count": null,
      "outputs": []
    },
    {
      "cell_type": "markdown",
      "source": [
        "##Otimização e ajustes"
      ],
      "metadata": {
        "id": "AD8vhnLyTkce"
      }
    },
    {
      "cell_type": "markdown",
      "source": [
        "Otimizar é encontrar uma solução numérica para a minimização ou a igualdade. O módulo **scipy.optimize** disponibiliza algoritmos úteis para a função de minimização (escalar ou multi-dimensional)ajuste de curva e descoberta de raizes."
      ],
      "metadata": {
        "id": "8cY5hmukTuiH"
      }
    },
    {
      "cell_type": "code",
      "source": [
        "from scipy import optimize"
      ],
      "metadata": {
        "id": "jsfmo8GTTsLZ"
      },
      "execution_count": null,
      "outputs": []
    },
    {
      "cell_type": "markdown",
      "source": [
        "###Encontrar o mínimo de uma função escalar"
      ],
      "metadata": {
        "id": "yhhtoIbqUOtI"
      }
    },
    {
      "cell_type": "code",
      "source": [
        "# Definindo-se uma função\n",
        "def f(x):\n",
        "    return x**2 + 10*np.sin(x)"
      ],
      "metadata": {
        "id": "g3Hw7ebQUcAh"
      },
      "execution_count": null,
      "outputs": []
    },
    {
      "cell_type": "markdown",
      "source": [
        "###Fazer a representação gráfica"
      ],
      "metadata": {
        "id": "LYtfCwFTUlR2"
      }
    },
    {
      "cell_type": "code",
      "source": [
        "x = np.arange(-10, 10, 0.1)\n",
        "plt.plot(x, f(x))\n",
        "plt.show()"
      ],
      "metadata": {
        "id": "4Xb4aPpuUpSX"
      },
      "execution_count": null,
      "outputs": []
    },
    {
      "cell_type": "markdown",
      "source": [
        "Essa função tem um mínimo global em torno de -1,3 e um mínimo local em torno de 3,8. A forma geral e eficiente para encontrar um mínimo para esta função é a condução de um gradiente descendente a partir de um determinado ponto inicial. O algoritmo BFGS é uma boa maneira de fazer isso:"
      ],
      "metadata": {
        "id": "LM8UnkKXUxRu"
      }
    },
    {
      "cell_type": "code",
      "source": [
        "optimize.fmin_bfgs(f, 0)"
      ],
      "metadata": {
        "id": "dSXrIqSbU943"
      },
      "execution_count": null,
      "outputs": []
    },
    {
      "cell_type": "markdown",
      "source": [
        "Um possível problema com esta abordagem é que, se a função tem mínimos locais o algoritmo pode encontrar estes mínimos locais, em vez de o mínimo global, dependendo do ponto inicial:"
      ],
      "metadata": {
        "id": "9mSmbPdQU5hm"
      }
    },
    {
      "cell_type": "code",
      "source": [
        "optimize.fmin_bfgs(f, 3, disp=0)"
      ],
      "metadata": {
        "id": "7PsbbpxoUrUL"
      },
      "execution_count": null,
      "outputs": []
    },
    {
      "cell_type": "markdown",
      "source": [
        "Se não sabemos a vizinhança do mínimo global para escolher o ponto inicial, é preciso recorrer a uma otimização global mais cara. Para determinar o mínimo global, o algoritmo mais simples é o algoritmo de força bruta, em que a função é avaliada em cada ponto de uma determinada rede:"
      ],
      "metadata": {
        "id": "YhhLS7DhVIc8"
      }
    },
    {
      "cell_type": "code",
      "source": [
        "grid = (-10, 10, 0.1)\n",
        "xmin_global = optimize.brute(f, (grid,))\n",
        "xmin_global"
      ],
      "metadata": {
        "id": "uJfc3KtHK7wG"
      },
      "execution_count": null,
      "outputs": []
    },
    {
      "cell_type": "markdown",
      "source": [
        "Para maiores tamanhos de grades, **scipy.optimize.brute()** torna-se bastante lento. **scipy.optimize.anneal()** fornece uma alternativa, usando arrefecimento simulado (simulated annealing). Algoritmos mais eficientes para diferentes classes de problemas de otimização global existem, mas estão fora do escopo do **scipy**. Alguns pacotes úteis para a otimização global são OpenOpt, IPOPT, PyGMO e PyEvolve.\n",
        "\n",
        "Para encontrar o mínimo local, vamos restringir a variável no intervalo (0, 10) usando **scipy.optimize.fminbound()**:"
      ],
      "metadata": {
        "id": "UmjwQJftVR5M"
      }
    },
    {
      "cell_type": "code",
      "source": [
        "xmin_local = optimize.fminbound(f, 0, 10)\n",
        "xmin_local"
      ],
      "metadata": {
        "id": "Gj5F3bUEJ6L5"
      },
      "execution_count": null,
      "outputs": []
    },
    {
      "cell_type": "markdown",
      "source": [
        "###Encontrar as raízes de uma função escalar"
      ],
      "metadata": {
        "id": "c6oaXE1LV1mt"
      }
    },
    {
      "cell_type": "markdown",
      "source": [
        "Para encontrar uma raiz, ou seja, um ponto em que f (x) = 0, da função f acima, podemos usar, por exemplo **scipy.optimize.fsolve()**:"
      ],
      "metadata": {
        "id": "y5jN9g_PWHKk"
      }
    },
    {
      "cell_type": "code",
      "source": [
        "root = optimize.fsolve(f, 1)  # o chute inicial é 1\n",
        "root"
      ],
      "metadata": {
        "id": "HF1_jhJPV_R7"
      },
      "execution_count": null,
      "outputs": []
    },
    {
      "cell_type": "markdown",
      "source": [
        "Note que apenas uma raiz é encontrada. Inspecionando o enredo, f revela que há uma segunda raiz em torno de -2,5. Nós encontramos o valor exato do mesmo, ajustando a nossa suposição inicial:"
      ],
      "metadata": {
        "id": "luf0dqqEWShQ"
      }
    },
    {
      "cell_type": "code",
      "source": [
        "root2 = optimize.fsolve(f, -2.5)\n",
        "root2"
      ],
      "metadata": {
        "id": "-a0MrPUJJU5i"
      },
      "execution_count": null,
      "outputs": []
    },
    {
      "cell_type": "markdown",
      "source": [
        "###Ajuste de curvas"
      ],
      "metadata": {
        "id": "TLr_F83jYEqJ"
      }
    },
    {
      "cell_type": "markdown",
      "source": [
        "Suponha que tenhamos dados amostrados de f com algum ruído:\n",
        "\n"
      ],
      "metadata": {
        "id": "Uv635ZkIYNin"
      }
    },
    {
      "cell_type": "code",
      "source": [
        "xdata = np.linspace(-10, 10, num=20)\n",
        "ydata = f(xdata) + np.random.randn(xdata.size)"
      ],
      "metadata": {
        "id": "1Ov2j96fYPcX"
      },
      "execution_count": null,
      "outputs": []
    },
    {
      "cell_type": "markdown",
      "source": [
        "Agora, se sabemos a forma funcional da função a partir da qual as amostras foram retiradas *(x ^ 2 + sin (x)*, mas não as amplitudes dos termos, podemos encontrar aqueles por mínimos quadrados do ajuste de curva. Primeiro temos que definir a função para ajustar:"
      ],
      "metadata": {
        "id": "yJDE1NOhYV9o"
      }
    },
    {
      "cell_type": "code",
      "source": [
        "# Dada a seguinte função\n",
        "def f2(x, a, b):\n",
        "    return a*x**2 + b*np.sin(x)"
      ],
      "metadata": {
        "id": "3tfxm9JNYbT9"
      },
      "execution_count": null,
      "outputs": []
    },
    {
      "cell_type": "markdown",
      "source": [
        "Então, para encontrarmos **a** e **b** usamos **scipy.optimize.curve_fit()**:"
      ],
      "metadata": {
        "id": "KPwQpmewYhu0"
      }
    },
    {
      "cell_type": "code",
      "source": [
        "guess = [2, 2]\n",
        "params, params_covariance = optimize.curve_fit(f2, xdata, ydata, guess)\n",
        "params"
      ],
      "metadata": {
        "id": "4lkTuwhmYoAO"
      },
      "execution_count": null,
      "outputs": []
    },
    {
      "cell_type": "markdown",
      "source": [
        "Agora, encontramos os mínimos e raízes de **f** e utilizamos o ajuste de curva neles. Colocamos todos esses resultados juntos em um único gráfico:"
      ],
      "metadata": {
        "id": "PC_XEcLWYuJq"
      }
    },
    {
      "cell_type": "code",
      "source": [
        "import numpy as np\n",
        "from scipy import optimize\n",
        "import matplotlib.pyplot as plt\n",
        "\n",
        "x = np.arange(-10, 10, 0.1)\n",
        "def f(x):\n",
        "    return x**2 + 10*np.sin(x)\n",
        "\n",
        "grid = (-10, 10, 0.1)\n",
        "xmin_global = optimize.brute(f, (grid,))\n",
        "xmin_local = optimize.fminbound(f, 0, 10)\n",
        "root = optimize.fsolve(f, 1)  # chute inicial é 1\n",
        "root2 = optimize.fsolve(f, -2.5)\n",
        "\n",
        "xdata = np.linspace(-10, 10, num=20)\n",
        "np.random.seed(1234)\n",
        "ydata = f(xdata) + np.random.randn(xdata.size)\n",
        "\n",
        "def f2(x, a, b):\n",
        "    return a*x**2 + b*np.sin(x)\n",
        "\n",
        "guess = [2, 2]\n",
        "params, params_covariance = optimize.curve_fit(f2, xdata, ydata, guess)\n",
        "\n",
        "fig = plt.figure()\n",
        "ax = fig.add_subplot(111)\n",
        "ax.plot(x, f(x), 'b-', label=\"f(x)\")\n",
        "ax.plot(x, f2(x, *params), 'r--', label=\"Resultado do Ajuste de Curva\")\n",
        "xmins = np.array([xmin_global[0], xmin_local])\n",
        "ax.plot(xmins, f(xmins), 'go', label=\"Minimo\")\n",
        "roots = np.array([root, root2])\n",
        "ax.plot(roots, f(roots), 'kv', label=\"Raizes\")\n",
        "ax.legend()\n",
        "ax.set_xlabel('x')\n",
        "ax.set_ylabel('f(x)')"
      ],
      "metadata": {
        "id": "PSid08-0Yx3n"
      },
      "execution_count": null,
      "outputs": []
    },
    {
      "cell_type": "markdown",
      "source": [
        "Na biblioteca **scipy** podemos encontrar algoritmos com as mesmas funcionalidades para problemas multi-dimensionais em **scipy.optimize**."
      ],
      "metadata": {
        "id": "ntC58QZfY-If"
      }
    },
    {
      "cell_type": "code",
      "source": [],
      "metadata": {
        "id": "i5jUh_pv7YZV"
      },
      "execution_count": null,
      "outputs": []
    },
    {
      "cell_type": "code",
      "source": [],
      "metadata": {
        "id": "KKNZHIsn63lc"
      },
      "execution_count": null,
      "outputs": []
    },
    {
      "cell_type": "code",
      "source": [],
      "metadata": {
        "id": "we9PHwfU6blP"
      },
      "execution_count": null,
      "outputs": []
    },
    {
      "cell_type": "code",
      "metadata": {
        "id": "yEb7CN0BQ9z_"
      },
      "source": [],
      "execution_count": null,
      "outputs": []
    },
    {
      "cell_type": "code",
      "metadata": {
        "id": "fhSGbU1wlgTB"
      },
      "source": [],
      "execution_count": null,
      "outputs": []
    },
    {
      "cell_type": "code",
      "metadata": {
        "id": "zLTEw6Oxj2fH"
      },
      "source": [],
      "execution_count": null,
      "outputs": []
    },
    {
      "cell_type": "code",
      "metadata": {
        "id": "nzTeNBQeiixL"
      },
      "source": [],
      "execution_count": null,
      "outputs": []
    },
    {
      "cell_type": "code",
      "metadata": {
        "id": "F4DAOMWdiioj"
      },
      "source": [],
      "execution_count": null,
      "outputs": []
    },
    {
      "cell_type": "code",
      "metadata": {
        "id": "w6oRgDe5iiZi"
      },
      "source": [],
      "execution_count": null,
      "outputs": []
    },
    {
      "cell_type": "code",
      "metadata": {
        "id": "jlA9tKrbg69s"
      },
      "source": [],
      "execution_count": null,
      "outputs": []
    },
    {
      "cell_type": "code",
      "metadata": {
        "id": "wXNPOODlg65d"
      },
      "source": [],
      "execution_count": null,
      "outputs": []
    },
    {
      "cell_type": "code",
      "metadata": {
        "id": "YDA5Ew_9g6w9"
      },
      "source": [],
      "execution_count": null,
      "outputs": []
    },
    {
      "cell_type": "code",
      "metadata": {
        "id": "ztOo6bQoNSHr"
      },
      "source": [],
      "execution_count": null,
      "outputs": []
    },
    {
      "cell_type": "markdown",
      "metadata": {
        "id": "Y0yrGchCMnwU"
      },
      "source": []
    }
  ]
}