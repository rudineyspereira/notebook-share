{
  "nbformat": 4,
  "nbformat_minor": 5,
  "metadata": {
    "kernelspec": {
      "display_name": "Python 3",
      "language": "python",
      "name": "python3"
    },
    "language_info": {
      "codemirror_mode": {
        "name": "ipython",
        "version": 3
      },
      "file_extension": ".py",
      "mimetype": "text/x-python",
      "name": "python",
      "nbconvert_exporter": "python",
      "pygments_lexer": "ipython3",
      "version": "3.8.8"
    },
    "colab": {
      "name": "Introdução Analise de Dados.ipynb",
      "provenance": []
    }
  },
  "cells": [
    {
      "cell_type": "markdown",
      "metadata": {
        "id": "df306028"
      },
      "source": [
        "# Introdução a Análise de Dados\n",
        "\n",
        "### Como funciona um Projeto de Análise de Dados?\n",
        "\n",
        "Os projetos de Análise de Dados são na verdade Desafios das Empresas\n",
        "\n",
        "### Desafio\n",
        "\n",
        "- Empresa Vende Bermudas\n",
        "- 5 Lojas\n",
        "- Está querendo aumentar as vendas\n",
        "- O que fazer?\n",
        "- Informações Disponíveis: Base de Vendas"
      ],
      "id": "df306028"
    },
    {
      "cell_type": "markdown",
      "metadata": {
        "id": "29acec1f"
      },
      "source": [
        "### Passo 1 - Trazer sua base de dados para o Python e ver o que tem nela"
      ],
      "id": "29acec1f"
    },
    {
      "cell_type": "code",
      "metadata": {
        "id": "194777c9"
      },
      "source": [
        ""
      ],
      "id": "194777c9",
      "execution_count": null,
      "outputs": []
    },
    {
      "cell_type": "markdown",
      "metadata": {
        "id": "578672e0"
      },
      "source": [
        "### Passo 2 - Pegar um panorama geral sobre a sua base de dados"
      ],
      "id": "578672e0"
    },
    {
      "cell_type": "code",
      "metadata": {
        "id": "037ce3ca"
      },
      "source": [
        ""
      ],
      "id": "037ce3ca",
      "execution_count": null,
      "outputs": []
    },
    {
      "cell_type": "markdown",
      "metadata": {
        "id": "bef847a6"
      },
      "source": [
        "### Passo 3 - Começar sua análise Top -> Down"
      ],
      "id": "bef847a6"
    },
    {
      "cell_type": "code",
      "metadata": {
        "id": "9a740aa7"
      },
      "source": [
        ""
      ],
      "id": "9a740aa7",
      "execution_count": null,
      "outputs": []
    },
    {
      "cell_type": "markdown",
      "metadata": {
        "id": "335db628"
      },
      "source": [
        "### Passo 4 - Entrar no detalhe pra entender"
      ],
      "id": "335db628"
    },
    {
      "cell_type": "code",
      "metadata": {
        "id": "874c99bc"
      },
      "source": [
        ""
      ],
      "id": "874c99bc",
      "execution_count": null,
      "outputs": []
    }
  ]
}